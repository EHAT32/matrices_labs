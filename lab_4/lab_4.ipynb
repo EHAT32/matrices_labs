{
 "cells": [
  {
   "cell_type": "code",
   "execution_count": 1,
   "metadata": {},
   "outputs": [],
   "source": [
    "import numpy as np\n",
    "from mat import *"
   ]
  },
  {
   "cell_type": "code",
   "execution_count": 2,
   "metadata": {},
   "outputs": [],
   "source": [
    "N = 5\n",
    "A = FullMatrix.zero(N, N, 0)"
   ]
  },
  {
   "cell_type": "code",
   "execution_count": 3,
   "metadata": {},
   "outputs": [
    {
     "name": "stdout",
     "output_type": "stream",
     "text": [
      "| 5 8 5 8 2 |\n",
      "| 1 1 8 8 2 |\n",
      "| 4 5 8 1 3 |\n",
      "| 5 4 8 2 4 |\n",
      "| 4 2 5 5 4 |\n"
     ]
    }
   ],
   "source": [
    "for i in range(N):\n",
    "    for j in range(N):\n",
    "        A[i, j] = Fraction(np.random.randint(1, 9))\n",
    "print(A)"
   ]
  },
  {
   "cell_type": "code",
   "execution_count": 4,
   "metadata": {},
   "outputs": [
    {
     "data": {
      "text/plain": [
       "(| 0 0 0 0 0 |\n",
       " | 0 0 0 0 0 |\n",
       " | 0 0 0 0 0 |\n",
       " | 0 0 0 0 0 |\n",
       " | 0 0 0 0 0 |,\n",
       " | 0.0 0.0 0.0 0.0 0.0 |\n",
       " | 0.0 0.0 0.0 0.0 0.0 |\n",
       " | 0.0 0.0 0.0 0.0 0.0 |\n",
       " | 0.0 0.0 0.0 0.0 0.0 |\n",
       " | 0.0 0.0 0.0 0.0 0.0 |)"
      ]
     },
     "execution_count": 4,
     "metadata": {},
     "output_type": "execute_result"
    }
   ],
   "source": [
    "A.qr()"
   ]
  }
 ],
 "metadata": {
  "kernelspec": {
   "display_name": "base",
   "language": "python",
   "name": "python3"
  },
  "language_info": {
   "codemirror_mode": {
    "name": "ipython",
    "version": 3
   },
   "file_extension": ".py",
   "mimetype": "text/x-python",
   "name": "python",
   "nbconvert_exporter": "python",
   "pygments_lexer": "ipython3",
   "version": "3.8.5"
  },
  "orig_nbformat": 4
 },
 "nbformat": 4,
 "nbformat_minor": 2
}
