{
 "cells": [
  {
   "cell_type": "code",
   "execution_count": 1,
   "metadata": {},
   "outputs": [
    {
     "name": "stdout",
     "output_type": "stream",
     "text": [
      "[[-4  1  1  1  0  0  1  0  0]\n",
      " [ 1 -4  1  0  1  0  0  1  0]\n",
      " [ 1  1 -4  0  0  1  0  0  1]\n",
      " [ 1  0  0 -4  1  1  1  0  0]\n",
      " [ 0  1  0  1 -4  1  0  1  0]\n",
      " [ 0  0  1  1  1 -4  0  0  1]\n",
      " [ 1  0  0  1  0  0 -4  1  1]\n",
      " [ 0  1  0  0  1  0  1 -4  1]\n",
      " [ 0  0  1  0  0  1  1  1 -4]]\n",
      "[[[[-4  1  1]\n",
      "   [ 1  0  0]\n",
      "   [ 1  0  0]]\n",
      "\n",
      "  [[ 1 -4  1]\n",
      "   [ 0  1  0]\n",
      "   [ 0  1  0]]\n",
      "\n",
      "  [[ 1  1 -4]\n",
      "   [ 0  0  1]\n",
      "   [ 0  0  1]]]\n",
      "\n",
      "\n",
      " [[[ 1  0  0]\n",
      "   [-4  1  1]\n",
      "   [ 1  0  0]]\n",
      "\n",
      "  [[ 0  1  0]\n",
      "   [ 1 -4  1]\n",
      "   [ 0  1  0]]\n",
      "\n",
      "  [[ 0  0  1]\n",
      "   [ 1  1 -4]\n",
      "   [ 0  0  1]]]\n",
      "\n",
      "\n",
      " [[[ 1  0  0]\n",
      "   [ 1  0  0]\n",
      "   [-4  1  1]]\n",
      "\n",
      "  [[ 0  1  0]\n",
      "   [ 0  1  0]\n",
      "   [ 1 -4  1]]\n",
      "\n",
      "  [[ 0  0  1]\n",
      "   [ 0  0  1]\n",
      "   [ 1  1 -4]]]]\n",
      "[nan 0.  inf 0.  inf 0.5 inf 0.5 inf]\n"
     ]
    },
    {
     "name": "stderr",
     "output_type": "stream",
     "text": [
      "d:\\python\\matrices_labs\\lab_3\\mat.py:548: RuntimeWarning: divide by zero encountered in divide\n",
      "  print(abs((x_appr - x_true) / x_true))\n",
      "d:\\python\\matrices_labs\\lab_3\\mat.py:548: RuntimeWarning: invalid value encountered in divide\n",
      "  print(abs((x_appr - x_true) / x_true))\n"
     ]
    }
   ],
   "source": [
    "import numpy as np\n",
    "from mat import *\n",
    "import matplotlib.pyplot as plt"
   ]
  },
  {
   "attachments": {},
   "cell_type": "markdown",
   "metadata": {},
   "source": [
    "## Задания\n",
    "\n",
    "1. Убедитесь, что матрица $A$ является (1) блочной матрицей Теплица, (2) блочной ленточной матрицей, (3) симметрической\n",
    "матрицей, (4) неположительно определенной матрицей. Какие алгоритмы можно использовать для специальных матриц такого вида?\n",
    "\n",
    "2. Реализуйте алгоритм Левинсона для блочных матриц (можно воспользоваться классами для блочных матриц из прошлой лабораторной). Как можно усовершенствовать алгоритм для ленточных матриц и для симметрических матриц? Решите уравнение Пуассона решателем линейных систем с блочными ленточными симметрическими матрицами Теплица. В качестве правой части системы возьмите $f(x,y)=\\cos \\pi x\\cos \\pi y$. Оцените точность решения.\n",
    "Оцените сложность полученного алгоритма по времени."
   ]
  },
  {
   "attachments": {},
   "cell_type": "markdown",
   "metadata": {},
   "source": [
    "### 1"
   ]
  },
  {
   "cell_type": "code",
   "execution_count": 2,
   "metadata": {},
   "outputs": [
    {
     "name": "stdout",
     "output_type": "stream",
     "text": [
      "A:\n",
      "1.0 5.0 3.0 9.0 10.0\n",
      "5.0 1.0 5.0 3.0 9.0\n",
      "3.0 5.0 1.0 5.0 3.0\n",
      "9.0 3.0 5.0 1.0 5.0\n",
      "10.0 9.0 3.0 5.0 1.0\n",
      "y: \n",
      "[4. 4. 4. 4. 6.]\n",
      "after levinson:\n",
      "[4. 4. 4. 4. 6.]\n"
     ]
    }
   ],
   "source": [
    "y = np.array([4., 4., 4., 4., 6.])\n",
    "vals = np.array([1., 5., 3., 9., 10.])\n",
    "A = ToeplitzMatrix(vals)\n",
    "print('A:')\n",
    "print(A)\n",
    "x = A.levinson(y)\n",
    "print('y: ')\n",
    "print(y)\n",
    "\n",
    "print('after levinson:')\n",
    "print(A.data_mat().dot(x))"
   ]
  },
  {
   "attachments": {},
   "cell_type": "markdown",
   "metadata": {},
   "source": [
    "Работает!!!"
   ]
  },
  {
   "attachments": {},
   "cell_type": "markdown",
   "metadata": {},
   "source": [
    "Теперь уравнение Пуассона, зададим систему"
   ]
  },
  {
   "cell_type": "code",
   "execution_count": 3,
   "metadata": {},
   "outputs": [],
   "source": [
    "def D(n=4):\n",
    "    mat = Laplace2D(n=n).m\n",
    "\n",
    "    return ToeplitzMatrix(mat[0, :])\n",
    "\n",
    "f = lambda x, y: np.cos(np.pi * x) * np.cos(np.pi * y)\n",
    "\n",
    "def y_n_x(n=4):\n",
    "    points = np.linspace(-1, 1, n)\n",
    "    x = np.ravel([[f(x, y) for x in points] for y in points])\n",
    "    x -= np.sum(x)\n",
    "    d = D(n=n).data_mat()\n",
    "    y = d.dot(x.T)\n",
    "    return y, x\n"
   ]
  },
  {
   "cell_type": "code",
   "execution_count": 4,
   "metadata": {},
   "outputs": [
    {
     "data": {
      "text/plain": [
       "Text(0.5, 1.0, 'Относительная ошибка решения в каждой точке')"
      ]
     },
     "execution_count": 4,
     "metadata": {},
     "output_type": "execute_result"
    },
    {
     "data": {
      "image/png": "[encoded data removed]",
      "text/plain": [
       "<Figure size 432x288 with 1 Axes>"
      ]
     },
     "metadata": {
      "needs_background": "light"
     },
     "output_type": "display_data"
    }
   ],
   "source": [
    "n = 8\n",
    "\n",
    "d = D(n)\n",
    "y_right, x = y_n_x(n)\n",
    "\n",
    "res = d.levinson(y_right)\n",
    "\n",
    "plt.scatter(np.arange(n**2), np.abs((res - x)), s = 7)\n",
    "plt.yscale('log')\n",
    "plt.title('Относительная ошибка решения в каждой точке')"
   ]
  },
  {
   "attachments": {},
   "cell_type": "markdown",
   "metadata": {},
   "source": [
    "## Фурье"
   ]
  },
  {
   "cell_type": "code",
   "execution_count": 34,
   "metadata": {},
   "outputs": [],
   "source": [
    "N = 30\n",
    "laplace = Laplace2D(N)\n",
    "laplace_ = laplace.m.reshape((N, N, N, N))\n",
    "F_laplace  = np.fft.ifft2(np.fft.fft2(laplace_, axes=[0, 1]), axes=[2, 3])"
   ]
  },
  {
   "cell_type": "code",
   "execution_count": 46,
   "metadata": {},
   "outputs": [],
   "source": [
    "f = lambda x, y: np.cos(np.pi * x) * np.cos(np.pi * y)"
   ]
  },
  {
   "cell_type": "code",
   "execution_count": 47,
   "metadata": {},
   "outputs": [
    {
     "name": "stderr",
     "output_type": "stream",
     "text": [
      "<ipython-input-47-8a9c8c6e3d4a>:7: RuntimeWarning: divide by zero encountered in divide\n",
      "  F_x = np.ravel(F_y) / diagonal\n",
      "<ipython-input-47-8a9c8c6e3d4a>:7: RuntimeWarning: invalid value encountered in divide\n",
      "  F_x = np.ravel(F_y) / diagonal\n"
     ]
    }
   ],
   "source": [
    "vals = np.linspace(-1, 1, N)\n",
    "x_true = np.array([[f(x, y) for x in vals] for y in vals])\n",
    "x_true -= np.sum(x_true)\n",
    "y = laplace.m.dot(np.ravel(x_true).T)\n",
    "F_y = np.fft.fft2(y_right.reshape((N, N)))\n",
    "diagonal = np.array([F_laplace.reshape((N**2, N**2))[i, i] for i in range(N**2)])\n",
    "F_x = np.ravel(F_y) / diagonal\n",
    "F_x[0] = 0"
   ]
  },
  {
   "cell_type": "code",
   "execution_count": 48,
   "metadata": {},
   "outputs": [
    {
     "name": "stderr",
     "output_type": "stream",
     "text": [
      "No handles with labels found to put in legend.\n"
     ]
    },
    {
     "data": {
      "text/plain": [
       "<matplotlib.legend.Legend at 0x28fc85b5d00>"
      ]
     },
     "execution_count": 48,
     "metadata": {},
     "output_type": "execute_result"
    },
    {
     "data": {
      "image/png": "[encoded data removed]",
      "text/plain": [
       "<Figure size 432x288 with 1 Axes>"
      ]
     },
     "metadata": {
      "needs_background": "light"
     },
     "output_type": "display_data"
    }
   ],
   "source": [
    "plt.scatter(range(N**2), np.abs((laplace.m.dot(np.fft.ifft2((F_x.reshape((N, N)))).reshape((N**2,)).T) - y_right) / y_right), s = 7)\n",
    "plt.yscale('log')\n",
    "plt.title('Относительная ошибка решения (поточечно)')\n",
    "plt.ylabel('ошибка')\n",
    "plt.legend()"
   ]
  }
 ],
 "metadata": {
  "kernelspec": {
   "display_name": "base",
   "language": "python",
   "name": "python3"
  },
  "language_info": {
   "codemirror_mode": {
    "name": "ipython",
    "version": 3
   },
   "file_extension": ".py",
   "mimetype": "text/x-python",
   "name": "python",
   "nbconvert_exporter": "python",
   "pygments_lexer": "ipython3",
   "version": "3.8.5"
  },
  "orig_nbformat": 4
 },
 "nbformat": 4,
 "nbformat_minor": 2
}
