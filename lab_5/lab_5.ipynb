{
 "cells": [
  {
   "attachments": {},
   "cell_type": "markdown",
   "metadata": {},
   "source": [
    "# Итерационные методы\n",
    "\n",
    "## Задания \n",
    "\n",
    "1. Реализуйте функцию, вычисляющую $Ax$, где $A$ -\\- вышеуказанная дискретизация оператора Лапласса.\n",
    "Реализуйте функцию, вычисляющую $A^Tx$ на произвольном векторе $x$.\n",
    "\n",
    "2. Решите дискретизованное уравнение Пуассона выше с помощью функции [`scip.sparse.linalg.spsolve`](https://docs.scipy.org/doc/scipy/reference/generated/scipy.sparse.linalg.spsolve.htm). \n",
    "\n"
   ]
  },
  {
   "attachments": {},
   "cell_type": "markdown",
   "metadata": {},
   "source": [
    "## Задание 1"
   ]
  },
  {
   "cell_type": "code",
   "execution_count": 1,
   "metadata": {},
   "outputs": [],
   "source": [
    "from iter import *\n",
    "import numpy as np\n",
    "from scipy.sparse import csc_matrix\n",
    "from scipy.sparse.linalg import spsolve\n",
    "from matplotlib import pyplot as plt"
   ]
  },
  {
   "cell_type": "code",
   "execution_count": 2,
   "metadata": {},
   "outputs": [
    {
     "name": "stdout",
     "output_type": "stream",
     "text": [
      "Ax:\n",
      "[[[-26.25 -11.5  -18.25]\n",
      "  [-11.5   -0.75  -5.5 ]\n",
      "  [-18.25  -5.5  -10.25]]\n",
      "\n",
      " [[-11.5   -0.75  -5.5 ]\n",
      "  [ -0.75   6.     3.25]\n",
      "  [ -5.5    3.25   0.5 ]]\n",
      "\n",
      " [[-18.25  -5.5  -10.25]\n",
      "  [ -5.5    3.25   0.5 ]\n",
      "  [-10.25   0.5   -2.25]]]\n"
     ]
    }
   ],
   "source": [
    "n = 3\n",
    "\n",
    "b = B(n)\n",
    "print(\"Ax:\")\n",
    "print(Laplace(n).mul3d(b))"
   ]
  },
  {
   "attachments": {},
   "cell_type": "markdown",
   "metadata": {},
   "source": [
    "### Задание 2"
   ]
  },
  {
   "cell_type": "code",
   "execution_count": 3,
   "metadata": {},
   "outputs": [],
   "source": [
    "b = b.reshape((n**3,))"
   ]
  },
  {
   "cell_type": "code",
   "execution_count": 4,
   "metadata": {},
   "outputs": [],
   "source": [
    "#grid\n",
    "nx, ny, nz = 3, 3, 3\n",
    "dx, dy, dz = 1.0, 1.0, 1.0\n",
    "\n",
    "# boundary conditions\n",
    "bc_left, bc_right = 0.0, 0.0\n",
    "bc_top, bc_bottom = 0.0, 0.0\n",
    "bc_front, bc_back = 0.0, 0.0\n",
    "\n",
    "n = nx * ny * nz\n",
    "A = np.zeros((n, n))\n",
    "b = np.zeros(n)\n",
    "\n",
    "for i in range(nx):\n",
    "    for j in range(ny):\n",
    "        for k in range(nz):\n",
    "            idx = k + j*nz + i*ny*nz\n",
    "            if i == 0:\n",
    "                A[idx, idx] = 1.0\n",
    "                b[idx] = bc_left\n",
    "            elif i == nx-1:\n",
    "                A[idx, idx] = 1.0\n",
    "                b[idx] = bc_right\n",
    "            elif j == 0:\n",
    "                A[idx, idx] = 1.0\n",
    "                b[idx] = bc_top\n",
    "            elif j == ny-1:\n",
    "                A[idx, idx] = 1.0\n",
    "                b[idx] = bc_bottom\n",
    "            elif k == 0:\n",
    "                A[idx, idx] = 1.0\n",
    "                b[idx] = bc_front\n",
    "            elif k == nz-1:\n",
    "                A[idx, idx] = 1.0\n",
    "                b[idx] = bc_back\n",
    "            else:\n",
    "                A[idx, idx] = -2.0 / dx**2 - 2.0 / dy**2 - 2.0 / dz**2\n",
    "                A[idx, idx-1] = 1.0 / dx**2\n",
    "                A[idx, idx+1] = 1.0 / dx**2\n",
    "                A[idx, idx-nz] = 1.0 / dy**2\n",
    "                A[idx, idx+nz] = 1.0 / dy**2\n",
    "                A[idx, idx-nz*ny] = 1.0 / dz**2\n",
    "                A[idx, idx+nz*ny] = 1.0 / dz**2"
   ]
  },
  {
   "cell_type": "code",
   "execution_count": 5,
   "metadata": {},
   "outputs": [],
   "source": [
    "A_sparse = csc_matrix(A)\n",
    "\n",
    "u = spsolve(A_sparse, b)\n",
    "\n",
    "u_grid = np.reshape(u, (nx, ny, nz))"
   ]
  },
  {
   "attachments": {},
   "cell_type": "markdown",
   "metadata": {},
   "source": [
    "# Задания\n",
    "\n",
    "3. Какова размерность пространства $K(A,b,m)$, если $A$ - дискретизация лаплассиана, определенная выше?\n",
    "\n",
    "4. Запишите матрицу $\\tilde A_m$ сужения оператора $A$ на пространство Крылова $K(A,b,m)$ в базисе $e_k$:\n",
    "$$e_0=b,\\quad e_1=Ae_0,\\quad e_{k+1}=Ae_k.$$\n",
    "Как раскладывается $Ae_{m-1}$ по векторам $e_0,\\ldots,e_{m-1}$?\n",
    "\n",
    "5. Найдите проекцию $\\tilde b$ вектора $b$ на подпространство Крылова $K(A,b,m)$ и решите систему $\\tilde A_m \\tilde x=\\tilde b$\n",
    "из $m$ уравнений.\n",
    "Вложите вектор $\\tilde x$ обратно в $N^3$ мерное пространство и оцените погрешность решения уравнения $Ax=b$. \n",
    " "
   ]
  },
  {
   "attachments": {},
   "cell_type": "markdown",
   "metadata": {},
   "source": [
    "# Задание 3\n",
    "\n",
    "$\\dim (K(A, b, m)) \\leq m$"
   ]
  },
  {
   "attachments": {},
   "cell_type": "markdown",
   "metadata": {},
   "source": [
    "# Задание 4"
   ]
  },
  {
   "attachments": {},
   "cell_type": "markdown",
   "metadata": {},
   "source": [
    "Матрица с нулями везде кроме первой поддиагонали, там единицы"
   ]
  },
  {
   "attachments": {},
   "cell_type": "markdown",
   "metadata": {},
   "source": [
    "# Задание 5"
   ]
  },
  {
   "cell_type": "code",
   "execution_count": 6,
   "metadata": {},
   "outputs": [],
   "source": [
    "from scipy.sparse import diags"
   ]
  },
  {
   "cell_type": "code",
   "execution_count": 7,
   "metadata": {},
   "outputs": [],
   "source": [
    "n = 20\n",
    "\n",
    "diagonals = [[-2]*n, [1]*(n-1), [1]*(n-1)]\n",
    "\n",
    "A_diagonal = diags(diagonals, [0, -1, 1])\n",
    "\n",
    "A = A_diagonal.toarray()\n",
    "\n",
    "b = np.array([(i/n - 1/2)**2 for i in range(n)])"
   ]
  },
  {
   "cell_type": "code",
   "execution_count": 8,
   "metadata": {},
   "outputs": [
    {
     "name": "stdout",
     "output_type": "stream",
     "text": [
      "1: 1.0e+00\n",
      "2: 2.1e+00\n",
      "3: 9.2e+00\n",
      "4: 6.1e+01\n",
      "5: 4.6e+02\n",
      "6: 3.7e+03\n",
      "7: 3.0e+04\n",
      "8: 2.7e+05\n",
      "9: 2.5e+06\n",
      "10: 2.8e+07\n",
      "11: 1.2e+09\n",
      "12: 8.7e+09\n",
      "13: 9.6e+10\n",
      "14: 1.0e+12\n",
      "15: 1.0e+13\n",
      "16: 1.1e+14\n",
      "17: 1.2e+15\n",
      "18: 1.3e+16\n",
      "19: 1.6e+17\n"
     ]
    }
   ],
   "source": [
    "m_max = 20\n",
    "\n",
    "krylov_basis = gen_krylov_basis(A, b, m_max)\n",
    "\n",
    "for m in range(1, m_max):\n",
    "    cond_number = np.linalg.cond(krylov_basis[:,:m])\n",
    "    print(f\"{m}: {cond_number:2.1e}\")"
   ]
  },
  {
   "attachments": {},
   "cell_type": "markdown",
   "metadata": {},
   "source": [
    "[источник](https://tbetcke.github.io/hpc_lecture_notes/it_solvers1.html):\n",
    "\n",
    "\"An important measure of the usefulness of a basis is its conditioning. It measures how linearly independent vectors are. A condition number close to `1`\n",
    " means that the basis is well behaved. A condition number close to `1e16`\n",
    " means that the basis is numerically singular (this is related to the fact that standard double precision has around 16 digits of accuracy).\"\n",
    "\n",
    "\n",
    "Базис ЛЗ"
   ]
  },
  {
   "attachments": {},
   "cell_type": "markdown",
   "metadata": {},
   "source": [
    "____"
   ]
  },
  {
   "attachments": {},
   "cell_type": "markdown",
   "metadata": {},
   "source": [
    " ## Задания\n",
    "\n",
    "6. Реализуйте метод Ланцоша и найдите ортонормированный базис в пространстве $K(A,b,m)$.\n",
    "Убедитесь, что матрица $A_m$ оператора $A$ в этом базисе трехдиагональна.\n",
    "\n",
    "7. Найдите разложение $b_m$ вектора $b$ по построенному базису и решите систему $A_m x_m=b_m$.\n",
    "Вложите вектор $x_m$ обратно в $N^3$-мерное пространство и найдите ошибку решения. \n",
    "Сравните решение с полученным в задании 5.\n",
    " "
   ]
  },
  {
   "attachments": {},
   "cell_type": "markdown",
   "metadata": {},
   "source": [
    "# Задание 6-7\n"
   ]
  },
  {
   "cell_type": "code",
   "execution_count": 9,
   "metadata": {},
   "outputs": [
    {
     "name": "stdout",
     "output_type": "stream",
     "text": [
      "1: 1.0e+00\n",
      "2: 1.0e+00\n",
      "3: 1.0e+00\n",
      "4: 1.0e+00\n",
      "5: 1.0e+00\n",
      "6: 1.0e+00\n",
      "7: 1.0e+00\n",
      "8: 1.0e+00\n",
      "9: 1.0e+00\n",
      "10: 1.0e+00\n",
      "11: 1.0e+00\n",
      "12: 1.0e+00\n",
      "13: 1.0e+00\n",
      "14: 1.0e+00\n",
      "15: 1.0e+00\n",
      "16: 1.0e+00\n",
      "17: 1.0e+00\n",
      "18: 1.0e+00\n",
      "19: 1.0e+00\n"
     ]
    }
   ],
   "source": [
    "krylov = gen_krylov_basis_orthogonal(A, b, m_max)\n",
    "\n",
    "for m in range(1, m_max):\n",
    "    condition_number = np.linalg.cond(krylov[:,:m])\n",
    "    print(f\"{m}: {condition_number:2.1e}\")"
   ]
  },
  {
   "cell_type": "code",
   "execution_count": 10,
   "metadata": {},
   "outputs": [],
   "source": [
    "x, V, error = FOM(A, b, m_max=20)"
   ]
  },
  {
   "cell_type": "code",
   "execution_count": 11,
   "metadata": {},
   "outputs": [
    {
     "data": {
      "text/plain": [
       "Text(0.5, 1.0, 'Ошибка от m')"
      ]
     },
     "execution_count": 11,
     "metadata": {},
     "output_type": "execute_result"
    },
    {
     "data": {
      "image/png": "[encoded data removed]",
      "text/plain": [
       "<Figure size 640x480 with 1 Axes>"
      ]
     },
     "metadata": {},
     "output_type": "display_data"
    }
   ],
   "source": [
    "plt.loglog(error)\n",
    "plt.xlabel('m')\n",
    "plt.ylabel(\"error\")\n",
    "plt.title('Ошибка от m')"
   ]
  },
  {
   "attachments": {},
   "cell_type": "markdown",
   "metadata": {},
   "source": [
    "## Задания\n",
    "\n",
    "8. Используйте $K=K(A,b,m)$, $L=A K$ и решите уравнение Пуассона метода Петрова-Галеркина. \n",
    "Оцените ошибку получившегося решения.\n",
    "Получающийся метод имеет название [GMRES](https://en.wikipedia.org/wiki/Generalized_minimal_residual_method).\n",
    "Убедитесь, что этот подход минимизирует невязку по всем $x\\in K$.\n",
    "\n",
    "9. Оцените время работы алгоритма как функцию от $m$."
   ]
  },
  {
   "attachments": {},
   "cell_type": "markdown",
   "metadata": {},
   "source": [
    "# Задание 8"
   ]
  },
  {
   "cell_type": "code",
   "execution_count": 12,
   "metadata": {},
   "outputs": [],
   "source": [
    "from scipy.sparse.linalg import gmres"
   ]
  },
  {
   "cell_type": "code",
   "execution_count": 13,
   "metadata": {},
   "outputs": [
    {
     "name": "stdout",
     "output_type": "stream",
     "text": [
      "LAB GMRES:  (array([0.125     , 1.5       , 2.33333333]), 4.181294568627079e-15)\n",
      "Scipy's GMRES:  (array([0.125     , 1.5       , 2.33333333]), 0)\n"
     ]
    }
   ],
   "source": [
    "A = np.array([[8, 0, 0],\n",
    "              [0, 2, 0],\n",
    "              [0, 0, 3]])\n",
    "\n",
    "b = np.array([1, 3, 7])\n",
    "\n",
    "x0 = np.zeros(b.shape)\n",
    "\n",
    "print(\"LAB GMRES: \", GMRES_LAB(A, b, np.zeros_like(b), 100))\n",
    "\n",
    "print(\"Scipy's GMRES: \", gmres(A, b, np.zeros_like(b), 1e-8))"
   ]
  },
  {
   "attachments": {},
   "cell_type": "markdown",
   "metadata": {},
   "source": [
    "----\n"
   ]
  },
  {
   "attachments": {},
   "cell_type": "markdown",
   "metadata": {},
   "source": [
    "## Ускорение Лапласа"
   ]
  },
  {
   "cell_type": "code",
   "execution_count": 14,
   "metadata": {},
   "outputs": [],
   "source": [
    "n = 10\n",
    "\n",
    "A = Numbaplace(n)\n",
    "A.shape = (n**3, n**3)\n",
    "b = B(n).flatten()\n",
    "\n",
    "m_max = 10\n",
    "\n",
    "krylov_basis = gen_krylov_basis(A, b, m_max)"
   ]
  },
  {
   "cell_type": "code",
   "execution_count": 15,
   "metadata": {},
   "outputs": [
    {
     "name": "stdout",
     "output_type": "stream",
     "text": [
      "303 µs ± 4.6 µs per loop (mean ± std. dev. of 7 runs, 1,000 loops each)\n"
     ]
    }
   ],
   "source": [
    "%%timeit\n",
    "gen_krylov_basis(A, b, m_max)"
   ]
  },
  {
   "attachments": {},
   "cell_type": "markdown",
   "metadata": {},
   "source": [
    "Если сравнить с обычным\n"
   ]
  },
  {
   "cell_type": "code",
   "execution_count": 16,
   "metadata": {},
   "outputs": [],
   "source": [
    "A = Laplace(n)\n",
    "A.shape = (n**3, n**3)\n",
    "b = B(n).flatten()\n",
    "\n",
    "m_max = 10\n",
    "\n",
    "krylov_basis = gen_krylov_basis(A, b, m_max)"
   ]
  },
  {
   "cell_type": "code",
   "execution_count": 17,
   "metadata": {},
   "outputs": [
    {
     "name": "stdout",
     "output_type": "stream",
     "text": [
      "65.6 ms ± 357 µs per loop (mean ± std. dev. of 7 runs, 10 loops each)\n"
     ]
    }
   ],
   "source": [
    "%%timeit\n",
    "gen_krylov_basis(A, b, m_max)"
   ]
  },
  {
   "attachments": {},
   "cell_type": "markdown",
   "metadata": {},
   "source": [
    "Через нумбу работает порядка $10^{-4}$ секунд, а без нумбы порядка $10^{-2}$ секунд!"
   ]
  },
  {
   "attachments": {},
   "cell_type": "markdown",
   "metadata": {},
   "source": [
    "-----"
   ]
  },
  {
   "attachments": {},
   "cell_type": "markdown",
   "metadata": {},
   "source": [
    "## Проверка правильности"
   ]
  },
  {
   "cell_type": "code",
   "execution_count": 18,
   "metadata": {},
   "outputs": [],
   "source": [
    "n = 100\n",
    "\n",
    "def sin3D(x, y, z):\n",
    "    return np.sin(2 * np.pi * x) * np.cos(2 * np.pi * y) * np.sin(2 * np.pi * z)"
   ]
  },
  {
   "cell_type": "code",
   "execution_count": 19,
   "metadata": {},
   "outputs": [],
   "source": [
    "ax_arr = np.linspace(0, 1, n)\n",
    "\n",
    "grid = np.empty((n, n, n))"
   ]
  },
  {
   "cell_type": "code",
   "execution_count": 20,
   "metadata": {},
   "outputs": [],
   "source": [
    "for i in range(n):\n",
    "    for j in range(n):\n",
    "        for k in range(n):\n",
    "            grid[i, j, k] = sin3D(ax_arr[i], ax_arr[j], ax_arr[k])"
   ]
  },
  {
   "cell_type": "code",
   "execution_count": 21,
   "metadata": {},
   "outputs": [],
   "source": [
    "A_nb = Numbaplace(n)\n",
    "\n",
    "result_nb = A_nb.mul(grid, n)"
   ]
  },
  {
   "cell_type": "code",
   "execution_count": 22,
   "metadata": {},
   "outputs": [],
   "source": [
    "A_old = Laplace(n)\n",
    "result_old = A_old.mul3d(grid)"
   ]
  },
  {
   "cell_type": "code",
   "execution_count": 23,
   "metadata": {},
   "outputs": [
    {
     "name": "stdout",
     "output_type": "stream",
     "text": [
      "[            inf -1.20801541e+02 -1.20804001e+02 -1.20794583e+02\n",
      " -1.20800380e+02 -1.20799303e+02 -1.20796057e+02 -1.20796377e+02\n",
      " -1.20795812e+02 -1.20799055e+02 -1.20798225e+02 -1.20799966e+02\n",
      " -1.20796347e+02 -1.20799409e+02 -1.20794991e+02 -1.20797411e+02\n",
      " -1.20799467e+02 -1.20800700e+02 -1.20798825e+02 -1.20796775e+02\n",
      " -1.20805097e+02 -1.20798856e+02 -1.20794609e+02 -1.20798488e+02\n",
      " -1.20799367e+02 -1.20802406e+02 -1.20796973e+02 -1.20802545e+02\n",
      " -1.20796235e+02 -1.20800407e+02 -1.20801656e+02 -1.20797826e+02\n",
      " -1.20796871e+02 -1.20797823e+02 -1.20797738e+02 -1.20800682e+02\n",
      " -1.20803427e+02 -1.20800417e+02 -1.20797853e+02 -1.20803151e+02\n",
      " -1.20797425e+02 -1.20796755e+02 -1.20799736e+02 -1.20798876e+02\n",
      " -1.20796448e+02 -1.20797775e+02 -1.20800956e+02 -1.20799093e+02\n",
      " -1.20805592e+02 -1.20797619e+02 -1.20797619e+02 -1.20805592e+02\n",
      " -1.20799093e+02 -1.20800956e+02 -1.20797775e+02 -1.20796448e+02\n",
      " -1.20798876e+02 -1.20799736e+02 -1.20796755e+02 -1.20797425e+02\n",
      " -1.20803151e+02 -1.20797853e+02 -1.20800417e+02 -1.20803427e+02\n",
      " -1.20800682e+02 -1.20797738e+02 -1.20797823e+02 -1.20796871e+02\n",
      " -1.20797826e+02 -1.20801656e+02 -1.20800407e+02 -1.20796235e+02\n",
      " -1.20802545e+02 -1.20796973e+02 -1.20802406e+02 -1.20799367e+02\n",
      " -1.20798488e+02 -1.20794609e+02 -1.20798856e+02 -1.20805097e+02\n",
      " -1.20796775e+02 -1.20798825e+02 -1.20800700e+02 -1.20799467e+02\n",
      " -1.20797411e+02 -1.20794991e+02 -1.20799409e+02 -1.20796347e+02\n",
      " -1.20799966e+02 -1.20798225e+02 -1.20799055e+02 -1.20795812e+02\n",
      " -1.20796377e+02 -1.20796057e+02 -1.20799303e+02 -1.20800380e+02\n",
      " -1.20794583e+02 -1.20804001e+02 -1.20801541e+02  2.58947794e+18]\n"
     ]
    },
    {
     "name": "stderr",
     "output_type": "stream",
     "text": [
      "C:\\Users\\roman\\AppData\\Local\\Temp\\ipykernel_2700\\3495151761.py:1: RuntimeWarning: divide by zero encountered in divide\n",
      "  print((result_nb / grid)[:,47, 10])\n",
      "C:\\Users\\roman\\AppData\\Local\\Temp\\ipykernel_2700\\3495151761.py:1: RuntimeWarning: invalid value encountered in divide\n",
      "  print((result_nb / grid)[:,47, 10])\n"
     ]
    }
   ],
   "source": [
    "print((result_nb / grid)[:,47, 10])"
   ]
  },
  {
   "attachments": {},
   "cell_type": "markdown",
   "metadata": {},
   "source": [
    "$\\Delta \\sin(2 \\pi x) = \\lambda \\sin(2 \\pi x)$, найдём $\\lambda$"
   ]
  },
  {
   "attachments": {},
   "cell_type": "markdown",
   "metadata": {},
   "source": [
    "$\\Delta \\sin(2 \\pi x) = \\dfrac{\\sin(2\\pi (x + h)) - 2\\sin(2\\pi x) + \\sin(2 \\pi (x - h))}{h^2}$ ="
   ]
  },
  {
   "attachments": {},
   "cell_type": "markdown",
   "metadata": {},
   "source": [
    "$= \\dfrac{\\sin(2\\pi x) \\cos(2\\pi h) + \\sin(2\\pi h)\\cos(2\\pi x) - 2 \\sin(2\\pi x) + \\sin(2\\pi x)\\cos(2\\pi h) - \\sin(2\\pi h) \\cos(2\\pi x)}{h^2} =$"
   ]
  },
  {
   "attachments": {},
   "cell_type": "markdown",
   "metadata": {},
   "source": [
    "$= \\dfrac{2\\sin(2\\pi x)\\cos(2\\pi h) - 2\\sin(2\\pi x)}{h^2} = \\dfrac{2}{h^2}\\left( \\cos(2\\pi h) - 1 \\right) \\sin(2\\pi x) \\rightarrow - 4\\pi^2 \\sin(2\\pi x)$ при $h \\rightarrow 0$ "
   ]
  },
  {
   "attachments": {},
   "cell_type": "markdown",
   "metadata": {},
   "source": [
    "Аналогично по двум другим осям, если шаг одинаковый, то множитель будет $\\dfrac{6}{h^2}\\left( \\cos(2\\pi h) - 1 \\right)$"
   ]
  },
  {
   "cell_type": "code",
   "execution_count": 24,
   "metadata": {},
   "outputs": [
    {
     "name": "stdout",
     "output_type": "stream",
     "text": [
      "-118.39629430370645\n"
     ]
    }
   ],
   "source": [
    "h = 1 / n\n",
    "print(6 * (np.cos(2*np.pi * h) - 1) / h**2)"
   ]
  },
  {
   "attachments": {},
   "cell_type": "markdown",
   "metadata": {},
   "source": [
    "А получилось на самом деле:"
   ]
  },
  {
   "cell_type": "code",
   "execution_count": 25,
   "metadata": {},
   "outputs": [
    {
     "name": "stdout",
     "output_type": "stream",
     "text": [
      "-120.80154149070884\n"
     ]
    },
    {
     "name": "stderr",
     "output_type": "stream",
     "text": [
      "C:\\Users\\roman\\AppData\\Local\\Temp\\ipykernel_2700\\4262605877.py:1: RuntimeWarning: divide by zero encountered in divide\n",
      "  print((result_nb / grid)[1,47, 10])\n",
      "C:\\Users\\roman\\AppData\\Local\\Temp\\ipykernel_2700\\4262605877.py:1: RuntimeWarning: invalid value encountered in divide\n",
      "  print((result_nb / grid)[1,47, 10])\n"
     ]
    }
   ],
   "source": [
    "print((result_nb / grid)[1,47, 10])"
   ]
  }
 ],
 "metadata": {
  "kernelspec": {
   "display_name": "Python 3",
   "language": "python",
   "name": "python3"
  },
  "language_info": {
   "codemirror_mode": {
    "name": "ipython",
    "version": 3
   },
   "file_extension": ".py",
   "mimetype": "text/x-python",
   "name": "python",
   "nbconvert_exporter": "python",
   "pygments_lexer": "ipython3",
   "version": "3.10.9"
  }
 },
 "nbformat": 4,
 "nbformat_minor": 4
}
