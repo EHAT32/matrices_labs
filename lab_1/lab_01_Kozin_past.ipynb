{
 "cells": [
  {
   "cell_type": "code",
   "execution_count": 1,
   "metadata": {},
   "outputs": [],
   "source": [
    "import numpy as np\n",
    "import numba as nb\n",
    "import matplotlib.pyplot as plt\n",
    "import timeit"
   ]
  },
  {
   "attachments": {},
   "cell_type": "markdown",
   "metadata": {},
   "source": [
    "# 2\n",
    "Реализуйте произведение матриц $A\\in Mat(N\\times K)$, $B\\in Mat(K\\times M)$ согласно определению\n",
    "$$\n",
    "C_{n,m}=\\sum_{k=1}^K A_{n,k}B_{k,m}.\n",
    "$$\n",
    "Сравните быстродействие реализаций на основе numpy.sum, с помощью numba и стандартный метод numpy.dot.\n",
    "Насколько полно используется процессор? \n",
    "Сколько используется памяти?"
   ]
  },
  {
   "cell_type": "code",
   "execution_count": 5,
   "metadata": {},
   "outputs": [],
   "source": [
    "@nb.njit('float64[:,:](float64[:,:],float64[:,:])', parallel = False)\n",
    "def mat_mul(mat_1, mat_2):\n",
    "    row_1, col_1 = mat_1.shape\n",
    "    _, col_2 = mat_2.shape\n",
    "    mat_3 = np.empty((row_1, col_2), dtype = np.float64)\n",
    "    for i in range(row_1):\n",
    "        for j in range(col_2):\n",
    "            for k in range(col_1):\n",
    "                mat_3[i, j] += mat_1[i, k] * mat_2[k, j]\n",
    "    return mat_3"
   ]
  },
  {
   "cell_type": "code",
   "execution_count": 16,
   "metadata": {},
   "outputs": [],
   "source": [
    "# Matrices dimensions\n",
    "A_row = 100\n",
    "A_col_max = 20000\n",
    "A_col_min = 2000\n",
    "\n",
    "\n",
    "STEP = 200\n",
    "REPEAT_NUMBER = 10\n",
    "\n",
    "# matrix be has dimensions A_col_max, A_row\n",
    "A = np.random.random((A_row, A_col_max))\n",
    "B = np.random.random((A_col_max, A_row))"
   ]
  },
  {
   "cell_type": "code",
   "execution_count": 7,
   "metadata": {},
   "outputs": [],
   "source": [
    "#time data generation\n",
    "data_range = range(A_col_min, int(A_col_max / 3), STEP)\n",
    "\n",
    "def time_reg(n):\n",
    "    return timeit.timeit(stmt = \"mat_mul(A[:, :%(n)s], B[:%(n)s, :])\" % {'n': n},\n",
    "                         globals = {'mat_mul': mat_mul, 'A': A, 'B': B}, number = REPEAT_NUMBER)"
   ]
  },
  {
   "cell_type": "code",
   "execution_count": 7,
   "metadata": {},
   "outputs": [],
   "source": [
    "time_list = list(time_reg(n) for n in data_range)\n",
    "points_list = list(n for n in data_range)"
   ]
  },
  {
   "cell_type": "code",
   "execution_count": 8,
   "metadata": {},
   "outputs": [],
   "source": [
    "def time_reg_no_slice(n):\n",
    "    return timeit.timeit(stmt = \"mat_mul(A, B)\",\n",
    "                         globals = {'mat_mul': mat_mul, 'A': A[:, : n], 'B': B[: n, :]}, number = REPEAT_NUMBER)"
   ]
  },
  {
   "cell_type": "code",
   "execution_count": 9,
   "metadata": {},
   "outputs": [],
   "source": [
    "time_list_no_slice = list(time_reg_no_slice(n) for n in data_range)"
   ]
  },
  {
   "cell_type": "code",
   "execution_count": 10,
   "metadata": {},
   "outputs": [],
   "source": [
    "#implement dot multiplication\n",
    "\n",
    "dot_time_list = list(timeit.timeit(stmt = \"A[:, :%(n)s].dot(B[:%(n)s, :])\" % {'n': n},\n",
    "                    globals = {'A': A, 'B': B}, number = 1) for n in data_range)"
   ]
  },
  {
   "cell_type": "code",
   "execution_count": 11,
   "metadata": {},
   "outputs": [],
   "source": [
    "#implement np.sum\n",
    "\n",
    "def mat_np_sum(mat_1, mat_2):\n",
    "    row_1, _ = mat_1.shape\n",
    "    _, col_2 = mat_2.shape\n",
    "    mat_3 = np.empty((row_1, col_2), dtype = np.float64)\n",
    "    for i in range(row_1):\n",
    "        for j in range(col_2):\n",
    "            mat_3[i, j] = np.multiply(A[i, :], B[:, j])\n",
    "    return mat_3"
   ]
  },
  {
   "cell_type": "code",
   "execution_count": 12,
   "metadata": {},
   "outputs": [],
   "source": [
    "def sum_time_reg(n):\n",
    "    return timeit.timeit(stmt = \"mat_np_sum(A[:, :%(n)s], B[:%(n)s, :])\" % {'n': n},\n",
    "                         globals = {'mat_np_sum': mat_np_sum, 'A': A, 'B': B}, number = REPEAT_NUMBER)\n",
    "\n",
    "sum_time_list = list(time_reg(n) for n in data_range)"
   ]
  },
  {
   "attachments": {},
   "cell_type": "markdown",
   "metadata": {},
   "source": [
    "# 3\n",
    "Составьте модель использования вычислительных ресурсов функцией на основе numba.jit из предыдущего пункта. Размеры матриц должны быть параметрами модели. Проведите вычислительные эксперименты, чтобы подобрать параметры модели. Экстраполируйте результат на большие матрицы, сделайте экспериментальную проверку."
   ]
  },
  {
   "attachments": {},
   "cell_type": "markdown",
   "metadata": {},
   "source": [
    "В общем случае модели мы можем менять все три параметра матриц: $M, N, K$. Общий вид модели:\n",
    "\n",
    "$$\n",
    "T(M,N,K))= a\\cdot(MNK) + b\\cdot(MN) + c\\cdot(NK) + d\\cdot(MK) + e\\cdot(M) + f\\cdot(N) + g\\cdot(K) + h\n",
    "$$\n",
    "\n",
    "Наличие свободного члена обусловлено процессами, которые не зависят от размера массива.\n",
    "\n",
    "\n",
    "Посчитаем упрощённую модель, когда мы изменяем только общий размер матриц. Рассмотрим две матрицы размеров $(M, N)$ и $(N, K)$ Читаем строку матрицы A за $O(N)$, столбец B за $O(N)$, складываем элементы за $O(N)$, так мы делаем $M \\cdot K$ раз. Также есть ещё какое-то время на запуск: $O(1)$. Зависимость от N будет линейной и примет вид:\n",
    "\n",
    "$T(N) = a N + b$\n",
    "\n",
    "Найдём константы"
   ]
  },
  {
   "cell_type": "code",
   "execution_count": 14,
   "metadata": {},
   "outputs": [
    {
     "data": {
      "text/plain": [
       "<matplotlib.legend.Legend at 0x1505e6d7850>"
      ]
     },
     "execution_count": 14,
     "metadata": {},
     "output_type": "execute_result"
    },
    {
     "data": {
      "image/png": "[encoded data removed]",
      "text/plain": [
       "<Figure size 432x288 with 1 Axes>"
      ]
     },
     "metadata": {
      "needs_background": "light"
     },
     "output_type": "display_data"
    }
   ],
   "source": [
    "\n",
    "dot_time = np.array(dot_time_list)\n",
    "sum_time = np.array(sum_time_list)\n",
    "\n",
    "naive_fit_coeffs = np.polyfit(points_list, time_list, 1)\n",
    "naive_polynomial = np.poly1d(naive_fit_coeffs)\n",
    "naive_fit = naive_polynomial(N_ax)\n",
    "\n",
    "dot_coeffs = np.polyfit(points_list, dot_time_list, 1)\n",
    "dot_pol = np.poly1d(dot_coeffs)\n",
    "dot_fit = dot_pol(N_ax)\n",
    "\n",
    "sum_coeffs = np.polyfit(points_list, sum_time_list, 1)\n",
    "sum_pol = np.poly1d(sum_coeffs)\n",
    "sum_fit = sum_pol(N_ax)\n",
    "\n",
    "plt.scatter(points, naive, s = 10, label = 'naive')\n",
    "plt.plot(N_ax, naive_fit, '--r', label = \"naive fit\")\n",
    "plt.scatter(points, dot_time, s = 10, label = 'dot')\n",
    "plt.plot(N_ax, dot_fit, '--b', label = \"dot fit\")\n",
    "plt.scatter(points, sum_time, s = 10, label = \"np.sum\")\n",
    "plt.plot(N_ax, sum_fit, '--k', label = \"np.sum fit\")\n",
    "plt.legend()"
   ]
  },
  {
   "cell_type": "code",
   "execution_count": 15,
   "metadata": {},
   "outputs": [
    {
     "name": "stdout",
     "output_type": "stream",
     "text": [
      "Determination coefficient for naive:  0.9654620659814854\n",
      "Determination coefficient for sum:  0.9778903570347318\n"
     ]
    }
   ],
   "source": [
    "from sklearn.metrics import r2_score\n",
    "\n",
    "print('Determination coefficient for naive: ', r2_score(naive, naive_fit))\n",
    "print('Determination coefficient for sum: ', r2_score(sum_time, sum_fit))"
   ]
  },
  {
   "attachments": {},
   "cell_type": "markdown",
   "metadata": {},
   "source": [
    "Сами коэффициенты для простой реализации с numba и для реализации np.dot"
   ]
  },
  {
   "cell_type": "code",
   "execution_count": 16,
   "metadata": {},
   "outputs": [
    {
     "name": "stdout",
     "output_type": "stream",
     "text": [
      "Naive:  [ 0.00035307 -0.33011565]\n",
      "Dot:  [3.45970870e-07 6.39000261e-04]\n"
     ]
    }
   ],
   "source": [
    "print('Naive: ', naive_fit_coeffs)\n",
    "print('Dot: ', dot_coeffs)"
   ]
  },
  {
   "attachments": {},
   "cell_type": "markdown",
   "metadata": {},
   "source": [
    "Посмотрим, как ведёт себя модель при экстраполяции:"
   ]
  },
  {
   "cell_type": "code",
   "execution_count": 17,
   "metadata": {},
   "outputs": [],
   "source": [
    "extra_data_range = range(int(A_col_max / 2), A_col_max, STEP * 5)\n",
    "\n",
    "time = np.array(list(time_reg(n) for n in extra_data_range))\n",
    "points = np.array(list(extra_data_range))\n",
    "\n",
    "time_fit = naive_polynomial(points)"
   ]
  },
  {
   "cell_type": "code",
   "execution_count": 18,
   "metadata": {},
   "outputs": [
    {
     "data": {
      "text/plain": [
       "<matplotlib.legend.Legend at 0x150613d5b50>"
      ]
     },
     "execution_count": 18,
     "metadata": {},
     "output_type": "execute_result"
    },
    {
     "data": {
      "image/png": "[encoded data removed]",
      "text/plain": [
       "<Figure size 432x288 with 1 Axes>"
      ]
     },
     "metadata": {
      "needs_background": "light"
     },
     "output_type": "display_data"
    }
   ],
   "source": [
    "plt.scatter(points, time, s = 10, label = \"experiment\")\n",
    "plt.plot(points, time_fit, '--r', label = \"theory\")\n",
    "plt.legend()"
   ]
  },
  {
   "cell_type": "code",
   "execution_count": 19,
   "metadata": {},
   "outputs": [
    {
     "name": "stdout",
     "output_type": "stream",
     "text": [
      "Determination coefficient for naive:  0.2723279215370459\n"
     ]
    }
   ],
   "source": [
    "print('Determination coefficient for naive: ', r2_score(time, time_fit))"
   ]
  },
  {
   "attachments": {},
   "cell_type": "markdown",
   "metadata": {},
   "source": [
    "Видим, что при экстраполяции до 2N модель работает недостаточно хорошо, экспериментальные значения идут выше предсказанного."
   ]
  },
  {
   "attachments": {},
   "cell_type": "markdown",
   "metadata": {},
   "source": [
    "# 4\n",
    "В простейшем алгоритме произведения матриц используются три цикла: перебирающие элементы $n$ и $m$  матрицы $C$\n",
    "и суммирующие по $k$. \n",
    "Сравните время перемножения матриц в зависимости от порядка циклов.\n",
    "Оцените объем кэшей разных уровней, проводя эксперименты для матриц разного размера."
   ]
  },
  {
   "cell_type": "code",
   "execution_count": 20,
   "metadata": {},
   "outputs": [
    {
     "ename": "KeyboardInterrupt",
     "evalue": "",
     "output_type": "error",
     "traceback": [
      "\u001b[1;31m---------------------------------------------------------------------------\u001b[0m",
      "\u001b[1;31mKeyboardInterrupt\u001b[0m                         Traceback (most recent call last)",
      "\u001b[1;32m<ipython-input-20-767a64ff6483>\u001b[0m in \u001b[0;36m<module>\u001b[1;34m\u001b[0m\n\u001b[0;32m     13\u001b[0m                          globals = {'mat_mul': mat_mul, 'A': A, 'B': B}, number = 40)\n\u001b[0;32m     14\u001b[0m \u001b[1;33m\u001b[0m\u001b[0m\n\u001b[1;32m---> 15\u001b[1;33m \u001b[0mtime_list\u001b[0m \u001b[1;33m=\u001b[0m \u001b[0mlist\u001b[0m\u001b[1;33m(\u001b[0m\u001b[0mtime_reg\u001b[0m\u001b[1;33m(\u001b[0m\u001b[0mn\u001b[0m\u001b[1;33m)\u001b[0m \u001b[1;32mfor\u001b[0m \u001b[0mn\u001b[0m \u001b[1;32min\u001b[0m \u001b[0mcache_data_range\u001b[0m\u001b[1;33m)\u001b[0m\u001b[1;33m\u001b[0m\u001b[1;33m\u001b[0m\u001b[0m\n\u001b[0m\u001b[0;32m     16\u001b[0m \u001b[0mpoints_list\u001b[0m \u001b[1;33m=\u001b[0m \u001b[0mlist\u001b[0m\u001b[1;33m(\u001b[0m\u001b[0mcache_data_range\u001b[0m\u001b[1;33m)\u001b[0m\u001b[1;33m\u001b[0m\u001b[1;33m\u001b[0m\u001b[0m\n\u001b[0;32m     17\u001b[0m \u001b[1;33m\u001b[0m\u001b[0m\n",
      "\u001b[1;32m<ipython-input-20-767a64ff6483>\u001b[0m in \u001b[0;36m<genexpr>\u001b[1;34m(.0)\u001b[0m\n\u001b[0;32m     13\u001b[0m                          globals = {'mat_mul': mat_mul, 'A': A, 'B': B}, number = 40)\n\u001b[0;32m     14\u001b[0m \u001b[1;33m\u001b[0m\u001b[0m\n\u001b[1;32m---> 15\u001b[1;33m \u001b[0mtime_list\u001b[0m \u001b[1;33m=\u001b[0m \u001b[0mlist\u001b[0m\u001b[1;33m(\u001b[0m\u001b[0mtime_reg\u001b[0m\u001b[1;33m(\u001b[0m\u001b[0mn\u001b[0m\u001b[1;33m)\u001b[0m \u001b[1;32mfor\u001b[0m \u001b[0mn\u001b[0m \u001b[1;32min\u001b[0m \u001b[0mcache_data_range\u001b[0m\u001b[1;33m)\u001b[0m\u001b[1;33m\u001b[0m\u001b[1;33m\u001b[0m\u001b[0m\n\u001b[0m\u001b[0;32m     16\u001b[0m \u001b[0mpoints_list\u001b[0m \u001b[1;33m=\u001b[0m \u001b[0mlist\u001b[0m\u001b[1;33m(\u001b[0m\u001b[0mcache_data_range\u001b[0m\u001b[1;33m)\u001b[0m\u001b[1;33m\u001b[0m\u001b[1;33m\u001b[0m\u001b[0m\n\u001b[0;32m     17\u001b[0m \u001b[1;33m\u001b[0m\u001b[0m\n",
      "\u001b[1;32m<ipython-input-20-767a64ff6483>\u001b[0m in \u001b[0;36mtime_reg\u001b[1;34m(n)\u001b[0m\n\u001b[0;32m     10\u001b[0m \u001b[1;33m\u001b[0m\u001b[0m\n\u001b[0;32m     11\u001b[0m \u001b[1;32mdef\u001b[0m \u001b[0mtime_reg\u001b[0m\u001b[1;33m(\u001b[0m\u001b[0mn\u001b[0m\u001b[1;33m)\u001b[0m\u001b[1;33m:\u001b[0m\u001b[1;33m\u001b[0m\u001b[1;33m\u001b[0m\u001b[0m\n\u001b[1;32m---> 12\u001b[1;33m     return timeit.timeit(stmt = \"mat_mul(A[:, :%(n)s], B[:%(n)s, :])\" % {'n': n},\n\u001b[0m\u001b[0;32m     13\u001b[0m                          globals = {'mat_mul': mat_mul, 'A': A, 'B': B}, number = 40)\n\u001b[0;32m     14\u001b[0m \u001b[1;33m\u001b[0m\u001b[0m\n",
      "\u001b[1;32md:\\ProgramData\\Anaconda3\\lib\\timeit.py\u001b[0m in \u001b[0;36mtimeit\u001b[1;34m(stmt, setup, timer, number, globals)\u001b[0m\n\u001b[0;32m    231\u001b[0m            number=default_number, globals=None):\n\u001b[0;32m    232\u001b[0m     \u001b[1;34m\"\"\"Convenience function to create Timer object and call timeit method.\"\"\"\u001b[0m\u001b[1;33m\u001b[0m\u001b[1;33m\u001b[0m\u001b[0m\n\u001b[1;32m--> 233\u001b[1;33m     \u001b[1;32mreturn\u001b[0m \u001b[0mTimer\u001b[0m\u001b[1;33m(\u001b[0m\u001b[0mstmt\u001b[0m\u001b[1;33m,\u001b[0m \u001b[0msetup\u001b[0m\u001b[1;33m,\u001b[0m \u001b[0mtimer\u001b[0m\u001b[1;33m,\u001b[0m \u001b[0mglobals\u001b[0m\u001b[1;33m)\u001b[0m\u001b[1;33m.\u001b[0m\u001b[0mtimeit\u001b[0m\u001b[1;33m(\u001b[0m\u001b[0mnumber\u001b[0m\u001b[1;33m)\u001b[0m\u001b[1;33m\u001b[0m\u001b[1;33m\u001b[0m\u001b[0m\n\u001b[0m\u001b[0;32m    234\u001b[0m \u001b[1;33m\u001b[0m\u001b[0m\n\u001b[0;32m    235\u001b[0m def repeat(stmt=\"pass\", setup=\"pass\", timer=default_timer,\n",
      "\u001b[1;32md:\\ProgramData\\Anaconda3\\lib\\timeit.py\u001b[0m in \u001b[0;36mtimeit\u001b[1;34m(self, number)\u001b[0m\n\u001b[0;32m    175\u001b[0m         \u001b[0mgc\u001b[0m\u001b[1;33m.\u001b[0m\u001b[0mdisable\u001b[0m\u001b[1;33m(\u001b[0m\u001b[1;33m)\u001b[0m\u001b[1;33m\u001b[0m\u001b[1;33m\u001b[0m\u001b[0m\n\u001b[0;32m    176\u001b[0m         \u001b[1;32mtry\u001b[0m\u001b[1;33m:\u001b[0m\u001b[1;33m\u001b[0m\u001b[1;33m\u001b[0m\u001b[0m\n\u001b[1;32m--> 177\u001b[1;33m             \u001b[0mtiming\u001b[0m \u001b[1;33m=\u001b[0m \u001b[0mself\u001b[0m\u001b[1;33m.\u001b[0m\u001b[0minner\u001b[0m\u001b[1;33m(\u001b[0m\u001b[0mit\u001b[0m\u001b[1;33m,\u001b[0m \u001b[0mself\u001b[0m\u001b[1;33m.\u001b[0m\u001b[0mtimer\u001b[0m\u001b[1;33m)\u001b[0m\u001b[1;33m\u001b[0m\u001b[1;33m\u001b[0m\u001b[0m\n\u001b[0m\u001b[0;32m    178\u001b[0m         \u001b[1;32mfinally\u001b[0m\u001b[1;33m:\u001b[0m\u001b[1;33m\u001b[0m\u001b[1;33m\u001b[0m\u001b[0m\n\u001b[0;32m    179\u001b[0m             \u001b[1;32mif\u001b[0m \u001b[0mgcold\u001b[0m\u001b[1;33m:\u001b[0m\u001b[1;33m\u001b[0m\u001b[1;33m\u001b[0m\u001b[0m\n",
      "\u001b[1;32m<timeit-src>\u001b[0m in \u001b[0;36minner\u001b[1;34m(_it, _timer)\u001b[0m\n",
      "\u001b[1;31mKeyboardInterrupt\u001b[0m: "
     ]
    }
   ],
   "source": [
    "A_row = 100\n",
    "A_col_max = 26000\n",
    "A_col_min = 2000\n",
    "\n",
    "# matrix be has dimensions A_col_max, A_row\n",
    "A = np.random.random((A_row, A_col_max))\n",
    "B = np.random.random((A_col_max, A_row))\n",
    "\n",
    "cache_data_range = range(10000, 20000, 600)\n",
    "\n",
    "def time_reg(n):\n",
    "    return timeit.timeit(stmt = \"mat_mul(A[:, :%(n)s], B[:%(n)s, :])\" % {'n': n},\n",
    "                         globals = {'mat_mul': mat_mul, 'A': A, 'B': B}, number = 40)\n",
    "\n",
    "time_list = list(time_reg(n) for n in cache_data_range)\n",
    "points_list = list(cache_data_range)\n",
    "\n",
    "plt.scatter(points_list, time_list, s = 5, label = 'naive')\n",
    "\n",
    "plt.legend()"
   ]
  },
  {
   "attachments": {},
   "cell_type": "markdown",
   "metadata": {},
   "source": [
    "Здесь заметны \"ступеньки\", когда время вычисления растёт быстрее. Скачки наблюдаются при $N = 15000, \\; N = 17000$, значит кэш порядка 120 - 144 Кб. Обратимся к спецификации."
   ]
  },
  {
   "attachments": {
    "image.png": {
     "image/png": "[encoded data removed]"
    }
   },
   "cell_type": "markdown",
   "metadata": {},
   "source": [
    "![image.png](attachment:image.png)"
   ]
  },
  {
   "attachments": {},
   "cell_type": "markdown",
   "metadata": {},
   "source": [
    "В этих ступеньках за пределы кэша мы не выходим."
   ]
  },
  {
   "attachments": {},
   "cell_type": "markdown",
   "metadata": {},
   "source": [
    "Теперь посмотрим на поведение зависимости времени от размера при смене порядка изменяющегося индекса"
   ]
  },
  {
   "cell_type": "code",
   "execution_count": 2,
   "metadata": {},
   "outputs": [],
   "source": [
    "@nb.njit('float64[:,:](float64[:,:],float64[:,:])')\n",
    "def mat_mul_alt(mat_1, mat_2):\n",
    "    row_1, col_1 = mat_1.shape\n",
    "    _, col_2 = mat_2.shape\n",
    "    mat_3 = np.empty((row_1, col_2), dtype = np.float64)\n",
    "    for i in range(col_2):\n",
    "        for j in range(row_1):\n",
    "            for k in range(col_1):\n",
    "                mat_3[j, i] += mat_1[j, k] * mat_2[k, i]\n",
    "    return mat_3"
   ]
  },
  {
   "cell_type": "code",
   "execution_count": 17,
   "metadata": {},
   "outputs": [],
   "source": [
    "\n",
    "A_col = 100\n",
    "A_row_max = 26000\n",
    "A_row_min = 2000\n",
    "data_range = range(A_col_min, int(A_col_max / 3), STEP)\n",
    "\n",
    "# matrix be has dimensions A_col_max, A_row\n",
    "A = np.random.random((A_row, A_col_max))\n",
    "B = np.random.random((A_col_max, A_row))"
   ]
  },
  {
   "cell_type": "code",
   "execution_count": 18,
   "metadata": {},
   "outputs": [
    {
     "ename": "KeyboardInterrupt",
     "evalue": "",
     "output_type": "error",
     "traceback": [
      "\u001b[1;31m---------------------------------------------------------------------------\u001b[0m",
      "\u001b[1;31mKeyboardInterrupt\u001b[0m                         Traceback (most recent call last)",
      "\u001b[1;32m<ipython-input-18-2acdf2b9eda0>\u001b[0m in \u001b[0;36m<module>\u001b[1;34m\u001b[0m\n\u001b[0;32m      4\u001b[0m \u001b[1;33m\u001b[0m\u001b[0m\n\u001b[0;32m      5\u001b[0m \u001b[0mpoints_list\u001b[0m \u001b[1;33m=\u001b[0m \u001b[0mlist\u001b[0m\u001b[1;33m(\u001b[0m\u001b[0mdata_range\u001b[0m\u001b[1;33m)\u001b[0m\u001b[1;33m\u001b[0m\u001b[1;33m\u001b[0m\u001b[0m\n\u001b[1;32m----> 6\u001b[1;33m \u001b[0mtime_list\u001b[0m \u001b[1;33m=\u001b[0m \u001b[0mlist\u001b[0m\u001b[1;33m(\u001b[0m\u001b[0mtime_reg\u001b[0m\u001b[1;33m(\u001b[0m\u001b[0mn\u001b[0m\u001b[1;33m)\u001b[0m \u001b[1;32mfor\u001b[0m \u001b[0mn\u001b[0m \u001b[1;32min\u001b[0m \u001b[0mdata_range\u001b[0m\u001b[1;33m)\u001b[0m\u001b[1;33m\u001b[0m\u001b[1;33m\u001b[0m\u001b[0m\n\u001b[0m\u001b[0;32m      7\u001b[0m \u001b[0mtime_alt_list\u001b[0m \u001b[1;33m=\u001b[0m \u001b[0mlist\u001b[0m\u001b[1;33m(\u001b[0m\u001b[0mtime_reg_alt\u001b[0m\u001b[1;33m(\u001b[0m\u001b[0mn\u001b[0m\u001b[1;33m)\u001b[0m \u001b[1;32mfor\u001b[0m \u001b[0mn\u001b[0m \u001b[1;32min\u001b[0m \u001b[0mdata_range\u001b[0m\u001b[1;33m)\u001b[0m\u001b[1;33m\u001b[0m\u001b[1;33m\u001b[0m\u001b[0m\n",
      "\u001b[1;32m<ipython-input-18-2acdf2b9eda0>\u001b[0m in \u001b[0;36m<genexpr>\u001b[1;34m(.0)\u001b[0m\n\u001b[0;32m      4\u001b[0m \u001b[1;33m\u001b[0m\u001b[0m\n\u001b[0;32m      5\u001b[0m \u001b[0mpoints_list\u001b[0m \u001b[1;33m=\u001b[0m \u001b[0mlist\u001b[0m\u001b[1;33m(\u001b[0m\u001b[0mdata_range\u001b[0m\u001b[1;33m)\u001b[0m\u001b[1;33m\u001b[0m\u001b[1;33m\u001b[0m\u001b[0m\n\u001b[1;32m----> 6\u001b[1;33m \u001b[0mtime_list\u001b[0m \u001b[1;33m=\u001b[0m \u001b[0mlist\u001b[0m\u001b[1;33m(\u001b[0m\u001b[0mtime_reg\u001b[0m\u001b[1;33m(\u001b[0m\u001b[0mn\u001b[0m\u001b[1;33m)\u001b[0m \u001b[1;32mfor\u001b[0m \u001b[0mn\u001b[0m \u001b[1;32min\u001b[0m \u001b[0mdata_range\u001b[0m\u001b[1;33m)\u001b[0m\u001b[1;33m\u001b[0m\u001b[1;33m\u001b[0m\u001b[0m\n\u001b[0m\u001b[0;32m      7\u001b[0m \u001b[0mtime_alt_list\u001b[0m \u001b[1;33m=\u001b[0m \u001b[0mlist\u001b[0m\u001b[1;33m(\u001b[0m\u001b[0mtime_reg_alt\u001b[0m\u001b[1;33m(\u001b[0m\u001b[0mn\u001b[0m\u001b[1;33m)\u001b[0m \u001b[1;32mfor\u001b[0m \u001b[0mn\u001b[0m \u001b[1;32min\u001b[0m \u001b[0mdata_range\u001b[0m\u001b[1;33m)\u001b[0m\u001b[1;33m\u001b[0m\u001b[1;33m\u001b[0m\u001b[0m\n",
      "\u001b[1;32m<ipython-input-7-22f51319714c>\u001b[0m in \u001b[0;36mtime_reg\u001b[1;34m(n)\u001b[0m\n\u001b[0;32m      3\u001b[0m \u001b[1;33m\u001b[0m\u001b[0m\n\u001b[0;32m      4\u001b[0m \u001b[1;32mdef\u001b[0m \u001b[0mtime_reg\u001b[0m\u001b[1;33m(\u001b[0m\u001b[0mn\u001b[0m\u001b[1;33m)\u001b[0m\u001b[1;33m:\u001b[0m\u001b[1;33m\u001b[0m\u001b[1;33m\u001b[0m\u001b[0m\n\u001b[1;32m----> 5\u001b[1;33m     return timeit.timeit(stmt = \"mat_mul(A[:, :%(n)s], B[:%(n)s, :])\" % {'n': n},\n\u001b[0m\u001b[0;32m      6\u001b[0m                          globals = {'mat_mul': mat_mul, 'A': A, 'B': B}, number = REPEAT_NUMBER)\n",
      "\u001b[1;32md:\\ProgramData\\Anaconda3\\lib\\timeit.py\u001b[0m in \u001b[0;36mtimeit\u001b[1;34m(stmt, setup, timer, number, globals)\u001b[0m\n\u001b[0;32m    231\u001b[0m            number=default_number, globals=None):\n\u001b[0;32m    232\u001b[0m     \u001b[1;34m\"\"\"Convenience function to create Timer object and call timeit method.\"\"\"\u001b[0m\u001b[1;33m\u001b[0m\u001b[1;33m\u001b[0m\u001b[0m\n\u001b[1;32m--> 233\u001b[1;33m     \u001b[1;32mreturn\u001b[0m \u001b[0mTimer\u001b[0m\u001b[1;33m(\u001b[0m\u001b[0mstmt\u001b[0m\u001b[1;33m,\u001b[0m \u001b[0msetup\u001b[0m\u001b[1;33m,\u001b[0m \u001b[0mtimer\u001b[0m\u001b[1;33m,\u001b[0m \u001b[0mglobals\u001b[0m\u001b[1;33m)\u001b[0m\u001b[1;33m.\u001b[0m\u001b[0mtimeit\u001b[0m\u001b[1;33m(\u001b[0m\u001b[0mnumber\u001b[0m\u001b[1;33m)\u001b[0m\u001b[1;33m\u001b[0m\u001b[1;33m\u001b[0m\u001b[0m\n\u001b[0m\u001b[0;32m    234\u001b[0m \u001b[1;33m\u001b[0m\u001b[0m\n\u001b[0;32m    235\u001b[0m def repeat(stmt=\"pass\", setup=\"pass\", timer=default_timer,\n",
      "\u001b[1;32md:\\ProgramData\\Anaconda3\\lib\\timeit.py\u001b[0m in \u001b[0;36mtimeit\u001b[1;34m(self, number)\u001b[0m\n\u001b[0;32m    175\u001b[0m         \u001b[0mgc\u001b[0m\u001b[1;33m.\u001b[0m\u001b[0mdisable\u001b[0m\u001b[1;33m(\u001b[0m\u001b[1;33m)\u001b[0m\u001b[1;33m\u001b[0m\u001b[1;33m\u001b[0m\u001b[0m\n\u001b[0;32m    176\u001b[0m         \u001b[1;32mtry\u001b[0m\u001b[1;33m:\u001b[0m\u001b[1;33m\u001b[0m\u001b[1;33m\u001b[0m\u001b[0m\n\u001b[1;32m--> 177\u001b[1;33m             \u001b[0mtiming\u001b[0m \u001b[1;33m=\u001b[0m \u001b[0mself\u001b[0m\u001b[1;33m.\u001b[0m\u001b[0minner\u001b[0m\u001b[1;33m(\u001b[0m\u001b[0mit\u001b[0m\u001b[1;33m,\u001b[0m \u001b[0mself\u001b[0m\u001b[1;33m.\u001b[0m\u001b[0mtimer\u001b[0m\u001b[1;33m)\u001b[0m\u001b[1;33m\u001b[0m\u001b[1;33m\u001b[0m\u001b[0m\n\u001b[0m\u001b[0;32m    178\u001b[0m         \u001b[1;32mfinally\u001b[0m\u001b[1;33m:\u001b[0m\u001b[1;33m\u001b[0m\u001b[1;33m\u001b[0m\u001b[0m\n\u001b[0;32m    179\u001b[0m             \u001b[1;32mif\u001b[0m \u001b[0mgcold\u001b[0m\u001b[1;33m:\u001b[0m\u001b[1;33m\u001b[0m\u001b[1;33m\u001b[0m\u001b[0m\n",
      "\u001b[1;32m<timeit-src>\u001b[0m in \u001b[0;36minner\u001b[1;34m(_it, _timer)\u001b[0m\n",
      "\u001b[1;31mKeyboardInterrupt\u001b[0m: "
     ]
    }
   ],
   "source": [
    "def time_reg_alt(n):\n",
    "    return timeit.timeit(stmt = \"mat_mul_alt(A[:, :%(n)s], B[:%(n)s, :])\" % {'n': n},\n",
    "                         globals = {'mat_mul_alt': mat_mul_alt, 'A': A, 'B': B}, number = REPEAT_NUMBER)\n",
    "\n",
    "points_list = list(data_range)\n",
    "time_list = list(time_reg(n) for n in data_range)\n",
    "time_alt_list = list(time_reg_alt(n) for n in data_range)"
   ]
  },
  {
   "cell_type": "code",
   "execution_count": 11,
   "metadata": {},
   "outputs": [
    {
     "data": {
      "text/plain": [
       "<matplotlib.legend.Legend at 0x1cafc988bb0>"
      ]
     },
     "execution_count": 11,
     "metadata": {},
     "output_type": "execute_result"
    },
    {
     "data": {
      "image/png": "[encoded data removed]",
      "text/plain": [
       "<Figure size 432x288 with 1 Axes>"
      ]
     },
     "metadata": {
      "needs_background": "light"
     },
     "output_type": "display_data"
    }
   ],
   "source": [
    "plt.scatter(points_list, time_list, s = 5, label = \"naive\")\n",
    "plt.scatter(points_list, time_alt_list, s = 5, label = \"naive alt\")\n",
    "plt.legend()"
   ]
  },
  {
   "attachments": {},
   "cell_type": "markdown",
   "metadata": {},
   "source": [
    "При применении numba значительной разницы нет при смене порядка"
   ]
  },
  {
   "attachments": {},
   "cell_type": "markdown",
   "metadata": {},
   "source": [
    "# 5\n",
    "Обновите функцию для перемножения матриц, используя несколько потоков с помощью numba.prange.\n",
    "Обновите модель использования вычислительных ресурсов, принимая во внимание число потоков.\n",
    "Оцените параметры модели из эксперимента.\n",
    "Какое [параллельное ускорение](https://en.wikipedia.org/wiki/Amdahl%27s_law) вы получили?"
   ]
  },
  {
   "cell_type": "code",
   "execution_count": null,
   "metadata": {},
   "outputs": [],
   "source": [
    "@nb.njit('float64[:,:](float64[:,:],float64[:,:])', parallel = True)\n",
    "def mat_mul_parallel(mat_1, mat_2):\n",
    "    row_1, col_1 = mat_1.shape\n",
    "    _, col_2 = mat_2.shape\n",
    "    mat_3 = np.empty((row_1, col_2), dtype = np.float64)\n",
    "    for i in nb.prange(row_1):\n",
    "        for j in nb.prange(col_2):\n",
    "            for k in nb.prange(col_1):\n",
    "                mat_3[i, j] += mat_1[i, k] * mat_2[k, j]\n",
    "    return mat_3"
   ]
  },
  {
   "cell_type": "code",
   "execution_count": null,
   "metadata": {},
   "outputs": [],
   "source": [
    "def time_reg_parallel(n, threads):\n",
    "    return timeit.timeit(stmt = \"mat_mul_parallel(A[:, :%(n)s], B[:%(n)s, :])\" % {'n': n},\n",
    "                         globals = {'mat_mul_parallel': mat_mul_parallel, 'A': A, 'B': B, 'nb.set_num_threads': nb.set_num_threads}, number = REPEAT_NUMBER, setup = \"\"\"\n",
    "from numba import set_num_threads\n",
    "set_num_threads(%s)\n",
    "\"\"\"%threads)"
   ]
  },
  {
   "cell_type": "code",
   "execution_count": null,
   "metadata": {},
   "outputs": [],
   "source": [
    "data_range_parallel = range(100, 1000, 200)\n",
    "parallel_points = list(n for n in data_range_parallel)\n",
    "\n",
    "time_list = list(time_reg(n) for n in data_range_parallel)\n",
    "time_parallel_list_2 = list(time_reg_parallel(n, 2) for n in data_range_parallel)\n",
    "time_parallel_list_4 = list(time_reg_parallel(n, 4) for n in data_range_parallel)\n",
    "time_parallel_list_6 = list(time_reg_parallel(n, 6) for n in data_range_parallel)"
   ]
  },
  {
   "cell_type": "code",
   "execution_count": null,
   "metadata": {},
   "outputs": [
    {
     "data": {
      "text/plain": [
       "<matplotlib.legend.Legend at 0x28529effa90>"
      ]
     },
     "execution_count": 57,
     "metadata": {},
     "output_type": "execute_result"
    },
    {
     "data": {
      "image/png": "[encoded data removed]",
      "text/plain": [
       "<Figure size 432x288 with 1 Axes>"
      ]
     },
     "metadata": {
      "needs_background": "light"
     },
     "output_type": "display_data"
    }
   ],
   "source": [
    "plt.scatter(parallel_points, time_list, s = 5, label = \"1 thread\")\n",
    "plt.scatter(parallel_points, time_parallel_list_2, s = 5, label = \"2 threads\")\n",
    "plt.scatter(parallel_points, time_parallel_list_4, s = 5, label = \"4 threads\")\n",
    "plt.scatter(parallel_points, time_parallel_list_6, s = 5, label = \"6 threads\")\n",
    "plt.legend()"
   ]
  },
  {
   "cell_type": "code",
   "execution_count": null,
   "metadata": {},
   "outputs": [
    {
     "data": {
      "text/plain": [
       "<matplotlib.legend.Legend at 0x2852a2dba00>"
      ]
     },
     "execution_count": 58,
     "metadata": {},
     "output_type": "execute_result"
    },
    {
     "data": {
      "image/png": "[encoded data removed]",
      "text/plain": [
       "<Figure size 432x288 with 1 Axes>"
      ]
     },
     "metadata": {
      "needs_background": "light"
     },
     "output_type": "display_data"
    }
   ],
   "source": [
    "plt.scatter(parallel_points, time_list, s = 5, label = \"1 thread\")\n",
    "plt.scatter(parallel_points, time_parallel_list_2, s = 5, label = \"2 threads\")\n",
    "plt.scatter(parallel_points, time_parallel_list_4, s = 5, label = \"4 threads\")\n",
    "plt.scatter(parallel_points, time_parallel_list_6, s = 5, label = \"6 threads\")\n",
    "plt.yscale('log')\n",
    "plt.xscale('log')\n",
    "plt.legend()"
   ]
  },
  {
   "attachments": {},
   "cell_type": "markdown",
   "metadata": {},
   "source": [
    "С увеличением числа потоков растёт и быстродействие перемножения. Определим коэффициенты линейного приближения и построим соответствующую модель. Для этого измерим время на больших размерах."
   ]
  },
  {
   "cell_type": "code",
   "execution_count": null,
   "metadata": {},
   "outputs": [],
   "source": [
    "data_range_extra = range(4000, 8000, 200)\n",
    "points = list(data_range_extra)\n",
    "\n",
    "threads_6 = list(time_reg_parallel(n, 6) for n in data_range_extra)\n",
    "\n",
    "parallel_coeffs_6 = np.polyfit(points, threads_6, 1)\n",
    "parallel_fit_6 = np.poly1d(parallel_coeffs_6)"
   ]
  },
  {
   "cell_type": "code",
   "execution_count": null,
   "metadata": {},
   "outputs": [
    {
     "data": {
      "text/plain": [
       "<matplotlib.legend.Legend at 0x28528add940>"
      ]
     },
     "execution_count": 67,
     "metadata": {},
     "output_type": "execute_result"
    },
    {
     "data": {
      "image/png": "[encoded data removed]",
      "text/plain": [
       "<Figure size 432x288 with 1 Axes>"
      ]
     },
     "metadata": {
      "needs_background": "light"
     },
     "output_type": "display_data"
    }
   ],
   "source": [
    "plt.scatter(points, threads_6, s = 10, label = 'exp')\n",
    "plt.plot(points, parallel_fit_6(points), '--r', label = 'fit')\n",
    "plt.legend()"
   ]
  },
  {
   "attachments": {},
   "cell_type": "markdown",
   "metadata": {},
   "source": [
    "Сами коэффициенты"
   ]
  },
  {
   "cell_type": "code",
   "execution_count": null,
   "metadata": {},
   "outputs": [
    {
     "name": "stdout",
     "output_type": "stream",
     "text": [
      "[0.00011431 0.00523183]\n"
     ]
    }
   ],
   "source": [
    "print(parallel_coeffs_6)"
   ]
  },
  {
   "attachments": {},
   "cell_type": "markdown",
   "metadata": {},
   "source": [
    "Если сравнить с однопоточными вычислениями"
   ]
  },
  {
   "cell_type": "code",
   "execution_count": null,
   "metadata": {},
   "outputs": [],
   "source": [
    "threads_1 = list(time_reg_parallel(n, 1) for n in data_range_extra)\n",
    "\n",
    "parallel_coeffs_1 = np.polyfit(points, threads_1, 1)\n",
    "parallel_fit_1 = np.poly1d(parallel_coeffs_1)"
   ]
  },
  {
   "cell_type": "code",
   "execution_count": null,
   "metadata": {},
   "outputs": [],
   "source": [
    "threads_4 = list(time_reg_parallel(n, 4) for n in data_range_extra)\n",
    "\n",
    "parallel_coeffs_4 = np.polyfit(points, threads_4, 1)\n",
    "parallel_fit_4 = np.poly1d(parallel_coeffs_4)"
   ]
  },
  {
   "cell_type": "code",
   "execution_count": null,
   "metadata": {},
   "outputs": [
    {
     "data": {
      "text/plain": [
       "<matplotlib.legend.Legend at 0x2852a48a7f0>"
      ]
     },
     "execution_count": 79,
     "metadata": {},
     "output_type": "execute_result"
    },
    {
     "data": {
      "image/png": "[encoded data removed]",
      "text/plain": [
       "<Figure size 432x288 with 1 Axes>"
      ]
     },
     "metadata": {
      "needs_background": "light"
     },
     "output_type": "display_data"
    }
   ],
   "source": [
    "plt.plot(points, parallel_fit_6(points), label = '6 threads')\n",
    "plt.plot(points, parallel_fit_4(points), label = '4 threads')\n",
    "plt.plot(points, parallel_fit_1(points), label = '1 thread')\n",
    "plt.legend()"
   ]
  },
  {
   "cell_type": "code",
   "execution_count": null,
   "metadata": {},
   "outputs": [
    {
     "name": "stdout",
     "output_type": "stream",
     "text": [
      "1 thread:  [ 4.17291698e-04 -5.34102197e-01]\n",
      "4 threads:  [ 0.00014326 -0.03270799]\n",
      "6 threads:  [0.00011431 0.00523183]\n",
      "a_1 / a_4 =  2.9128393439502833\n",
      "a_1 / a_6 =  3.6506217664825913\n"
     ]
    }
   ],
   "source": [
    "print('1 thread: ', parallel_coeffs_1)\n",
    "print('4 threads: ', parallel_coeffs_4)\n",
    "print('6 threads: ', parallel_coeffs_6)\n",
    "print('a_1 / a_4 = ', parallel_coeffs_1[0] / parallel_coeffs_4[0])\n",
    "print('a_1 / a_6 = ', parallel_coeffs_1[0] / parallel_coeffs_6[0])"
   ]
  },
  {
   "attachments": {},
   "cell_type": "markdown",
   "metadata": {},
   "source": [
    "Получили ускорение более чем в 3 раза."
   ]
  },
  {
   "attachments": {},
   "cell_type": "markdown",
   "metadata": {},
   "source": [
    "С ростом числа потоков растёт и быстродействие, значит есть обратная пропорциональность числу потоков. Однако пропорциональность не строгая. Видим, что быстроедйствие 4 потоков и 6 потоков различается не сильно."
   ]
  },
  {
   "attachments": {},
   "cell_type": "markdown",
   "metadata": {},
   "source": [
    "$$\n",
    "T(M,N,K))= (a / p + a_{write})\\cdot(MNK) + (b / p + b_{write})\\cdot(MN) + (c / p + c_{write})\\cdot(NK) + (d / p + d_{write})\\cdot(MK) + (e / p + e_{write})\\cdot(M) + (f / p + f_{write})\\cdot(N) + (g / p + g_{write})\\cdot(K) + q \\cdot p  + h\n",
    "$$"
   ]
  },
  {
   "attachments": {},
   "cell_type": "markdown",
   "metadata": {},
   "source": [
    "В общем случае должен быть коэффициент, отвечающий за выделение ресурсов под использование нескольких потоков. Так что появляется слабая, но прямая зависимость от числа потоков."
   ]
  },
  {
   "attachments": {},
   "cell_type": "markdown",
   "metadata": {},
   "source": [
    "# 7\n",
    "Реализуйте быстрое произведение матриц, например, используйте алгоритм Штрассена."
   ]
  },
  {
   "cell_type": "code",
   "execution_count": 21,
   "metadata": {},
   "outputs": [],
   "source": [
    "def strassen(A, B):\n",
    "    n = len(A)\n",
    "    if n == 1:\n",
    "        return A * B\n",
    "    else:\n",
    "        # Divide\n",
    "        A11, A12, A21, A22 = A[: n // 2, : n // 2], A[: n // 2,  n // 2 :], A[ n // 2 :, : n // 2], A[ n // 2 :,  n // 2 :]\n",
    "        B11, B12, B21, B22 = B[: n // 2, : n // 2], B[: n // 2,  n // 2 :], B[ n // 2 :, : n // 2], B[ n // 2 :,  n // 2 :]\n",
    "\n",
    "        # Compute\n",
    "        P1 = strassen(A11 + A22, B11 + B22)\n",
    "        P2 = strassen(A21 + A22, B11)\n",
    "        P3 = strassen(A11, B12 - B22)\n",
    "        P4 = strassen(A22, B21 - B11)\n",
    "        P5 = strassen(A11 + A12, B22)\n",
    "        P6 = strassen(A21 - A11, B11 + B12)\n",
    "        P7 = strassen(A12 - A22, B21 + B22)\n",
    "\n",
    "        # Compute the result\n",
    "        C11 = P1 + P4 - P5 + P7\n",
    "        C12 = P3 + P5\n",
    "        C21 = P2 + P4\n",
    "        C22 = P1 - P2 + P3 + P6\n",
    "\n",
    "        # Combine the result\n",
    "        C = np.vstack((np.hstack((C11, C12)), np.hstack((C21, C22))))\n",
    "        return C"
   ]
  },
  {
   "cell_type": "code",
   "execution_count": 22,
   "metadata": {},
   "outputs": [],
   "source": [
    "A = np.random.random((5000, 10000))\n",
    "B = np.random.random((10000, 5000))"
   ]
  },
  {
   "cell_type": "code",
   "execution_count": 23,
   "metadata": {},
   "outputs": [],
   "source": [
    "def strassen_time(n):\n",
    "    return timeit.timeit(stmt = \"strassen(A[:, :%(n)s], B[:%(n)s, :])\" % {'n': n},\n",
    "                         globals = {'strassen': strassen, 'A': A, 'B': B}, number = REPEAT_NUMBER)"
   ]
  },
  {
   "cell_type": "code",
   "execution_count": null,
   "metadata": {},
   "outputs": [],
   "source": [
    "strassen_range = range(5000, 9000, 1000)\n",
    "\n",
    "points = list(strassen_range)\n",
    "\n",
    "time_naive = list(time_reg(n) for n in data_range)\n",
    "time_strassen = list(strassen_time(n) for n in strassen_range)"
   ]
  }
 ],
 "metadata": {
  "kernelspec": {
   "display_name": "base",
   "language": "python",
   "name": "python3"
  },
  "language_info": {
   "codemirror_mode": {
    "name": "ipython",
    "version": 3
   },
   "file_extension": ".py",
   "mimetype": "text/x-python",
   "name": "python",
   "nbconvert_exporter": "python",
   "pygments_lexer": "ipython3",
   "version": "3.8.5"
  },
  "orig_nbformat": 4
 },
 "nbformat": 4,
 "nbformat_minor": 2
}
