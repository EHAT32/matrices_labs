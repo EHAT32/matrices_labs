{
 "cells": [
  {
   "cell_type": "code",
   "execution_count": 1,
   "metadata": {},
   "outputs": [],
   "source": [
    "import numpy as np\n",
    "import numba as nb\n",
    "import matplotlib.pyplot as plt\n",
    "import timeit"
   ]
  },
  {
   "attachments": {},
   "cell_type": "markdown",
   "metadata": {},
   "source": [
    "# 2\n",
    "Реализуйте произведение матриц $A\\in Mat(N\\times K)$, $B\\in Mat(K\\times M)$ согласно определению\n",
    "$$\n",
    "C_{n,m}=\\sum_{k=1}^K A_{n,k}B_{k,m}.\n",
    "$$\n",
    "Сравните быстродействие реализаций на основе numpy.sum, с помощью numba и стандартный метод numpy.dot.\n",
    "Насколько полно используется процессор? \n",
    "Сколько используется памяти?"
   ]
  },
  {
   "cell_type": "code",
   "execution_count": 9,
   "metadata": {},
   "outputs": [],
   "source": [
    "@nb.njit('float64[:,:](float64[:,:],float64[:,:])', parallel = False)\n",
    "def mat_mul(mat_1, mat_2):\n",
    "    row_1, col_1 = mat_1.shape\n",
    "    _, col_2 = mat_2.shape\n",
    "    mat_3 = np.empty((row_1, col_2), dtype = np.float64)\n",
    "    for i in range(row_1):\n",
    "        for j in range(col_2):\n",
    "            for k in range(col_1):\n",
    "                mat_3[i, j] += mat_1[i, k] * mat_2[k, j]\n",
    "    return mat_3"
   ]
  },
  {
   "cell_type": "code",
   "execution_count": 3,
   "metadata": {},
   "outputs": [],
   "source": [
    "# Matrices dimensions\n",
    "A_row = 1\n",
    "A_col_max = int(1e6)\n",
    "A_col_min = 2000\n",
    "\n",
    "\n",
    "STEP = 1000\n",
    "REPEAT_NUMBER = 10\n",
    "\n",
    "# matrix be has dimensions A_col_max, A_row\n",
    "A = np.random.random((A_row, A_col_max))\n",
    "B = np.random.random((A_col_max, A_row))"
   ]
  },
  {
   "cell_type": "code",
   "execution_count": 4,
   "metadata": {},
   "outputs": [],
   "source": [
    "#time data generation\n",
    "data_range = range(A_col_min, int(A_col_max / 3), STEP)"
   ]
  },
  {
   "cell_type": "code",
   "execution_count": 5,
   "metadata": {},
   "outputs": [],
   "source": [
    "def time_reg(n):\n",
    "    return timeit.timeit(stmt = \"mat_mul(A[:, :%(n)s], B[:%(n)s, :])\" % {'n': n},\n",
    "                         globals = {'mat_mul': mat_mul, 'A': A, 'B': B}, number = REPEAT_NUMBER)"
   ]
  },
  {
   "cell_type": "code",
   "execution_count": 6,
   "metadata": {},
   "outputs": [],
   "source": [
    "time_list = list(time_reg(n) for n in data_range)\n",
    "points_list = list(n for n in data_range)"
   ]
  },
  {
   "cell_type": "code",
   "execution_count": 7,
   "metadata": {},
   "outputs": [],
   "source": [
    "#implement dot multiplication\n",
    "\n",
    "dot_time_list = list(timeit.timeit(stmt = \"A[:, :%(n)s].dot(B[:%(n)s, :])\" % {'n': n},\n",
    "                    globals = {'A': A, 'B': B}, number = 1) for n in data_range)"
   ]
  },
  {
   "cell_type": "code",
   "execution_count": 8,
   "metadata": {},
   "outputs": [],
   "source": [
    "#implement np.sum\n",
    "\n",
    "def mat_np_sum(mat_1, mat_2):\n",
    "    row_1, _ = mat_1.shape\n",
    "    _, col_2 = mat_2.shape\n",
    "    mat_3 = np.empty((row_1, col_2), dtype = np.float64)\n",
    "    for i in range(row_1):\n",
    "        for j in range(col_2):\n",
    "            mat_3[i, j] = np.multiply(A[i, :], B[:, j])\n",
    "    return mat_3"
   ]
  },
  {
   "cell_type": "code",
   "execution_count": 9,
   "metadata": {},
   "outputs": [],
   "source": [
    "def sum_time_reg(n):\n",
    "    return timeit.timeit(stmt = \"mat_np_sum(A[:, :%(n)s], B[:%(n)s, :])\" % {'n': n},\n",
    "                         globals = {'mat_np_sum': mat_np_sum, 'A': A, 'B': B}, number = REPEAT_NUMBER)\n",
    "\n",
    "sum_time_list = list(time_reg(n) for n in data_range)"
   ]
  },
  {
   "attachments": {},
   "cell_type": "markdown",
   "metadata": {},
   "source": [
    "# 3\n",
    "Составьте модель использования вычислительных ресурсов функцией на основе numba.jit из предыдущего пункта. Размеры матриц должны быть параметрами модели. Проведите вычислительные эксперименты, чтобы подобрать параметры модели. Экстраполируйте результат на большие матрицы, сделайте экспериментальную проверку."
   ]
  },
  {
   "attachments": {},
   "cell_type": "markdown",
   "metadata": {},
   "source": [
    "В общем случае модели мы можем менять все три параметра матриц: $M, N, K$. Общий вид модели:\n",
    "\n",
    "$$\n",
    "T(M,N,K))= a\\cdot(MNK) + b\\cdot(MN) + c\\cdot(NK) + d\\cdot(MK) + e\\cdot(M) + f\\cdot(N) + g\\cdot(K) + h\n",
    "$$\n",
    "\n",
    "Наличие свободного члена обусловлено процессами, которые не зависят от размера массива.\n",
    "\n",
    "\n",
    "Посчитаем упрощённую модель, когда мы изменяем только общий размер матриц. Рассмотрим две матрицы размеров $(M, N)$ и $(N, K)$ Читаем строку матрицы A за $O(N)$, столбец B за $O(N)$, складываем элементы за $O(N)$, так мы делаем $M \\cdot K$ раз. Также есть ещё какое-то время на запуск: $O(1)$. Зависимость от N будет линейной и примет вид:\n",
    "\n",
    "$T(N) = a N + b$\n",
    "\n",
    "Найдём константы"
   ]
  },
  {
   "cell_type": "code",
   "execution_count": 10,
   "metadata": {},
   "outputs": [
    {
     "data": {
      "text/plain": [
       "<matplotlib.legend.Legend at 0x131474bbf70>"
      ]
     },
     "execution_count": 10,
     "metadata": {},
     "output_type": "execute_result"
    },
    {
     "data": {
      "image/png": "[encoded data removed]",
      "text/plain": [
       "<Figure size 432x288 with 1 Axes>"
      ]
     },
     "metadata": {
      "needs_background": "light"
     },
     "output_type": "display_data"
    }
   ],
   "source": [
    "N_ax = [n for n in data_range]\n",
    "points = np.array(points_list)\n",
    "\n",
    "dot_time = np.array(dot_time_list)\n",
    "sum_time = np.array(sum_time_list)\n",
    "\n",
    "naive_fit_coeffs = np.polyfit(points_list, time_list, 1)\n",
    "naive_polynomial = np.poly1d(naive_fit_coeffs)\n",
    "naive_fit = naive_polynomial(N_ax)\n",
    "\n",
    "dot_coeffs = np.polyfit(points_list, dot_time_list, 1)\n",
    "dot_pol = np.poly1d(dot_coeffs)\n",
    "dot_fit = dot_pol(N_ax)\n",
    "\n",
    "sum_coeffs = np.polyfit(points_list, sum_time_list, 1)\n",
    "sum_pol = np.poly1d(sum_coeffs)\n",
    "sum_fit = sum_pol(N_ax)\n",
    "\n",
    "plt.scatter(points, time_list, s = 5, label = 'naive')\n",
    "plt.plot(N_ax, naive_fit, '--r', label = \"naive fit\")\n",
    "plt.scatter(points, dot_time, s = 5, label = 'dot')\n",
    "plt.plot(N_ax, dot_fit, '--b', label = \"dot fit\")\n",
    "plt.scatter(points, sum_time, s = 5, label = \"np.sum\")\n",
    "plt.plot(N_ax, sum_fit, '--k', label = \"np.sum fit\")\n",
    "plt.xscale('log')\n",
    "plt.yscale('log')\n",
    "plt.legend()"
   ]
  },
  {
   "cell_type": "code",
   "execution_count": 11,
   "metadata": {},
   "outputs": [
    {
     "name": "stdout",
     "output_type": "stream",
     "text": [
      "Determination coefficient for naive:  0.8553286840076051\n",
      "Determination coefficient for sum:  0.9676007307330755\n"
     ]
    }
   ],
   "source": [
    "from sklearn.metrics import r2_score\n",
    "\n",
    "print('Determination coefficient for naive: ', r2_score(time_list, naive_fit))\n",
    "print('Determination coefficient for sum: ', r2_score(sum_time, sum_fit))"
   ]
  },
  {
   "attachments": {},
   "cell_type": "markdown",
   "metadata": {},
   "source": [
    "Сами коэффициенты для простой реализации с numba и для реализации np.dot"
   ]
  },
  {
   "cell_type": "code",
   "execution_count": 12,
   "metadata": {},
   "outputs": [
    {
     "name": "stdout",
     "output_type": "stream",
     "text": [
      "Naive:  [ 1.20917379e-08 -3.03682039e-05]\n",
      "Dot:  [1.02229822e-10 1.26403312e-04]\n"
     ]
    }
   ],
   "source": [
    "print('Naive: ', naive_fit_coeffs)\n",
    "print('Dot: ', dot_coeffs)"
   ]
  },
  {
   "attachments": {},
   "cell_type": "markdown",
   "metadata": {},
   "source": [
    "Посмотрим, как ведёт себя модель при экстраполяции:"
   ]
  },
  {
   "cell_type": "code",
   "execution_count": 13,
   "metadata": {},
   "outputs": [],
   "source": [
    "extra_data_range = range(int(A_col_max / 2), A_col_max, STEP * 5)\n",
    "\n",
    "time = np.array(list(time_reg(n) for n in extra_data_range))\n",
    "points = np.array(list(extra_data_range))\n",
    "\n",
    "time_fit = naive_polynomial(points)"
   ]
  },
  {
   "cell_type": "code",
   "execution_count": 14,
   "metadata": {},
   "outputs": [
    {
     "data": {
      "text/plain": [
       "<matplotlib.legend.Legend at 0x1314c53fc40>"
      ]
     },
     "execution_count": 14,
     "metadata": {},
     "output_type": "execute_result"
    },
    {
     "data": {
      "image/png": "[encoded data removed]",
      "text/plain": [
       "<Figure size 432x288 with 1 Axes>"
      ]
     },
     "metadata": {
      "needs_background": "light"
     },
     "output_type": "display_data"
    }
   ],
   "source": [
    "plt.scatter(points, time, s = 10, label = \"experiment\")\n",
    "plt.plot(points, time_fit, '--r', label = \"theory\")\n",
    "plt.legend()"
   ]
  },
  {
   "cell_type": "code",
   "execution_count": 15,
   "metadata": {},
   "outputs": [
    {
     "name": "stdout",
     "output_type": "stream",
     "text": [
      "Determination coefficient for naive:  0.42659889568573506\n"
     ]
    }
   ],
   "source": [
    "print('Determination coefficient for naive: ', r2_score(time, time_fit))"
   ]
  },
  {
   "attachments": {},
   "cell_type": "markdown",
   "metadata": {},
   "source": [
    "Видим, что при экстраполяции до 2N модель работает недостаточно хорошо, экспериментальные значения идут выше предсказанного."
   ]
  },
  {
   "attachments": {},
   "cell_type": "markdown",
   "metadata": {},
   "source": [
    "# 4\n",
    "В простейшем алгоритме произведения матриц используются три цикла: перебирающие элементы $n$ и $m$  матрицы $C$\n",
    "и суммирующие по $k$. \n",
    "Сравните время перемножения матриц в зависимости от порядка циклов.\n",
    "Оцените объем кэшей разных уровней, проводя эксперименты для матриц разного размера."
   ]
  },
  {
   "cell_type": "code",
   "execution_count": 16,
   "metadata": {},
   "outputs": [
    {
     "data": {
      "text/plain": [
       "<matplotlib.legend.Legend at 0x131474f7d00>"
      ]
     },
     "execution_count": 16,
     "metadata": {},
     "output_type": "execute_result"
    },
    {
     "data": {
      "image/png": "[encoded data removed]",
      "text/plain": [
       "<Figure size 432x288 with 1 Axes>"
      ]
     },
     "metadata": {
      "needs_background": "light"
     },
     "output_type": "display_data"
    }
   ],
   "source": [
    "A_col = 100\n",
    "A_row_max = 26000\n",
    "A_row_min = 2000\n",
    "\n",
    "# matrix be has dimensions A_col_max, A_row\n",
    "A = np.random.random((A_row, A_col_max))\n",
    "B = np.random.random((A_col_max, A_row))\n",
    "\n",
    "cache_data_range = range(A_row_min, A_row_max, 1000)\n",
    "\n",
    "def time_reg(n):\n",
    "    return timeit.timeit(stmt = \"mat_mul(A[:%(n)s, :], B[:, :%(n)s])\" % {'n': n},\n",
    "                         globals = {'mat_mul': mat_mul, 'A': A, 'B': B}, number = 10)\n",
    "\n",
    "time_list = list(time_reg(n) for n in cache_data_range)\n",
    "points_list = list(cache_data_range)\n",
    "\n",
    "plt.scatter(points_list, time_list, s = 5, label = 'naive')\n",
    "\n",
    "plt.legend()"
   ]
  },
  {
   "attachments": {},
   "cell_type": "markdown",
   "metadata": {},
   "source": [
    "Здесь заметны \"ступеньки\", когда время вычисления растёт быстрее. Скачки наблюдаются при $N = 15000, \\; N = 17000$, значит кэш порядка 120 - 144 Кб. Обратимся к спецификации."
   ]
  },
  {
   "attachments": {
    "image.png": {
     "image/png": "[encoded data removed]"
    }
   },
   "cell_type": "markdown",
   "metadata": {},
   "source": [
    "![image.png](attachment:image.png)"
   ]
  },
  {
   "attachments": {},
   "cell_type": "markdown",
   "metadata": {},
   "source": [
    "В этих ступеньках за пределы кэша мы не выходим."
   ]
  },
  {
   "attachments": {},
   "cell_type": "markdown",
   "metadata": {},
   "source": [
    "Теперь посмотрим на поведение зависимости времени от размера при смене порядка изменяющегося индекса"
   ]
  },
  {
   "cell_type": "code",
   "execution_count": 17,
   "metadata": {},
   "outputs": [],
   "source": [
    "@nb.njit('float64[:,:](float64[:,:],float64[:,:])')\n",
    "def mat_mul_alt(mat_1, mat_2):\n",
    "    row_1, col_1 = mat_1.shape\n",
    "    _, col_2 = mat_2.shape\n",
    "    mat_3 = np.empty((row_1, col_2), dtype = np.float64)\n",
    "    for i in range(col_2):\n",
    "        for j in range(row_1):\n",
    "            for k in range(col_1):\n",
    "                mat_3[j, i] += mat_1[j, k] * mat_2[k, i]\n",
    "    return mat_3"
   ]
  },
  {
   "cell_type": "code",
   "execution_count": 18,
   "metadata": {},
   "outputs": [],
   "source": [
    "def time_reg_alt(n):\n",
    "    return timeit.timeit(stmt = \"mat_mul_alt(A[:, :%(n)s], B[:%(n)s, :])\" % {'n': n},\n",
    "                         globals = {'mat_mul_alt': mat_mul_alt, 'A': A, 'B': B}, number = REPEAT_NUMBER)\n",
    "\n",
    "points_list = list(data_range)\n",
    "time_list = list(time_reg(n) for n in data_range)\n",
    "time_alt_list = list(time_reg_alt(n) for n in data_range)"
   ]
  },
  {
   "cell_type": "code",
   "execution_count": 19,
   "metadata": {},
   "outputs": [
    {
     "data": {
      "text/plain": [
       "<matplotlib.legend.Legend at 0x1314805c340>"
      ]
     },
     "execution_count": 19,
     "metadata": {},
     "output_type": "execute_result"
    },
    {
     "data": {
      "image/png": "[encoded data removed]",
      "text/plain": [
       "<Figure size 432x288 with 1 Axes>"
      ]
     },
     "metadata": {
      "needs_background": "light"
     },
     "output_type": "display_data"
    }
   ],
   "source": [
    "plt.scatter(points_list, time_list, s = 5, label = \"naive\")\n",
    "plt.scatter(points_list, time_alt_list, s = 5, label = \"naive alt\")\n",
    "plt.legend()"
   ]
  },
  {
   "attachments": {},
   "cell_type": "markdown",
   "metadata": {},
   "source": [
    "# 5\n",
    "Обновите функцию для перемножения матриц, используя несколько потоков с помощью numba.prange.\n",
    "Обновите модель использования вычислительных ресурсов, принимая во внимание число потоков.\n",
    "Оцените параметры модели из эксперимента.\n",
    "Какое [параллельное ускорение](https://en.wikipedia.org/wiki/Amdahl%27s_law) вы получили?"
   ]
  },
  {
   "attachments": {},
   "cell_type": "markdown",
   "metadata": {},
   "source": [
    "См. дополнительный файл"
   ]
  },
  {
   "attachments": {},
   "cell_type": "markdown",
   "metadata": {},
   "source": [
    "С ростом числа потоков растёт и быстродействие, значит есть обратная пропорциональность числу потоков. Однако пропорциональность не строгая. Видим, что быстроедйствие 4 потоков и 6 потоков различается не сильно."
   ]
  },
  {
   "attachments": {},
   "cell_type": "markdown",
   "metadata": {},
   "source": [
    "$$\n",
    "T(M,N,K))= (a / p + a_{write})\\cdot(MNK) + (b / p + b_{write})\\cdot(MN) + (c / p + c_{write})\\cdot(NK) + (d / p + d_{write})\\cdot(MK) + (e / p + e_{write})\\cdot(M) + (f / p + f_{write})\\cdot(N) + (g / p + g_{write})\\cdot(K) + q \\cdot p  + h\n",
    "$$"
   ]
  },
  {
   "attachments": {},
   "cell_type": "markdown",
   "metadata": {},
   "source": [
    "В общем случае должен быть коэффициент, отвечающий за выделение ресурсов под использование нескольких потоков. Так что появляется слабая, но прямая зависимость от числа потоков."
   ]
  },
  {
   "attachments": {},
   "cell_type": "markdown",
   "metadata": {},
   "source": [
    "# 7\n",
    "Реализуйте быстрое произведение матриц, например, используйте алгоритм Штрассена."
   ]
  },
  {
   "cell_type": "code",
   "execution_count": 3,
   "metadata": {},
   "outputs": [],
   "source": [
    "def strassen(A, B):\n",
    "    n = len(A)\n",
    "    if n <= int(2 ** 5):\n",
    "        return A.dot(B)\n",
    "    else:\n",
    "        # Divide\n",
    "        A11, A12, A21, A22 = A[: n // 2, : n // 2], A[: n // 2,  n // 2 :], A[ n // 2 :, : n // 2], A[ n // 2 :,  n // 2 :]\n",
    "        B11, B12, B21, B22 = B[: n // 2, : n // 2], B[: n // 2,  n // 2 :], B[ n // 2 :, : n // 2], B[ n // 2 :,  n // 2 :]\n",
    "\n",
    "        # Compute\n",
    "        P1 = strassen(A11 + A22, B11 + B22)\n",
    "        P2 = strassen(A21 + A22, B11)\n",
    "        P3 = strassen(A11, B12 - B22)\n",
    "        P4 = strassen(A22, B21 - B11)\n",
    "        P5 = strassen(A11 + A12, B22)\n",
    "        P6 = strassen(A21 - A11, B11 + B12)\n",
    "        P7 = strassen(A12 - A22, B21 + B22)\n",
    "\n",
    "        # Compute the result\n",
    "        C11 = P1 + P4 - P5 + P7\n",
    "        C12 = P3 + P5\n",
    "        C21 = P2 + P4\n",
    "        C22 = P1 - P2 + P3 + P6\n",
    "\n",
    "        # Combine the result\n",
    "        C = np.vstack((np.hstack((C11, C12)), np.hstack((C21, C22))))\n",
    "        return C"
   ]
  },
  {
   "cell_type": "code",
   "execution_count": 4,
   "metadata": {},
   "outputs": [],
   "source": [
    "A = np.random.random((2 ** 13 , 2 ** 13))\n",
    "B = np.random.random((2 ** 13, 2 ** 13))\n",
    "REPEAT_NUMBER = 10"
   ]
  },
  {
   "cell_type": "code",
   "execution_count": 5,
   "metadata": {},
   "outputs": [],
   "source": [
    "def strassen_time(n):\n",
    "    return timeit.timeit(stmt = \"strassen(A[: %(n)s, :%(n)s], B[:%(n)s, : %(n)s])\" % {'n': n},\n",
    "                         globals = {'strassen': strassen, 'A': A, 'B': B}, number = REPEAT_NUMBER)"
   ]
  },
  {
   "cell_type": "code",
   "execution_count": 6,
   "metadata": {},
   "outputs": [],
   "source": [
    "def time_reg(n):\n",
    "    return timeit.timeit(stmt = \"mat_mul(A[:%(n)s, :%(n)s], B[:%(n)s, :%(n)s])\" % {'n': n},\n",
    "                         globals = {'mat_mul': mat_mul, 'A': A, 'B': B}, number = REPEAT_NUMBER)"
   ]
  },
  {
   "cell_type": "code",
   "execution_count": 7,
   "metadata": {},
   "outputs": [],
   "source": [
    "strassen_range = list(2 ** n for n in range (7, 12))\n",
    "\n",
    "time_strassen = list(strassen_time(n) for n in strassen_range)"
   ]
  },
  {
   "cell_type": "code",
   "execution_count": 10,
   "metadata": {},
   "outputs": [],
   "source": [
    "time_naive = list(time_reg(n) for n in strassen_range)"
   ]
  },
  {
   "cell_type": "code",
   "execution_count": 12,
   "metadata": {},
   "outputs": [
    {
     "data": {
      "text/plain": [
       "<matplotlib.legend.Legend at 0x2204a2fd580>"
      ]
     },
     "execution_count": 12,
     "metadata": {},
     "output_type": "execute_result"
    },
    {
     "data": {
      "image/png": "[encoded data removed]",
      "text/plain": [
       "<Figure size 432x288 with 1 Axes>"
      ]
     },
     "metadata": {
      "needs_background": "light"
     },
     "output_type": "display_data"
    }
   ],
   "source": [
    "plt.scatter(strassen_range, time_strassen, s = 10, label = 'strassen')\n",
    "plt.scatter(strassen_range, time_naive, s = 10, label = 'naive')\n",
    "plt.yscale('log')\n",
    "plt.xscale('log')\n",
    "plt.xlabel('N')\n",
    "plt.ylabel('Время')\n",
    "plt.legend()"
   ]
  }
 ],
 "metadata": {
  "kernelspec": {
   "display_name": "base",
   "language": "python",
   "name": "python3"
  },
  "language_info": {
   "codemirror_mode": {
    "name": "ipython",
    "version": 3
   },
   "file_extension": ".py",
   "mimetype": "text/x-python",
   "name": "python",
   "nbconvert_exporter": "python",
   "pygments_lexer": "ipython3",
   "version": "3.8.5"
  },
  "orig_nbformat": 4
 },
 "nbformat": 4,
 "nbformat_minor": 2
}
