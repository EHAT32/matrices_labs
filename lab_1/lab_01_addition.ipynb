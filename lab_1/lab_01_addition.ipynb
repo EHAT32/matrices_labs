{
 "cells": [
  {
   "cell_type": "code",
   "execution_count": 1,
   "metadata": {},
   "outputs": [],
   "source": [
    "import numpy as np\n",
    "import numba as nb\n",
    "import matplotlib.pyplot as plt\n",
    "import timeit"
   ]
  },
  {
   "attachments": {},
   "cell_type": "markdown",
   "metadata": {},
   "source": [
    "Построим зависимость времени выполнения от количества потоков при фиксированном размере матриц"
   ]
  },
  {
   "cell_type": "code",
   "execution_count": 2,
   "metadata": {},
   "outputs": [],
   "source": [
    "A_rows = 1024\n",
    "A_cols = 1024\n",
    "B_cols = 1024\n",
    "\n",
    "A = np.random.random((A_rows, A_cols))\n",
    "B = np.random.random((A_cols, B_cols))\n",
    "\n",
    "threads = list(k + 1 for k in range(6))"
   ]
  },
  {
   "cell_type": "code",
   "execution_count": 3,
   "metadata": {},
   "outputs": [],
   "source": [
    "@nb.njit('float64[:,:](float64[:,:],float64[:,:])', parallel = True, nogil = False)\n",
    "def mat_mul_parallel(mat_1, mat_2):\n",
    "    row_1, col_1 = mat_1.shape\n",
    "    _, col_2 = mat_2.shape\n",
    "    mat_3 = np.empty((row_1, col_2), dtype = np.float64)\n",
    "    for i in nb.prange(row_1):\n",
    "        for j in range(col_2):\n",
    "            for k in range(col_1):\n",
    "                mat_3[i, j] += mat_1[i, k] * mat_2[k, j]\n",
    "    return mat_3"
   ]
  },
  {
   "cell_type": "code",
   "execution_count": 4,
   "metadata": {},
   "outputs": [],
   "source": [
    "def time_reg_parallel(threads):\n",
    "    return timeit.timeit(stmt = \"mat_mul_parallel(A, B)\",\n",
    "                         globals = {'mat_mul_parallel': mat_mul_parallel, 'A': A, 'B': B, 'nb.set_num_threads': nb.set_num_threads}, number = 20, setup = \"\"\"\n",
    "from numba import set_num_threads\n",
    "set_num_threads(%s)\n",
    "\"\"\"%threads)"
   ]
  },
  {
   "cell_type": "code",
   "execution_count": 5,
   "metadata": {},
   "outputs": [],
   "source": [
    "threads_time = list(time_reg_parallel(p) for p in threads)"
   ]
  },
  {
   "cell_type": "code",
   "execution_count": 6,
   "metadata": {},
   "outputs": [],
   "source": [
    "parallel_coeffs = np.polyfit(threads, threads_time, 4)\n",
    "parallel_fit = np.poly1d(parallel_coeffs)\n",
    "lin_threads = np.linspace(1, len(threads))"
   ]
  },
  {
   "cell_type": "code",
   "execution_count": 7,
   "metadata": {},
   "outputs": [],
   "source": [
    "thr1_to_thr6 = list(threads_time[0] / time for time in threads_time)"
   ]
  },
  {
   "cell_type": "code",
   "execution_count": 8,
   "metadata": {},
   "outputs": [
    {
     "data": {
      "text/plain": [
       "<matplotlib.legend.Legend at 0x1fd58402d90>"
      ]
     },
     "execution_count": 8,
     "metadata": {},
     "output_type": "execute_result"
    },
    {
     "data": {
      "image/png": "[encoded data removed]",
      "text/plain": [
       "<Figure size 432x288 with 1 Axes>"
      ]
     },
     "metadata": {
      "needs_background": "light"
     },
     "output_type": "display_data"
    }
   ],
   "source": [
    "plt.scatter(threads, threads_time, s = 15, label = 'exp')\n",
    "plt.plot(lin_threads, parallel_fit(lin_threads), '--r', label = 'fit')\n",
    "plt.title('time vs threads')\n",
    "plt.legend()"
   ]
  },
  {
   "cell_type": "code",
   "execution_count": 12,
   "metadata": {},
   "outputs": [
    {
     "data": {
      "text/plain": [
       "Text(0.5, 1.0, 'thr1 to thrds ratio')"
      ]
     },
     "execution_count": 12,
     "metadata": {},
     "output_type": "execute_result"
    },
    {
     "data": {
      "image/png": "[encoded data removed]",
      "text/plain": [
       "<Figure size 432x288 with 1 Axes>"
      ]
     },
     "metadata": {
      "needs_background": "light"
     },
     "output_type": "display_data"
    }
   ],
   "source": [
    "plt.scatter(threads, thr1_to_thr6, s = 15)\n",
    "plt.xlabel('Количество потоков')\n",
    "plt.ylabel('T1 / TN')\n",
    "plt.title('thr1 to thrds ratio')"
   ]
  }
 ],
 "metadata": {
  "kernelspec": {
   "display_name": "base",
   "language": "python",
   "name": "python3"
  },
  "language_info": {
   "codemirror_mode": {
    "name": "ipython",
    "version": 3
   },
   "file_extension": ".py",
   "mimetype": "text/x-python",
   "name": "python",
   "nbconvert_exporter": "python",
   "pygments_lexer": "ipython3",
   "version": "3.8.5"
  },
  "orig_nbformat": 4
 },
 "nbformat": 4,
 "nbformat_minor": 2
}
