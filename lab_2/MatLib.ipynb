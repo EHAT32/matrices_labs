{
 "cells": [
  {
   "cell_type": "markdown",
   "id": "9cb0344f",
   "metadata": {},
   "source": [
    "# LU разложение, блочные и ленточные матрицы"
   ]
  },
  {
   "attachments": {},
   "cell_type": "markdown",
   "id": "2366b489",
   "metadata": {},
   "source": [
    "Существует множество типов матриц, удовлетворяющих некоторым дополнительным условиям, для которых многие матричные операции могут быть вычислены быстрее или точнее, чем для матриц произвольного вида. \n",
    "В данной лабораторной мы начнем писать библиотеку на Python, которая будет содержать классы, реализующие базовые алгоритмы для работы с основными типами матриц.\n",
    "Далее приводится исходный код класса `Matrix`, являющегося общим предком для всех матриц, и реализующего логику работы с матрицами общего вида.\n",
    "Нижеследующий класс `FullMatrix` реализует хранилище для заполненных матриц. \n",
    "Изучите эти реализации и выполните следующие задания:\n",
    "\n",
    "1. +Напишите метод `lu` для класса `Matrix`, выполняющий LU разложение. \n",
    "2. +Реализуйте метод `det`, вычисляющий определитель матрицы, опираясь на LU разложение.\n",
    "3. Реализация `FullMatrix` может содержать своими элементами другие матрицы, т.е. описывать блочную матрицу. Убедитесь, что ваша реализация LU разложения работает с блочными матрицами.\n",
    "4. Реализуйте LUP разложение с перестановкой строк. Предъявите матрицу, на которой LUP разложение работает, а LU - нет.\n",
    "5. Реализуйте метод прогонки и реализуйте метод `Matrix.solve` для решения линейных систем уравнений.\n",
    "6. Реализуйте класс `SymmetricMatrix`, хранящий симметричные матрицы. Убедитесь, что метод `Matrix.lu` корректно работает с этим классом. Модифицируйте этот метод для класса `SymmetricMatrix` так, чтобы он использовал симметричность матрицы и работал в два раза быстрее.\n",
    "7. Как влияет симметричность матрицы на устойчивость LU разложения?\n",
    "8. Реализуйте класс `BandMatrix` для хранения ленточных матриц. Убедитесь в работоспособности методов `lu` и `solve`.\n",
    "9. Воспользуйтесь реализованными классами для решения уравнения Пуассона $\\Delta f=g$, использую операцию Лапласа из предыдущей лабораторной."
   ]
  },
  {
   "cell_type": "code",
   "execution_count": 1,
   "id": "6ef01751",
   "metadata": {},
   "outputs": [],
   "source": [
    "import numpy as np\n",
    "from fractions import Fraction\n",
    "import matplotlib.pyplot as plt"
   ]
  },
  {
   "cell_type": "code",
   "execution_count": 2,
   "id": "14ed5f5c",
   "metadata": {},
   "outputs": [],
   "source": [
    "class TextBlock:\n",
    "    def __init__(self, rows):\n",
    "        assert isinstance(rows, list)\n",
    "        self.rows = rows\n",
    "        self.height = len(self.rows)\n",
    "        self.width = max(map(len,self.rows))\n",
    "        \n",
    "    @classmethod\n",
    "    def from_str(_cls, data):\n",
    "        assert isinstance(data, str)\n",
    "        return TextBlock( data.split('\\n') )\n",
    "        \n",
    "    def format(self, width=None, height=None):\n",
    "        if width is None: width = self.width\n",
    "        if height is None: height = self.height\n",
    "        return [f\"{row:{width}}\" for row in self.rows]+[' '*width]*(height-self.height)\n",
    "    \n",
    "    @staticmethod\n",
    "    def merge(blocks):\n",
    "        return [\" \".join(row) for row in zip(*blocks)]\n",
    "    \n",
    "class Matrix:\n",
    "    \"\"\"Общий предок для всех матриц.\"\"\"\n",
    "    @property\n",
    "    def shape(self):\n",
    "        raise NotImplementedError\n",
    "    \n",
    "    @property\n",
    "    def dtype(self):\n",
    "        raise NotImplementedError\n",
    "    \n",
    "    @property \n",
    "    def width(self):\n",
    "        return self.shape[1]\n",
    "    \n",
    "    @property \n",
    "    def height(self):\n",
    "        return self.shape[0]    \n",
    "        \n",
    "    def __repr__(self):\n",
    "        \"\"\"Возвращает текстовое представление для матрицы.\"\"\"\n",
    "        text = [[TextBlock.from_str(f\"{self[r,c]}\") for c in range(self.width)] for r in range(self.height)]\n",
    "        width_el = np.array(list(map(lambda row: list(map(lambda el: el.width, row)), text)))\n",
    "        height_el = np.array(list(map(lambda row: list(map(lambda el: el.height, row)), text)))\n",
    "        width_column = np.max(width_el, axis=0)\n",
    "        width_total = np.sum(width_column)\n",
    "        height_row = np.max(height_el, axis=1)\n",
    "        result = []\n",
    "        for r in range(self.height):\n",
    "            lines = TextBlock.merge(text[r][c].format(width=width_column[c], height=height_row[r]) for c in range(self.width))\n",
    "            for l in lines:\n",
    "                result.append(f\"| {l} |\")\n",
    "            if len(lines)>0 and len(lines[0])>0 and lines[0][0]=='|' and r<self.height-1:\n",
    "                result.append(f'| {\" \"*(width_total+self.width)}|')\n",
    "        return \"\\n\".join(result)\n",
    "    \n",
    "    def empty_like(self, width=None, height=None):\n",
    "        raise NotImplementedError\n",
    "    \n",
    "    def zero(self, width=None, height=None):\n",
    "        raise NotImplementedError\n",
    "    \n",
    "    def __getitem__(self, key):\n",
    "        raise NotImplementedError\n",
    "    \n",
    "    def __setitem__(self, key, value):\n",
    "        raise NotImplementedError\n",
    "        \n",
    "    def __add__(self, other):\n",
    "        if isinstance(other, Matrix):\n",
    "            assert self.width==other.width and self.height==other.height, f\"Shapes does not match: {self.shape} != {other.shape}\"\n",
    "            matrix = self.empty_like()\n",
    "            for r in range(self.height):\n",
    "                for c in range(self.width):\n",
    "                    matrix[r,c] = self[r,c] + other[r,c]\n",
    "            return matrix\n",
    "        return NotImplemented\n",
    "    \n",
    "    def __sub__(self, other):\n",
    "        if isinstance(other, Matrix):\n",
    "            assert self.width==other.width and self.height==other.height, f\"Shapes does not match: {self.shape} != {other.shape}\"\n",
    "            matrix = self.empty_like()\n",
    "            for r in range(self.height):\n",
    "                for c in range(self.width):\n",
    "                    matrix[r,c] = self[r,c] - other[r,c]\n",
    "            return matrix\n",
    "        return NotImplemented\n",
    "\n",
    "    def __mul__(self, other):\n",
    "        return self.__matmul__(other)\n",
    "    def __rmul__(self, other):\n",
    "        return self.__matmul__(other)\n",
    "    \n",
    "    def __matmul__(self, other):\n",
    "        # add matmul for Matrix and number\n",
    "        if isinstance(other, float or int or Fraction):\n",
    "            matrix = self.empty_like()\n",
    "            for c in range(self.height):\n",
    "                for r in range(self.width):\n",
    "                    matrix[r,c] = other*self[r,c]\n",
    "            return matrix \n",
    "        if isinstance(other, Matrix):\n",
    "            assert self.width==other.height, f\"Shapes does not match: {self.shape} != {other.shape}\"\n",
    "            matrix = self.empty_like()\n",
    "            for r in range(self.height):\n",
    "                for c in range(other.width):\n",
    "                    acc = None\n",
    "                    for k in range(self.width):\n",
    "                        add = self[r,k]*other[k,c]\n",
    "                        acc = add if acc is None else acc+add\n",
    "                    matrix[r,c] = acc\n",
    "            return matrix\n",
    "        return NotImplemented\n",
    "    \n",
    "    def inverse(self):\n",
    "        raise NotImplementedError\n",
    "        \n",
    "    def invert_element(self, element):\n",
    "        if isinstance(element, float):\n",
    "            return 1/element\n",
    "        if isinstance(element, Fraction):\n",
    "            return 1/element\n",
    "        if isinstance(element, Matrix):\n",
    "            return element.inverse()\n",
    "        raise TypeError\n",
    "    \n",
    "    # student\n",
    "    # def lu(self):\n",
    "    #     lu_matrix = self.empty_like()\n",
    "    #     n = self.shape[0]\n",
    "    #     for k in range(n):\n",
    "    #         for j in range(k, n):\n",
    "    #             s = Fraction(0)\n",
    "    #             if type(self[0,0]) == FullMatrix:\n",
    "    #                 s = self.zero(self[0,0].shape[0], self[0,0].shape[0])\n",
    "\n",
    "    #             for i_ in range(k):\n",
    "    #                 s += lu_matrix[k,i_]*lu_matrix[i_, j]\n",
    "                    \n",
    "    #             lu_matrix[k, j] = self[k, j] - s\n",
    "\n",
    "    #         for i in range(k + 1, n):\n",
    "    #             s = Fraction(0)\n",
    "    #             if type(self[0,0]) == FullMatrix:\n",
    "    #                 s = self.zero(self[0,0].shape[0], self[0,0].shape[0])\n",
    "\n",
    "    #             for i_ in range(k):\n",
    "    #                 s += lu_matrix[i,i_]*lu_matrix[i_, k]\n",
    "\n",
    "    #             lu_matrix[i, k] = (self[i, k] - s) / lu_matrix[k, k]\n",
    "                \n",
    "    #     return lu_matrix\n",
    "    \n",
    "    # question 1\n",
    "    def lu(self):\n",
    "        c = self.copy()\n",
    "        for i in range(self.shape[0]):\n",
    "            for j in range(i+1, self.shape[0]):\n",
    "                        c[j, i] /= c[i,i]\n",
    "                        for k in range(i+1, self.shape[0]):\n",
    "                            c[j,k]-=c[j,i]*c[i,k]\n",
    "        return c\n",
    "\n",
    "\n",
    "    # student\n",
    "    def get_l(self):\n",
    "        l = self.lu()\n",
    "        \n",
    "        for i in range(l.shape[0]):\n",
    "                if type(l[i,i]) == FullMatrix:\n",
    "                    l[i,i] = FullMatrix.zero(*l[i,i].shape, Fraction(0))\n",
    "                    for li in range(min(l[i,i].shape)):\n",
    "                        (l[i,i])[li,li] = Fraction(1)\n",
    "                    for j in range(i+1, l.shape[1]):\n",
    "                        l[i,j] = FullMatrix.zero(*l[i,j].shape, Fraction(0))\n",
    "                else:\n",
    "                    l[i, i] = 1\n",
    "                    for j in range(i+1, l.shape[1]):\n",
    "                        l[i,j] = 0\n",
    "        return l\n",
    "    \n",
    "    # student\n",
    "    def get_u(self):\n",
    "        u = self.lu()\n",
    "        for i in range(u.shape[0]):\n",
    "                for j in range(i):\n",
    "                    if type(u[i,j]) == FullMatrix:\n",
    "                        u[i,j] = FullMatrix.zero(*u[i,j].shape, Fraction(0))\n",
    "                    else:\n",
    "                        u[i,j] = 0\n",
    "\n",
    "        return u\n",
    "    \n",
    "    # student\n",
    "    def det(self):\n",
    "        u = self.get_u()\n",
    "\n",
    "        det = u[0,0]\n",
    "        for i in range(1, self.shape[0]):\n",
    "                det*=u[i,i]\n",
    "        return det\n",
    "\n",
    "    # https://courses.physics.illinois.edu/cs357/sp2020/notes/ref-9-linsys.html\n",
    "    # student\n",
    "    def solve_lup(self, b):\n",
    "        x = FullMatrix.empty_like(b) # l*u*x = p*b\n",
    "        y = FullMatrix.empty_like(b) # l*y = p*b\n",
    "        lu, p = self.lup()\n",
    "        pb = p*b\n",
    "        for i in range(b.shape[0]):\n",
    "            for j in range(b.shape[1]):\n",
    "                y[i,j] = pb[i,j]\n",
    "                for k in range(i):\n",
    "                    if i<=k:\n",
    "                        print(i,k, 'catch')\n",
    "                    y[i,j]-=lu[i,k]*y[k,j]         \n",
    "        for i in range(b.shape[0]-1, -1, -1):\n",
    "            for j in range(b.shape[1]-1, -1, -1):\n",
    "                x[i,j] = y[i,j]/lu[i,i]\n",
    "                for k in range(y.shape[0]-1, i, -1):\n",
    "                    x[i,j] -= lu[i,k]*x[k,j]/lu[i,i]\n",
    "        return x\n",
    "    \n",
    "    def copy(self):\n",
    "        c = self.empty_like(self.shape[0], self.shape[1])\n",
    "        for i in range(self.shape[0]):\n",
    "            for j in range(self.shape[1]):\n",
    "                c[i,j] = self[i,j]\n",
    "        return c\n",
    "\n",
    "    def swaprows(self, i_r, j_r):\n",
    "        c = self.copy()\n",
    "        for i in range(self.shape[1]):\n",
    "            acc = c[i_r, i]\n",
    "            c[i_r, i] = c[j_r, i]\n",
    "            c[j_r, i] = acc\n",
    "        return c\n",
    "\n",
    "    # Вроде работает \n",
    "    def lup(self):\n",
    "        c = self.copy()\n",
    "        p = FullMatrix.zero(self.shape[0], self.shape[1], Fraction(0))\n",
    "        for i in range(self.shape[0]):\n",
    "            p[i,i] = Fraction(1)\n",
    "        for i in range(self.shape[0]):\n",
    "            pVal = Fraction(0)\n",
    "            pivot = -1\n",
    "            for row in range(i, self.shape[0]):\n",
    "                if abs(c[row, i]) > pVal:\n",
    "                    pVal = abs(c[row, i])\n",
    "                    pivot = row\n",
    "            if pVal !=Fraction(0):\n",
    "                p = p.swaprows(pivot, i)\n",
    "                c = c.swaprows(pivot, i)\n",
    "                for j in range(i+1, self.shape[0]):\n",
    "                    c[j, i] /= c[i,i]\n",
    "                    for k in range(i+1, self.shape[0]):\n",
    "                        c[j,k]-=c[j,i]*c[i,k]\n",
    "        return c, p\n",
    "    def get_l_p(self):\n",
    "        l = self.lup()[0]\n",
    "        for i in range(self.shape[0]):\n",
    "            l[i,i] = Fraction(1)\n",
    "            for j in range(i+1, self.shape[1]):\n",
    "                l[i,j] = Fraction(0)\n",
    "        return l\n",
    "    def get_u_p(self):\n",
    "        u = self.lup()[0]\n",
    "        for i in range(self.shape[0]):\n",
    "            for j in range(i):\n",
    "                u[i,j] = Fraction(0)\n",
    "        return u\n",
    "    \n",
    "    def T(self):\n",
    "        dat = self.data\n",
    "        return FullMatrix(dat.T)\n",
    "        \n",
    "    \n",
    "    # поменять под LUP \n",
    "    def __truediv__(self ,other):\n",
    "        e = other.zero(*other.shape, Fraction(0))\n",
    "        for i in range(other.shape[0]):\n",
    "            e[i,i] = Fraction(1)\n",
    "        return self*other.solve_lup(e)\n",
    "    def __rtruediv__(self, other):\n",
    "        e = self.zero(*self.shape, Fraction(0))\n",
    "        for i in range(self.shape[0]):\n",
    "            e[i,i] = Fraction(1)\n",
    "        return other*self.solve_lup(e)\n",
    "        \n",
    "\n",
    "        \n",
    "\n",
    "class FullMatrix(Matrix):\n",
    "    \"\"\"\n",
    "    Заполненная матрица с элементами произвольного типа.\n",
    "    \"\"\"\n",
    "    def __init__(self, data):\n",
    "        \"\"\"\n",
    "        Создает объект, хранящий матрицу в виде np.ndarray `data`.\n",
    "        \"\"\"\n",
    "        assert isinstance(data, np.ndarray)\n",
    "        self.data = data\n",
    "\n",
    "    def empty_like(self, width=None, height=None):\n",
    "        dtype = self.data.dtype\n",
    "        if width is None:\n",
    "            width = self.data.shape[1]\n",
    "        if height is None:\n",
    "            height = self.data.shape[0]       \n",
    "        data = np.empty((height,width), dtype=dtype)\n",
    "        return FullMatrix(data)\n",
    "\n",
    "    @classmethod\n",
    "    def zero(_cls, height, width, default=0):\n",
    "        \"\"\"\n",
    "        Создает матрицу размера `width` x `height` со значениями по умолчанию `default`.\n",
    "        \"\"\"\n",
    "        data = np.empty((height, width), dtype=type(default))\n",
    "        data[:] = default\n",
    "        return FullMatrix(data)\n",
    "                    \n",
    "    @property\n",
    "    def shape(self):\n",
    "        return self.data.shape\n",
    "    \n",
    "    @property\n",
    "    def dtype(self):\n",
    "        return self.data.dtype\n",
    "        \n",
    "    def __getitem__(self, key):\n",
    "        row, column = key\n",
    "        return self.data[row, column]\n",
    "    \n",
    "    def __setitem__(self, key, value):\n",
    "        row, column = key\n",
    "        self.data[row, column] = value\n",
    "        "
   ]
  },
  {
   "cell_type": "code",
   "execution_count": 3,
   "id": "04c28585",
   "metadata": {},
   "outputs": [],
   "source": [
    "class SymmetricMatrix(Matrix):\n",
    "    def __init__(self, data):\n",
    "        \"\"\"\n",
    "        Создает объект, хранящий матрицу в виде np.ndarray `data`.\n",
    "        \"\"\"\n",
    "        assert isinstance(data, np.ndarray)\n",
    "        self.data = data\n",
    "\n",
    "    def empty_like(self, width=None, hight=None):\n",
    "        height = width\n",
    "        dtype = self.data.dtype\n",
    "        if width is None:\n",
    "            width = self.data.shape[1]\n",
    "        if height is None:\n",
    "            height = self.data.shape[0]       \n",
    "        data = np.empty((height,width), dtype=dtype)\n",
    "        return SymmetricMatrix(data)\n",
    "\n",
    "    @classmethod\n",
    "    def zero(_cls, height, width, default=0):\n",
    "        \"\"\"\n",
    "        Создает матрицу размера `width` x `height` со значениями по умолчанию `default`.\n",
    "        \"\"\"\n",
    "        data = np.empty((height, width), dtype=type(default))\n",
    "        data[:] = default\n",
    "        return SymmetricMatrix(data)\n",
    "                    \n",
    "    @property\n",
    "    def shape(self):\n",
    "        return self.data.shape\n",
    "    \n",
    "    @property\n",
    "    def dtype(self):\n",
    "        return self.data.dtype\n",
    "        \n",
    "    def __getitem__(self, key):\n",
    "        return self.data[max(key), min(key)]\n",
    "    \n",
    "    def __setitem__(self, key, value):\n",
    "        self.data[max(key), min(key)] = value"
   ]
  },
  {
   "cell_type": "code",
   "execution_count": 4,
   "id": "94e4748a",
   "metadata": {},
   "outputs": [],
   "source": [
    "class BandMatrix(Matrix):\n",
    "    def __init__(self, diagonal, lower_diagonals=[], upper_diagonals=[]):\n",
    "        \"\"\"\n",
    "        Создает ленточную матрицу.\n",
    "        `diagonal` - список элементов главной диагонали,\n",
    "        `lower_diagonals` - список диагоналей ниже главной, начиная с ближайшей к главной.\n",
    "        `upper_diagonals` - список диагоналей выше главной, начиная с ближайшей к главной.\n",
    "        \"\"\"\n",
    "        self._diagonal = diagonal\n",
    "        self._lower_diagonals = lower_diagonals\n",
    "        self._upper_diagonals = upper_diagonals\n",
    "    @property\n",
    "    def n(self): return len(self._diagonal) # Размер матрицы (матрица всегда квадратная).\n",
    "    @property\n",
    "    def p(self): return len(self._lower_diagonals) # Число диагоналей ниже главной.\n",
    "    @property\n",
    "    def q(self): return len(self._upper_diagonals) # Число диагоналей выше главной.\n",
    "    @property\n",
    "    def shape(self): # Переопределяем вычисление размера \n",
    "        return (self.n,)*2\n",
    "    def __getitem__(self, key): # Извлечение элемента матрицы (или подматрицы).\n",
    "        (i,j) = key # Распаковываем индексы матрицы.\n",
    "        d = j-i # Номер диагонали, верхние с плюсом.\n",
    "        if d>self.q or d<-self.p: return 0 # Элемент вне ленты.\n",
    "        n = (j+i-abs(d))//2 # Номер элемента на диагонали (считая от верхнего/левого элемента).\n",
    "        return (self._diagonal[n] if d==0 else \n",
    "                self._upper_diagonals[d-1][n] if d>0 else \n",
    "                self._lower_diagonals[-d-1][n])\n",
    "    def __setitem__(self, key, value):\n",
    "        (i,j) = key\n",
    "        d = j-i # Номер диагонали, верхние с плюсом.\n",
    "        n = (j+i-abs(d))//2\n",
    "        if d>self.q:\n",
    "            for new_q in range(self.q, d):\n",
    "                self._upper_diagonals.append([0]*(self.n-new_q))\n",
    "            self._upper_diagonals[-1][n] = value\n",
    "        elif d<-self.p:\n",
    "            for new_p in range(-self.p-1, d-1, -1):\n",
    "                self._lower_diagonals.append([0]*(self.n+new_p))\n",
    "            self._lower_diagonals[-1][n] = value\n",
    "        elif d == 0:\n",
    "            self._diagonal[n] = value\n",
    "        elif d > 0:\n",
    "            self._upper_diagonals[d-1][n] = value\n",
    "        elif d < 0:\n",
    "            self._lower_diagonals[-d-1][n] = value\n",
    "\n",
    "    def to_dense(self): # Преобразует матрицу к плотной матрице в виде массива numpy.\n",
    "        result = np.zeros(self.shape)\n",
    "        for i in range(self.shape[0]):\n",
    "            for j in range(self.shape[1]): # TODO Можно перебирать меньше элементов.\n",
    "                result[i,j] = self[i,j]\n",
    "        return result\n",
    "    \n",
    "\n",
    "    @staticmethod\n",
    "    def multiply(a, b):\n",
    "        if a.n != b.n:\n",
    "            raise ValueError(\"Matrices cannot be multiplied!\")\n",
    "\n",
    "        n = a.n\n",
    "        m = b.n\n",
    "\n",
    "        lower_bandwidth = max(a.p, b.p)\n",
    "        upper_bandwidth = max(a.q, b.q)\n",
    "        allMax = max(lower_bandwidth, upper_bandwidth)*2\n",
    "\n",
    "        c = BandMatrix([0]*(n), [], [])\n",
    "\n",
    "        for i in range(n):\n",
    "            for j in range(max(0, i-allMax), min(n, i+allMax)):\n",
    "                sum = 0\n",
    "                for k in range(max(0, i - lower_bandwidth), min(n, i + upper_bandwidth + 1)):\n",
    "                    sum += a[i, k] * b[k, j]\n",
    "                c[i, j] = sum\n",
    "\n",
    "        return c\n",
    "\n",
    "\n",
    "    def __matmul__(self, other):\n",
    "        if a.n != b.n:\n",
    "            raise ValueError(\"Matrices cannot be multiplied!\")\n",
    "\n",
    "        n = self.n\n",
    "        m = other.n\n",
    "\n",
    "        lower_bandwidth = max(self.p, other.p)\n",
    "        upper_bandwidth = max(self.q, other.q)\n",
    "        allMax = max(lower_bandwidth, upper_bandwidth)*2\n",
    "\n",
    "        c = BandMatrix([0]*(n), [], [])\n",
    "\n",
    "        for i in range(n):\n",
    "            for j in range(max(0, i-allMax), min(n, i+allMax)):\n",
    "                sum = 0\n",
    "                for k in range(max(0, i - lower_bandwidth), min(n, i + upper_bandwidth + 1)):\n",
    "                    sum += self[i, k] * other[k, j]\n",
    "                c[i, j] = sum\n",
    "\n",
    "        return c\n",
    "\n",
    "            \n",
    "\n",
    "    \n",
    "    \n",
    "a = BandMatrix(diagonal=[1,2,3,4], lower_diagonals=[[5,6,7],[8,9]], upper_diagonals=[[10,11,12]])\n",
    "b = BandMatrix(diagonal=[1,1,1,1])"
   ]
  },
  {
   "cell_type": "code",
   "execution_count": 5,
   "id": "b947df62",
   "metadata": {},
   "outputs": [],
   "source": [
    "n = 11\n",
    "\n",
    "A = BandMatrix(diagonal=list(range(1, n)), lower_diagonals=[list(range(1, n-1)), list(range(1, n-2))],  upper_diagonals=[list(range(1, n-1))])\n",
    "B = BandMatrix(diagonal=list(range(1+2, n+2)), lower_diagonals=[list(range(1+2, n-1+2)), list(range(1+2, n-2+2))],  upper_diagonals=[list(range(1+2, n-1+2))])"
   ]
  },
  {
   "cell_type": "code",
   "execution_count": 6,
   "id": "92b0895f",
   "metadata": {},
   "outputs": [
    {
     "data": {
      "text/plain": [
       "| 6  7  4  0  0   0   0   0   0   0   |\n",
       "| 15 19 18 10 0   0   0   0   0   0   |\n",
       "| 18 35 38 33 18  0   0   0   0   0   |\n",
       "| 15 36 63 63 52  28  0   0   0   0   |\n",
       "| 9  28 60 99 94  75  40  0   0   0   |\n",
       "| 0  16 45 90 143 131 102 54  0   0   |\n",
       "| 0  0  25 66 126 195 174 133 70  0   |\n",
       "| 0  0  0  36 91  168 255 223 168 88  |\n",
       "| 0  0  0  0  49  120 216 323 278 207 |\n",
       "| 0  0  0  0  0   64  153 270 289 219 |"
      ]
     },
     "execution_count": 6,
     "metadata": {},
     "output_type": "execute_result"
    }
   ],
   "source": [
    "A@B"
   ]
  },
  {
   "cell_type": "code",
   "execution_count": null,
   "id": "a39315d7",
   "metadata": {},
   "outputs": [],
   "source": []
  },
  {
   "cell_type": "code",
   "execution_count": 7,
   "id": "e2654eb8",
   "metadata": {},
   "outputs": [
    {
     "data": {
      "text/plain": [
       "| 2 3  2  0  0   0   0   0   0   0   |\n",
       "| 5 9  10 6  0   0   0   0   0   0   |\n",
       "| 6 17 22 21 12  0   0   0   0   0   |\n",
       "| 5 18 37 41 36  20  0   0   0   0   |\n",
       "| 3 14 36 65 66  55  30  0   0   0   |\n",
       "| 0 8  27 60 101 97  78  42  0   0   |\n",
       "| 0 0  15 44 90  145 134 105 56  0   |\n",
       "| 0 0  0  24 65  126 197 177 136 72  |\n",
       "| 0 0  0  0  35  90  168 257 226 171 |\n",
       "| 0 0  0  0  0   48  119 216 235 181 |"
      ]
     },
     "execution_count": 7,
     "metadata": {},
     "output_type": "execute_result"
    }
   ],
   "source": [
    "A@A"
   ]
  },
  {
   "cell_type": "code",
   "execution_count": 8,
   "id": "88ffbc14",
   "metadata": {},
   "outputs": [],
   "source": [
    "s = SymmetricMatrix.zero(3, 3, 1)"
   ]
  },
  {
   "cell_type": "code",
   "execution_count": 9,
   "id": "74c7d951",
   "metadata": {},
   "outputs": [
    {
     "name": "stderr",
     "output_type": "stream",
     "text": [
      "<ipython-input-2-99f3d0880239>:159: RuntimeWarning: divide by zero encountered in long_scalars\n",
      "  c[j, i] /= c[i,i]\n"
     ]
    },
    {
     "ename": "OverflowError",
     "evalue": "cannot convert float infinity to integer",
     "output_type": "error",
     "traceback": [
      "\u001b[1;31m---------------------------------------------------------------------------\u001b[0m",
      "\u001b[1;31mOverflowError\u001b[0m                             Traceback (most recent call last)",
      "\u001b[1;32m<ipython-input-9-33726fc1f27b>\u001b[0m in \u001b[0;36m<module>\u001b[1;34m\u001b[0m\n\u001b[1;32m----> 1\u001b[1;33m \u001b[0ms\u001b[0m\u001b[1;33m.\u001b[0m\u001b[0mlu\u001b[0m\u001b[1;33m(\u001b[0m\u001b[1;33m)\u001b[0m\u001b[1;33m\u001b[0m\u001b[1;33m\u001b[0m\u001b[0m\n\u001b[0m",
      "\u001b[1;32m<ipython-input-2-99f3d0880239>\u001b[0m in \u001b[0;36mlu\u001b[1;34m(self)\u001b[0m\n\u001b[0;32m    157\u001b[0m         \u001b[1;32mfor\u001b[0m \u001b[0mi\u001b[0m \u001b[1;32min\u001b[0m \u001b[0mrange\u001b[0m\u001b[1;33m(\u001b[0m\u001b[0mself\u001b[0m\u001b[1;33m.\u001b[0m\u001b[0mshape\u001b[0m\u001b[1;33m[\u001b[0m\u001b[1;36m0\u001b[0m\u001b[1;33m]\u001b[0m\u001b[1;33m)\u001b[0m\u001b[1;33m:\u001b[0m\u001b[1;33m\u001b[0m\u001b[1;33m\u001b[0m\u001b[0m\n\u001b[0;32m    158\u001b[0m             \u001b[1;32mfor\u001b[0m \u001b[0mj\u001b[0m \u001b[1;32min\u001b[0m \u001b[0mrange\u001b[0m\u001b[1;33m(\u001b[0m\u001b[0mi\u001b[0m\u001b[1;33m+\u001b[0m\u001b[1;36m1\u001b[0m\u001b[1;33m,\u001b[0m \u001b[0mself\u001b[0m\u001b[1;33m.\u001b[0m\u001b[0mshape\u001b[0m\u001b[1;33m[\u001b[0m\u001b[1;36m0\u001b[0m\u001b[1;33m]\u001b[0m\u001b[1;33m)\u001b[0m\u001b[1;33m:\u001b[0m\u001b[1;33m\u001b[0m\u001b[1;33m\u001b[0m\u001b[0m\n\u001b[1;32m--> 159\u001b[1;33m                         \u001b[0mc\u001b[0m\u001b[1;33m[\u001b[0m\u001b[0mj\u001b[0m\u001b[1;33m,\u001b[0m \u001b[0mi\u001b[0m\u001b[1;33m]\u001b[0m \u001b[1;33m/=\u001b[0m \u001b[0mc\u001b[0m\u001b[1;33m[\u001b[0m\u001b[0mi\u001b[0m\u001b[1;33m,\u001b[0m\u001b[0mi\u001b[0m\u001b[1;33m]\u001b[0m\u001b[1;33m\u001b[0m\u001b[1;33m\u001b[0m\u001b[0m\n\u001b[0m\u001b[0;32m    160\u001b[0m                         \u001b[1;32mfor\u001b[0m \u001b[0mk\u001b[0m \u001b[1;32min\u001b[0m \u001b[0mrange\u001b[0m\u001b[1;33m(\u001b[0m\u001b[0mi\u001b[0m\u001b[1;33m+\u001b[0m\u001b[1;36m1\u001b[0m\u001b[1;33m,\u001b[0m \u001b[0mself\u001b[0m\u001b[1;33m.\u001b[0m\u001b[0mshape\u001b[0m\u001b[1;33m[\u001b[0m\u001b[1;36m0\u001b[0m\u001b[1;33m]\u001b[0m\u001b[1;33m)\u001b[0m\u001b[1;33m:\u001b[0m\u001b[1;33m\u001b[0m\u001b[1;33m\u001b[0m\u001b[0m\n\u001b[0;32m    161\u001b[0m                             \u001b[0mc\u001b[0m\u001b[1;33m[\u001b[0m\u001b[0mj\u001b[0m\u001b[1;33m,\u001b[0m\u001b[0mk\u001b[0m\u001b[1;33m]\u001b[0m\u001b[1;33m-=\u001b[0m\u001b[0mc\u001b[0m\u001b[1;33m[\u001b[0m\u001b[0mj\u001b[0m\u001b[1;33m,\u001b[0m\u001b[0mi\u001b[0m\u001b[1;33m]\u001b[0m\u001b[1;33m*\u001b[0m\u001b[0mc\u001b[0m\u001b[1;33m[\u001b[0m\u001b[0mi\u001b[0m\u001b[1;33m,\u001b[0m\u001b[0mk\u001b[0m\u001b[1;33m]\u001b[0m\u001b[1;33m\u001b[0m\u001b[1;33m\u001b[0m\u001b[0m\n",
      "\u001b[1;32m<ipython-input-3-1429df969185>\u001b[0m in \u001b[0;36m__setitem__\u001b[1;34m(self, key, value)\u001b[0m\n\u001b[0;32m     38\u001b[0m \u001b[1;33m\u001b[0m\u001b[0m\n\u001b[0;32m     39\u001b[0m     \u001b[1;32mdef\u001b[0m \u001b[0m__setitem__\u001b[0m\u001b[1;33m(\u001b[0m\u001b[0mself\u001b[0m\u001b[1;33m,\u001b[0m \u001b[0mkey\u001b[0m\u001b[1;33m,\u001b[0m \u001b[0mvalue\u001b[0m\u001b[1;33m)\u001b[0m\u001b[1;33m:\u001b[0m\u001b[1;33m\u001b[0m\u001b[1;33m\u001b[0m\u001b[0m\n\u001b[1;32m---> 40\u001b[1;33m         \u001b[0mself\u001b[0m\u001b[1;33m.\u001b[0m\u001b[0mdata\u001b[0m\u001b[1;33m[\u001b[0m\u001b[0mmax\u001b[0m\u001b[1;33m(\u001b[0m\u001b[0mkey\u001b[0m\u001b[1;33m)\u001b[0m\u001b[1;33m,\u001b[0m \u001b[0mmin\u001b[0m\u001b[1;33m(\u001b[0m\u001b[0mkey\u001b[0m\u001b[1;33m)\u001b[0m\u001b[1;33m]\u001b[0m \u001b[1;33m=\u001b[0m \u001b[0mvalue\u001b[0m\u001b[1;33m\u001b[0m\u001b[1;33m\u001b[0m\u001b[0m\n\u001b[0m",
      "\u001b[1;31mOverflowError\u001b[0m: cannot convert float infinity to integer"
     ]
    }
   ],
   "source": [
    "s.lu()"
   ]
  },
  {
   "cell_type": "code",
   "execution_count": null,
   "id": "055e5ced",
   "metadata": {},
   "outputs": [
    {
     "data": {
      "text/plain": [
       "| -2 1  1  |\n",
       "| 0  -2 1  |\n",
       "| 0  0  -2 |"
      ]
     },
     "execution_count": 85,
     "metadata": {},
     "output_type": "execute_result"
    }
   ],
   "source": [
    "delta(3).lu()"
   ]
  },
  {
   "cell_type": "code",
   "execution_count": null,
   "id": "d1d7022e",
   "metadata": {},
   "outputs": [],
   "source": [
    "s.data = delta(3).data"
   ]
  },
  {
   "cell_type": "code",
   "execution_count": null,
   "id": "2a0fa06c",
   "metadata": {},
   "outputs": [
    {
     "data": {
      "text/plain": [
       "| -2 1  0  1  |\n",
       "| 1  -2 1  0  |\n",
       "| 0  1  -2 1  |\n",
       "| 1  0  1  -2 |"
      ]
     },
     "execution_count": 57,
     "metadata": {},
     "output_type": "execute_result"
    }
   ],
   "source": [
    "s"
   ]
  },
  {
   "cell_type": "code",
   "execution_count": null,
   "metadata": {},
   "outputs": [
    {
     "data": {
      "text/plain": [
       "<__main__.SymmetricMatrix at 0x249685fc6d0>"
      ]
     },
     "execution_count": 8,
     "metadata": {},
     "output_type": "execute_result"
    }
   ],
   "source": [
    "s"
   ]
  },
  {
   "cell_type": "code",
   "execution_count": null,
   "id": "7450f832",
   "metadata": {},
   "outputs": [],
   "source": [
    "s[0,1] = 1\n",
    "\n",
    "s[1,0] = 2"
   ]
  },
  {
   "cell_type": "code",
   "execution_count": null,
   "id": "bd6aafc5",
   "metadata": {},
   "outputs": [
    {
     "data": {
      "text/plain": [
       "<__main__.SymmetricMatrix at 0x249685fc6d0>"
      ]
     },
     "execution_count": 10,
     "metadata": {},
     "output_type": "execute_result"
    }
   ],
   "source": [
    "s"
   ]
  },
  {
   "attachments": {},
   "cell_type": "markdown",
   "id": "316b095a",
   "metadata": {},
   "source": [
    "## Вопрос 1\n",
    "\n",
    "Проверим LU-разложение на операторе Лапласа в 1D:"
   ]
  },
  {
   "cell_type": "code",
   "execution_count": null,
   "id": "01457094",
   "metadata": {},
   "outputs": [],
   "source": [
    "def delta(n=4):\n",
    "    d = FullMatrix.zero(n,n,0)\n",
    "\n",
    "    d[0, 0], d[0, 1] = -2,  1\n",
    "    d[n-1, n-1], d[n-1, n-2] = -2, 1\n",
    "\n",
    "    for i in range(1, d.shape[0]-1):\n",
    "        d[i, i] = -2\n",
    "        d[i, i+1 % n] = 1\n",
    "        d[i, i-1 % n] = 1\n",
    "    d[0, -1] = 1\n",
    "    d[-1, 0] = 1\n",
    "    return d"
   ]
  },
  {
   "cell_type": "code",
   "execution_count": null,
   "id": "6866dc6b",
   "metadata": {},
   "outputs": [],
   "source": [
    "D = delta(4)"
   ]
  },
  {
   "cell_type": "code",
   "execution_count": null,
   "id": "d9bab13f",
   "metadata": {},
   "outputs": [],
   "source": [
    "n = 2**6\n",
    "\n",
    "a, b = 0, 2*np.pi\n",
    "\n",
    "datag = np.sin(np.linspace(a, b, n))\n",
    "\n",
    "g = FullMatrix.zero(n, 1)\n",
    "\n",
    "g.data = datag.reshape(n, 1)\n",
    "\n",
    "\n",
    "D = delta(n)"
   ]
  },
  {
   "cell_type": "code",
   "execution_count": null,
   "id": "2fc4bed3",
   "metadata": {},
   "outputs": [],
   "source": [
    "nD = np.array(D.data, dtype=int)"
   ]
  },
  {
   "cell_type": "code",
   "execution_count": null,
   "id": "c8f2b7df",
   "metadata": {},
   "outputs": [],
   "source": [
    "npSol = np.linalg.solve(nD, np.array(g.data, dtype=float)).ravel()*(b-a)**2/n**2"
   ]
  },
  {
   "cell_type": "code",
   "execution_count": null,
   "id": "911fa701",
   "metadata": {},
   "outputs": [
    {
     "data": {
      "text/plain": [
       "[<matplotlib.lines.Line2D at 0x249685cd750>]"
      ]
     },
     "execution_count": 16,
     "metadata": {},
     "output_type": "execute_result"
    },
    {
     "data": {
      "image/png": "[encoded data removed]",
      "text/plain": [
       "<Figure size 640x480 with 1 Axes>"
      ]
     },
     "metadata": {},
     "output_type": "display_data"
    }
   ],
   "source": [
    "plt.plot(np.linspace(a, b, n), npSol)"
   ]
  },
  {
   "cell_type": "code",
   "execution_count": null,
   "id": "d2b6c0d3",
   "metadata": {},
   "outputs": [
    {
     "data": {
      "text/plain": [
       "| -0.0976273182954818    |\n",
       "| -0.1952546365909637    |\n",
       "| -0.2909414265861107    |\n",
       "| -0.38373670997282383   |\n",
       "| -0.4727182455347434    |\n",
       "| -0.557001694794792     |\n",
       "| -0.6357494109682658    |\n",
       "| -0.7081787638729093    |\n",
       "| -0.7735699180592792    |\n",
       "| -0.83127298685884      |\n",
       "| -0.8807144912496503    |\n",
       "| -0.921403059348529     |\n",
       "| -0.9529343098855891    |\n",
       "| -0.974994871126974     |\n",
       "| -0.987365495303936     |\n",
       "| -0.9899232375956639    |\n",
       "| -0.9826426780101478    |\n",
       "| -0.9655961740194794    |\n",
       "| -0.9389531414387868    |\n",
       "| -0.9029783706957502    |\n",
       "| -0.8580293952243685    |\n",
       "| -0.804552938137064     |\n",
       "| -0.7430804724896893    |\n",
       "| -0.6742229392635222    |\n",
       "| -0.5986646755593104    |\n",
       "| -0.5171566133477012    |\n",
       "| -0.4305088163699251    |\n",
       "| -0.33958242936035204   |\n",
       "| -0.24528111960314583   |\n",
       "| -0.14854209588062317   |\n",
       "| -0.050326794070952904  |\n",
       "| 0.04838867803426847    |\n",
       "| 0.14662324172923397    |\n",
       "| 0.24340059779777068    |\n",
       "| 0.3377589294193669     |\n",
       "| 0.42876046114844024    |\n",
       "| 0.5155007789712118     |\n",
       "| 0.5971178188248656     |\n",
       "| 0.6728004342702327     |\n",
       "| 0.741796458214988      |\n",
       "| 0.8034201786590565     |\n",
       "| 0.8570591543503788     |\n",
       "| 0.9021803029849012     |\n",
       "| 0.9383352021853635     |\n",
       "| 0.9651645520590538     |\n",
       "| 0.9824017579509758     |\n",
       "| 0.989875603720128      |\n",
       "| 0.987512000840084      |\n",
       "| 0.9753348196793517     |\n",
       "| 0.9534658421775231     |\n",
       "| 0.922123931342838      |\n",
       "| 0.8816236157356641     |\n",
       "| 0.8323734828271239     |\n",
       "| 0.7748751568427791     |\n",
       "| 0.7097243905347869     |\n",
       "| 0.6376172986015438     |\n",
       "| 0.5593677479433692     |\n",
       "| 0.47594788620019957    |\n",
       "| 0.3885757143367772     |\n",
       "| 0.29889745005223656    |\n",
       "| 0.20936010382977843    |\n",
       "| 0.12396503324865299    |\n",
       "| 0.04978392329790827    |\n",
       "| 1.2246467991473532e-16 |"
      ]
     },
     "execution_count": 17,
     "metadata": {},
     "output_type": "execute_result"
    }
   ],
   "source": [
    "D.solve_lup(g)"
   ]
  },
  {
   "cell_type": "code",
   "execution_count": null,
   "id": "3563abcd",
   "metadata": {},
   "outputs": [
    {
     "data": {
      "text/plain": [
       "[<matplotlib.lines.Line2D at 0x2496a956ad0>]"
      ]
     },
     "execution_count": 18,
     "metadata": {},
     "output_type": "execute_result"
    },
    {
     "data": {
      "image/png": "[encoded data removed]",
      "text/plain": [
       "<Figure size 640x480 with 1 Axes>"
      ]
     },
     "metadata": {},
     "output_type": "display_data"
    }
   ],
   "source": [
    "plt.plot(np.linspace(a, b, n), D.solve_lup(g).data.T[0])\n",
    "plt.plot(np.linspace(a, b, n), -np.sin(np.linspace(a, b, n)))"
   ]
  },
  {
   "cell_type": "code",
   "execution_count": null,
   "id": "0b7f9448",
   "metadata": {},
   "outputs": [],
   "source": [
    "b = FullMatrix.zero(4, 1, Fraction(2, 5))"
   ]
  },
  {
   "cell_type": "code",
   "execution_count": null,
   "id": "663d3848",
   "metadata": {},
   "outputs": [],
   "source": [
    "d = delta()"
   ]
  },
  {
   "cell_type": "code",
   "execution_count": null,
   "id": "b587036c",
   "metadata": {},
   "outputs": [
    {
     "name": "stdout",
     "output_type": "stream",
     "text": [
      "d:\n",
      "| -2 1  0  1  |\n",
      "| 1  -2 1  0  |\n",
      "| 0  1  -2 1  |\n",
      "| 1  0  1  -2 |\n",
      "L, U:\n",
      "| 1 0 0 0 |\n",
      "| 0 1 0 0 |\n",
      "| 0 0 1 0 |\n",
      "| 0 0 0 1 |<-L\n",
      "\n",
      "| -2 1  0  1  |\n",
      "| 0  -2 1  0  |\n",
      "| 0  0  -2 1  |\n",
      "| 0  0  0  -2 |<-U\n",
      "L*U:\n",
      "| -2 1  0  1  |\n",
      "| 0  -2 1  0  |\n",
      "| 0  0  -2 1  |\n",
      "| 0  0  0  -2 |\n"
     ]
    }
   ],
   "source": [
    "print(f\"d:\\n{d}\\nL, U:\\n{d.get_l()}<-L\\n\\n{d.get_u()}<-U\\nL*U:\\n{d.get_l()*d.get_u()}\")"
   ]
  },
  {
   "attachments": {},
   "cell_type": "markdown",
   "id": "4c293db9",
   "metadata": {},
   "source": [
    "Действительно работает, но не для всех матриц (хотя оператор Лапаласа точно работает)"
   ]
  },
  {
   "attachments": {},
   "cell_type": "markdown",
   "id": "24dad11d",
   "metadata": {},
   "source": [
    "## Вопрос 2\n",
    "\n",
    "Сравним значение с numpy:"
   ]
  },
  {
   "cell_type": "code",
   "execution_count": null,
   "id": "b8ee7f15",
   "metadata": {},
   "outputs": [
    {
     "data": {
      "text/plain": [
       "| -2 1  0  1  |\n",
       "| 1  -2 1  0  |\n",
       "| 0  1  -2 1  |\n",
       "| 1  0  1  -2 |"
      ]
     },
     "execution_count": 22,
     "metadata": {},
     "output_type": "execute_result"
    }
   ],
   "source": [
    "d"
   ]
  },
  {
   "cell_type": "code",
   "execution_count": null,
   "id": "2824a315",
   "metadata": {},
   "outputs": [],
   "source": []
  },
  {
   "cell_type": "code",
   "execution_count": null,
   "id": "fc387062",
   "metadata": {},
   "outputs": [],
   "source": [
    "dnp = (np.array([[2,1,0,0],\n",
    "          [1,2,1,0],\n",
    "          [0,1,2,1],\n",
    "          [0,0,1,2]]))"
   ]
  },
  {
   "cell_type": "code",
   "execution_count": null,
   "id": "62878891",
   "metadata": {},
   "outputs": [
    {
     "name": "stdout",
     "output_type": "stream",
     "text": [
      "det for numpy matrix:\t\t 5\n",
      "det for FullMatrix matrix:\t 16\n"
     ]
    }
   ],
   "source": [
    "print(\"det for numpy matrix:\\t\\t %.0f\"%np.linalg.det(dnp))\n",
    "print(\"det for FullMatrix matrix:\\t %.0f\"%d.det())\n"
   ]
  },
  {
   "attachments": {},
   "cell_type": "markdown",
   "id": "21cdae7e",
   "metadata": {},
   "source": [
    "Работает."
   ]
  },
  {
   "attachments": {},
   "cell_type": "markdown",
   "id": "047a93d7",
   "metadata": {},
   "source": [
    "## Вопрос 3"
   ]
  },
  {
   "cell_type": "code",
   "execution_count": 11,
   "id": "13d3cd31",
   "metadata": {},
   "outputs": [],
   "source": [
    "ts = FullMatrix.zero(2, 2, Fraction(10))\n",
    "ts[0,1] = Fraction(1)\n",
    "ts[1,0] = Fraction(1)\n"
   ]
  },
  {
   "cell_type": "code",
   "execution_count": 12,
   "id": "5f75c5cd",
   "metadata": {},
   "outputs": [],
   "source": [
    "e2 = FullMatrix.zero(*ts.shape, Fraction(0))\n",
    "\n",
    "for i in range(e2.shape[0]):\n",
    "    e2[i,i] = Fraction(1)\n"
   ]
  },
  {
   "cell_type": "code",
   "execution_count": 13,
   "id": "1f343bfa",
   "metadata": {},
   "outputs": [],
   "source": [
    "blkM = FullMatrix.zero(3, 3, ts)\n",
    "for i in range(blkM.shape[0]):\n",
    "    for j in range(blkM.shape[1]):\n",
    "        if i!=j:\n",
    "            blkM[i,j] = e2"
   ]
  },
  {
   "cell_type": "code",
   "execution_count": 14,
   "id": "ea19ad74",
   "metadata": {},
   "outputs": [
    {
     "data": {
      "text/plain": [
       "| | 10 1  | | 1 0 |   | 1 0 |   |\n",
       "| | 1  10 | | 0 1 |   | 0 1 |   |\n",
       "|                               |\n",
       "| | 1 0 |   | 10 1  | | 1 0 |   |\n",
       "| | 0 1 |   | 1  10 | | 0 1 |   |\n",
       "|                               |\n",
       "| | 1 0 |   | 1 0 |   | 10 1  | |\n",
       "| | 0 1 |   | 0 1 |   | 1  10 | |"
      ]
     },
     "execution_count": 14,
     "metadata": {},
     "output_type": "execute_result"
    }
   ],
   "source": [
    "blkM"
   ]
  },
  {
   "cell_type": "code",
   "execution_count": 15,
   "id": "ef289d2d",
   "metadata": {},
   "outputs": [
    {
     "ename": "TypeError",
     "evalue": "unsupported operand type(s) for |: 'type' and 'type'",
     "output_type": "error",
     "traceback": [
      "\u001b[1;31m---------------------------------------------------------------------------\u001b[0m",
      "\u001b[1;31mTypeError\u001b[0m                                 Traceback (most recent call last)",
      "\u001b[1;32m<ipython-input-15-3e2d9e71ed8b>\u001b[0m in \u001b[0;36m<module>\u001b[1;34m\u001b[0m\n\u001b[1;32m----> 1\u001b[1;33m \u001b[0mblkM\u001b[0m\u001b[1;33m.\u001b[0m\u001b[0mlu\u001b[0m\u001b[1;33m(\u001b[0m\u001b[1;33m)\u001b[0m\u001b[1;33m\u001b[0m\u001b[1;33m\u001b[0m\u001b[0m\n\u001b[0m",
      "\u001b[1;32m<ipython-input-2-99f3d0880239>\u001b[0m in \u001b[0;36mlu\u001b[1;34m(self)\u001b[0m\n\u001b[0;32m    157\u001b[0m         \u001b[1;32mfor\u001b[0m \u001b[0mi\u001b[0m \u001b[1;32min\u001b[0m \u001b[0mrange\u001b[0m\u001b[1;33m(\u001b[0m\u001b[0mself\u001b[0m\u001b[1;33m.\u001b[0m\u001b[0mshape\u001b[0m\u001b[1;33m[\u001b[0m\u001b[1;36m0\u001b[0m\u001b[1;33m]\u001b[0m\u001b[1;33m)\u001b[0m\u001b[1;33m:\u001b[0m\u001b[1;33m\u001b[0m\u001b[1;33m\u001b[0m\u001b[0m\n\u001b[0;32m    158\u001b[0m             \u001b[1;32mfor\u001b[0m \u001b[0mj\u001b[0m \u001b[1;32min\u001b[0m \u001b[0mrange\u001b[0m\u001b[1;33m(\u001b[0m\u001b[0mi\u001b[0m\u001b[1;33m+\u001b[0m\u001b[1;36m1\u001b[0m\u001b[1;33m,\u001b[0m \u001b[0mself\u001b[0m\u001b[1;33m.\u001b[0m\u001b[0mshape\u001b[0m\u001b[1;33m[\u001b[0m\u001b[1;36m0\u001b[0m\u001b[1;33m]\u001b[0m\u001b[1;33m)\u001b[0m\u001b[1;33m:\u001b[0m\u001b[1;33m\u001b[0m\u001b[1;33m\u001b[0m\u001b[0m\n\u001b[1;32m--> 159\u001b[1;33m                         \u001b[0mc\u001b[0m\u001b[1;33m[\u001b[0m\u001b[0mj\u001b[0m\u001b[1;33m,\u001b[0m \u001b[0mi\u001b[0m\u001b[1;33m]\u001b[0m \u001b[1;33m/=\u001b[0m \u001b[0mc\u001b[0m\u001b[1;33m[\u001b[0m\u001b[0mi\u001b[0m\u001b[1;33m,\u001b[0m\u001b[0mi\u001b[0m\u001b[1;33m]\u001b[0m\u001b[1;33m\u001b[0m\u001b[1;33m\u001b[0m\u001b[0m\n\u001b[0m\u001b[0;32m    160\u001b[0m                         \u001b[1;32mfor\u001b[0m \u001b[0mk\u001b[0m \u001b[1;32min\u001b[0m \u001b[0mrange\u001b[0m\u001b[1;33m(\u001b[0m\u001b[0mi\u001b[0m\u001b[1;33m+\u001b[0m\u001b[1;36m1\u001b[0m\u001b[1;33m,\u001b[0m \u001b[0mself\u001b[0m\u001b[1;33m.\u001b[0m\u001b[0mshape\u001b[0m\u001b[1;33m[\u001b[0m\u001b[1;36m0\u001b[0m\u001b[1;33m]\u001b[0m\u001b[1;33m)\u001b[0m\u001b[1;33m:\u001b[0m\u001b[1;33m\u001b[0m\u001b[1;33m\u001b[0m\u001b[0m\n\u001b[0;32m    161\u001b[0m                             \u001b[0mc\u001b[0m\u001b[1;33m[\u001b[0m\u001b[0mj\u001b[0m\u001b[1;33m,\u001b[0m\u001b[0mk\u001b[0m\u001b[1;33m]\u001b[0m\u001b[1;33m-=\u001b[0m\u001b[0mc\u001b[0m\u001b[1;33m[\u001b[0m\u001b[0mj\u001b[0m\u001b[1;33m,\u001b[0m\u001b[0mi\u001b[0m\u001b[1;33m]\u001b[0m\u001b[1;33m*\u001b[0m\u001b[0mc\u001b[0m\u001b[1;33m[\u001b[0m\u001b[0mi\u001b[0m\u001b[1;33m,\u001b[0m\u001b[0mk\u001b[0m\u001b[1;33m]\u001b[0m\u001b[1;33m\u001b[0m\u001b[1;33m\u001b[0m\u001b[0m\n",
      "\u001b[1;32m<ipython-input-2-99f3d0880239>\u001b[0m in \u001b[0;36m__truediv__\u001b[1;34m(self, other)\u001b[0m\n\u001b[0;32m    282\u001b[0m         \u001b[1;32mfor\u001b[0m \u001b[0mi\u001b[0m \u001b[1;32min\u001b[0m \u001b[0mrange\u001b[0m\u001b[1;33m(\u001b[0m\u001b[0mother\u001b[0m\u001b[1;33m.\u001b[0m\u001b[0mshape\u001b[0m\u001b[1;33m[\u001b[0m\u001b[1;36m0\u001b[0m\u001b[1;33m]\u001b[0m\u001b[1;33m)\u001b[0m\u001b[1;33m:\u001b[0m\u001b[1;33m\u001b[0m\u001b[1;33m\u001b[0m\u001b[0m\n\u001b[0;32m    283\u001b[0m             \u001b[0me\u001b[0m\u001b[1;33m[\u001b[0m\u001b[0mi\u001b[0m\u001b[1;33m,\u001b[0m\u001b[0mi\u001b[0m\u001b[1;33m]\u001b[0m \u001b[1;33m=\u001b[0m \u001b[0mFraction\u001b[0m\u001b[1;33m(\u001b[0m\u001b[1;36m1\u001b[0m\u001b[1;33m)\u001b[0m\u001b[1;33m\u001b[0m\u001b[1;33m\u001b[0m\u001b[0m\n\u001b[1;32m--> 284\u001b[1;33m         \u001b[1;32mreturn\u001b[0m \u001b[0mself\u001b[0m\u001b[1;33m*\u001b[0m\u001b[0mother\u001b[0m\u001b[1;33m.\u001b[0m\u001b[0msolve_lup\u001b[0m\u001b[1;33m(\u001b[0m\u001b[0me\u001b[0m\u001b[1;33m)\u001b[0m\u001b[1;33m\u001b[0m\u001b[1;33m\u001b[0m\u001b[0m\n\u001b[0m\u001b[0;32m    285\u001b[0m     \u001b[1;32mdef\u001b[0m \u001b[0m__rtruediv__\u001b[0m\u001b[1;33m(\u001b[0m\u001b[0mself\u001b[0m\u001b[1;33m,\u001b[0m \u001b[0mother\u001b[0m\u001b[1;33m)\u001b[0m\u001b[1;33m:\u001b[0m\u001b[1;33m\u001b[0m\u001b[1;33m\u001b[0m\u001b[0m\n\u001b[0;32m    286\u001b[0m         \u001b[0me\u001b[0m \u001b[1;33m=\u001b[0m \u001b[0mself\u001b[0m\u001b[1;33m.\u001b[0m\u001b[0mzero\u001b[0m\u001b[1;33m(\u001b[0m\u001b[1;33m*\u001b[0m\u001b[0mself\u001b[0m\u001b[1;33m.\u001b[0m\u001b[0mshape\u001b[0m\u001b[1;33m,\u001b[0m \u001b[0mFraction\u001b[0m\u001b[1;33m(\u001b[0m\u001b[1;36m0\u001b[0m\u001b[1;33m)\u001b[0m\u001b[1;33m)\u001b[0m\u001b[1;33m\u001b[0m\u001b[1;33m\u001b[0m\u001b[0m\n",
      "\u001b[1;32m<ipython-input-2-99f3d0880239>\u001b[0m in \u001b[0;36msolve_lup\u001b[1;34m(self, b)\u001b[0m\n\u001b[0;32m    207\u001b[0m         \u001b[0my\u001b[0m \u001b[1;33m=\u001b[0m \u001b[0mFullMatrix\u001b[0m\u001b[1;33m.\u001b[0m\u001b[0mempty_like\u001b[0m\u001b[1;33m(\u001b[0m\u001b[0mb\u001b[0m\u001b[1;33m)\u001b[0m \u001b[1;31m# l*y = p*b\u001b[0m\u001b[1;33m\u001b[0m\u001b[1;33m\u001b[0m\u001b[0m\n\u001b[0;32m    208\u001b[0m         \u001b[0mlu\u001b[0m\u001b[1;33m,\u001b[0m \u001b[0mp\u001b[0m \u001b[1;33m=\u001b[0m \u001b[0mself\u001b[0m\u001b[1;33m.\u001b[0m\u001b[0mlup\u001b[0m\u001b[1;33m(\u001b[0m\u001b[1;33m)\u001b[0m\u001b[1;33m\u001b[0m\u001b[1;33m\u001b[0m\u001b[0m\n\u001b[1;32m--> 209\u001b[1;33m         \u001b[0mpb\u001b[0m \u001b[1;33m=\u001b[0m \u001b[0mp\u001b[0m\u001b[1;33m*\u001b[0m\u001b[0mb\u001b[0m\u001b[1;33m\u001b[0m\u001b[1;33m\u001b[0m\u001b[0m\n\u001b[0m\u001b[0;32m    210\u001b[0m         \u001b[1;32mfor\u001b[0m \u001b[0mi\u001b[0m \u001b[1;32min\u001b[0m \u001b[0mrange\u001b[0m\u001b[1;33m(\u001b[0m\u001b[0mb\u001b[0m\u001b[1;33m.\u001b[0m\u001b[0mshape\u001b[0m\u001b[1;33m[\u001b[0m\u001b[1;36m0\u001b[0m\u001b[1;33m]\u001b[0m\u001b[1;33m)\u001b[0m\u001b[1;33m:\u001b[0m\u001b[1;33m\u001b[0m\u001b[1;33m\u001b[0m\u001b[0m\n\u001b[0;32m    211\u001b[0m             \u001b[1;32mfor\u001b[0m \u001b[0mj\u001b[0m \u001b[1;32min\u001b[0m \u001b[0mrange\u001b[0m\u001b[1;33m(\u001b[0m\u001b[0mb\u001b[0m\u001b[1;33m.\u001b[0m\u001b[0mshape\u001b[0m\u001b[1;33m[\u001b[0m\u001b[1;36m1\u001b[0m\u001b[1;33m]\u001b[0m\u001b[1;33m)\u001b[0m\u001b[1;33m:\u001b[0m\u001b[1;33m\u001b[0m\u001b[1;33m\u001b[0m\u001b[0m\n",
      "\u001b[1;32m<ipython-input-2-99f3d0880239>\u001b[0m in \u001b[0;36m__mul__\u001b[1;34m(self, other)\u001b[0m\n\u001b[0;32m     88\u001b[0m \u001b[1;33m\u001b[0m\u001b[0m\n\u001b[0;32m     89\u001b[0m     \u001b[1;32mdef\u001b[0m \u001b[0m__mul__\u001b[0m\u001b[1;33m(\u001b[0m\u001b[0mself\u001b[0m\u001b[1;33m,\u001b[0m \u001b[0mother\u001b[0m\u001b[1;33m)\u001b[0m\u001b[1;33m:\u001b[0m\u001b[1;33m\u001b[0m\u001b[1;33m\u001b[0m\u001b[0m\n\u001b[1;32m---> 90\u001b[1;33m         \u001b[1;32mreturn\u001b[0m \u001b[0mself\u001b[0m\u001b[1;33m.\u001b[0m\u001b[0m__matmul__\u001b[0m\u001b[1;33m(\u001b[0m\u001b[0mother\u001b[0m\u001b[1;33m)\u001b[0m\u001b[1;33m\u001b[0m\u001b[1;33m\u001b[0m\u001b[0m\n\u001b[0m\u001b[0;32m     91\u001b[0m     \u001b[1;32mdef\u001b[0m \u001b[0m__rmul__\u001b[0m\u001b[1;33m(\u001b[0m\u001b[0mself\u001b[0m\u001b[1;33m,\u001b[0m \u001b[0mother\u001b[0m\u001b[1;33m)\u001b[0m\u001b[1;33m:\u001b[0m\u001b[1;33m\u001b[0m\u001b[1;33m\u001b[0m\u001b[0m\n\u001b[0;32m     92\u001b[0m         \u001b[1;32mreturn\u001b[0m \u001b[0mself\u001b[0m\u001b[1;33m.\u001b[0m\u001b[0m__matmul__\u001b[0m\u001b[1;33m(\u001b[0m\u001b[0mother\u001b[0m\u001b[1;33m)\u001b[0m\u001b[1;33m\u001b[0m\u001b[1;33m\u001b[0m\u001b[0m\n",
      "\u001b[1;32m<ipython-input-2-99f3d0880239>\u001b[0m in \u001b[0;36m__matmul__\u001b[1;34m(self, other)\u001b[0m\n\u001b[0;32m     94\u001b[0m     \u001b[1;32mdef\u001b[0m \u001b[0m__matmul__\u001b[0m\u001b[1;33m(\u001b[0m\u001b[0mself\u001b[0m\u001b[1;33m,\u001b[0m \u001b[0mother\u001b[0m\u001b[1;33m)\u001b[0m\u001b[1;33m:\u001b[0m\u001b[1;33m\u001b[0m\u001b[1;33m\u001b[0m\u001b[0m\n\u001b[0;32m     95\u001b[0m         \u001b[1;31m# add matmul for Matrix and number\u001b[0m\u001b[1;33m\u001b[0m\u001b[1;33m\u001b[0m\u001b[1;33m\u001b[0m\u001b[0m\n\u001b[1;32m---> 96\u001b[1;33m         \u001b[1;32mif\u001b[0m \u001b[0misinstance\u001b[0m\u001b[1;33m(\u001b[0m\u001b[0mother\u001b[0m\u001b[1;33m,\u001b[0m \u001b[0mfloat\u001b[0m\u001b[1;33m|\u001b[0m\u001b[0mint\u001b[0m\u001b[1;33m|\u001b[0m\u001b[0mFraction\u001b[0m\u001b[1;33m)\u001b[0m\u001b[1;33m:\u001b[0m\u001b[1;33m\u001b[0m\u001b[1;33m\u001b[0m\u001b[0m\n\u001b[0m\u001b[0;32m     97\u001b[0m             \u001b[0mmatrix\u001b[0m \u001b[1;33m=\u001b[0m \u001b[0mself\u001b[0m\u001b[1;33m.\u001b[0m\u001b[0mempty_like\u001b[0m\u001b[1;33m(\u001b[0m\u001b[1;33m)\u001b[0m\u001b[1;33m\u001b[0m\u001b[1;33m\u001b[0m\u001b[0m\n\u001b[0;32m     98\u001b[0m             \u001b[1;32mfor\u001b[0m \u001b[0mc\u001b[0m \u001b[1;32min\u001b[0m \u001b[0mrange\u001b[0m\u001b[1;33m(\u001b[0m\u001b[0mself\u001b[0m\u001b[1;33m.\u001b[0m\u001b[0mheight\u001b[0m\u001b[1;33m)\u001b[0m\u001b[1;33m:\u001b[0m\u001b[1;33m\u001b[0m\u001b[1;33m\u001b[0m\u001b[0m\n",
      "\u001b[1;31mTypeError\u001b[0m: unsupported operand type(s) for |: 'type' and 'type'"
     ]
    }
   ],
   "source": [
    "blkM.lu()"
   ]
  },
  {
   "cell_type": "code",
   "execution_count": null,
   "id": "c946fa28",
   "metadata": {},
   "outputs": [
    {
     "data": {
      "text/plain": [
       "| | 10 1  | | 1 0 |   | 1 0 |   |\n",
       "| | 1  10 | | 0 1 |   | 0 1 |   |\n",
       "|                               |\n",
       "| | 1 0 |   | 10 1  | | 1 0 |   |\n",
       "| | 0 1 |   | 1  10 | | 0 1 |   |\n",
       "|                               |\n",
       "| | 1 0 |   | 1 0 |   | 10 1  | |\n",
       "| | 0 1 |   | 0 1 |   | 1  10 | |"
      ]
     },
     "execution_count": 30,
     "metadata": {},
     "output_type": "execute_result"
    }
   ],
   "source": [
    "blkM.get_l()*blkM.get_u()"
   ]
  },
  {
   "attachments": {},
   "cell_type": "markdown",
   "id": "ad087afc",
   "metadata": {},
   "source": [
    "## Вопрос 4"
   ]
  },
  {
   "attachments": {},
   "cell_type": "markdown",
   "id": "7ef3712c",
   "metadata": {},
   "source": [
    "Приведем пример матрицы, для которой не работает LU, но работает LUP"
   ]
  },
  {
   "cell_type": "code",
   "execution_count": null,
   "id": "3239f1da",
   "metadata": {},
   "outputs": [
    {
     "name": "stdout",
     "output_type": "stream",
     "text": [
      "| 1 1/2 1/3 1/4 |\n",
      "| 2 1   2/3 1/2 |\n",
      "| 3 3/2 1   3/4 |\n",
      "| 4 2   4/3 1   |\n"
     ]
    }
   ],
   "source": [
    "m = FullMatrix.zero(4,4, Fraction(0))\n",
    "\n",
    "for i in range(m.shape[0]):\n",
    "    for j in range(m.shape[1]):\n",
    "        m[i,j] = Fraction(1+i, 1+j)\n",
    "print(m)"
   ]
  },
  {
   "cell_type": "code",
   "execution_count": null,
   "id": "daea1ad4",
   "metadata": {},
   "outputs": [
    {
     "name": "stdout",
     "output_type": "stream",
     "text": [
      "деление на ноль\n"
     ]
    }
   ],
   "source": [
    "try:\n",
    "    m.lu()\n",
    "except ZeroDivisionError:\n",
    "    print(\"деление на ноль\")"
   ]
  },
  {
   "cell_type": "code",
   "execution_count": null,
   "id": "aacad350",
   "metadata": {},
   "outputs": [
    {
     "data": {
      "text/plain": [
       "(| 4   2 4/3 1 |\n",
       " | 1/2 0 0   0 |\n",
       " | 3/4 0 0   0 |\n",
       " | 1/4 0 0   0 |,\n",
       " | 0 0 0 1 |\n",
       " | 0 1 0 0 |\n",
       " | 0 0 1 0 |\n",
       " | 1 0 0 0 |,\n",
       " | 4 2   4/3 1   |\n",
       " | 2 1   2/3 1/2 |\n",
       " | 3 3/2 1   3/4 |\n",
       " | 1 1/2 1/3 1/4 |,\n",
       " | 4 2   4/3 1   |\n",
       " | 2 1   2/3 1/2 |\n",
       " | 3 3/2 1   3/4 |\n",
       " | 1 1/2 1/3 1/4 |)"
      ]
     },
     "execution_count": 33,
     "metadata": {},
     "output_type": "execute_result"
    }
   ],
   "source": [
    "*m.lup(), m.get_l_p()*m.get_u_p(), m.lup()[1]*m"
   ]
  },
  {
   "attachments": {},
   "cell_type": "markdown",
   "id": "6ae84b25",
   "metadata": {},
   "source": [
    "## Вопрос 5"
   ]
  },
  {
   "cell_type": "code",
   "execution_count": null,
   "id": "f1e6382c",
   "metadata": {},
   "outputs": [],
   "source": [
    "b = FullMatrix.zero(4, 1, Fraction(2, 7))"
   ]
  },
  {
   "cell_type": "code",
   "execution_count": null,
   "id": "c1b74fe6",
   "metadata": {},
   "outputs": [
    {
     "data": {
      "text/plain": [
       "| 0 1  0  1  |\n",
       "| 0 -2 1  0  |\n",
       "| 0 0  -2 1  |\n",
       "| 0 0  0  -2 |"
      ]
     },
     "execution_count": 35,
     "metadata": {},
     "output_type": "execute_result"
    }
   ],
   "source": [
    "d*d.solve_lup(b)"
   ]
  }
 ],
 "metadata": {
  "kernelspec": {
   "display_name": "Python 3 (ipykernel)",
   "language": "python",
   "name": "python3"
  },
  "language_info": {
   "codemirror_mode": {
    "name": "ipython",
    "version": 3
   },
   "file_extension": ".py",
   "mimetype": "text/x-python",
   "name": "python",
   "nbconvert_exporter": "python",
   "pygments_lexer": "ipython3",
   "version": "3.8.5"
  }
 },
 "nbformat": 4,
 "nbformat_minor": 5
}
