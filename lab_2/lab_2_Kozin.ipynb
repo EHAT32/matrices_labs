{
 "cells": [
  {
   "attachments": {},
   "cell_type": "markdown",
   "metadata": {},
   "source": [
    "Существует множество типов матриц, удовлетворяющих некоторым дополнительным условиям, для которых многие матричные операции могут быть вычислены быстрее или точнее, чем для матриц произвольного вида. \n",
    "В данной лабораторной мы начнем писать библиотеку на Python, которая будет содержать классы, реализующие базовые алгоритмы для работы с основными типами матриц.\n",
    "Далее приводится исходный код класса `Matrix`, являющегося общим предком для всех матриц, и реализующего логику работы с матрицами общего вида.\n",
    "Нижеследующий класс `FullMatrix` реализует хранилище для заполненных матриц. \n",
    "Изучите эти реализации и выполните следующие задания:\n",
    "\n",
    "1. Напишите метод `lu` для класса `Matrix`, выполняющий LU разложение. +\n",
    "2. Реализуйте метод `det`, вычисляющий определитель матрицы, опираясь на LU разложение. +\n",
    "3. Реализация `FullMatrix` может содержать своими элементами другие матрицы, т.е. описывать блочную матрицу. Убедитесь, что ваша реализация LU разложения работает с блочными матрицами. (+)\n",
    "4. Реализуйте LUP разложение с перестановкой строк. Предъявите матрицу, на которой LUP разложение работает, а LU - нет. +\n",
    "5. Реализуйте метод прогонки и реализуйте метод `Matrix.solve` для решения линейных систем уравнений. +\n",
    "6. Реализуйте класс `SymmetricMatrix`, хранящий симметричные матрицы. Убедитесь, что метод `Matrix.lu` корректно работает с этим классом. Модифицируйте этот метод для класса `SymmetricMatrix` так, чтобы он использовал симметричность матрицы и работал в два раза быстрее.\n",
    "7. Как влияет симметричность матрицы на устойчивость LU разложения?\n",
    "8. Реализуйте класс `BandMatrix` для хранения ленточных матриц. Убедитесь в работоспособности методов `lu` и `solve`.\n",
    "9. Воспользуйтесь реализованными классами для решения уравнения Пуассона $\\Delta f=g$, использую операцию Лапласа из предыдущей лабораторной."
   ]
  },
  {
   "cell_type": "code",
   "execution_count": 40,
   "metadata": {},
   "outputs": [],
   "source": [
    "import numpy as np\n",
    "from fractions import Fraction\n",
    "from random import randint\n",
    "import timeit\n",
    "import matplotlib.pyplot as plt\n",
    "from scipy import linalg"
   ]
  },
  {
   "cell_type": "code",
   "execution_count": 41,
   "metadata": {},
   "outputs": [],
   "source": [
    "class TextBlock:\n",
    "    def __init__(self, rows):\n",
    "        assert isinstance(rows, list)\n",
    "        self.rows = rows\n",
    "        self.height = len(self.rows)\n",
    "        self.width = max(map(len,self.rows))\n",
    "        \n",
    "    @classmethod\n",
    "    def from_str(_cls, data):\n",
    "        assert isinstance(data, str)\n",
    "        return TextBlock( data.split('\\n') )\n",
    "        \n",
    "    def format(self, width=None, height=None):\n",
    "        if width is None: width = self.width\n",
    "        if height is None: height = self.height\n",
    "        return [f\"{row:{width}}\" for row in self.rows]+[' '*width]*(height-self.height)\n",
    "    \n",
    "    @staticmethod\n",
    "    def merge(blocks):\n",
    "        return [\" \".join(row) for row in zip(*blocks)]\n",
    "    \n",
    "class Matrix:\n",
    "    \"\"\"Общий предок для всех матриц.\"\"\"\n",
    "    @property\n",
    "    def shape(self):\n",
    "        raise NotImplementedError\n",
    "    \n",
    "    @property\n",
    "    def dtype(self):\n",
    "        raise NotImplementedError\n",
    "    \n",
    "    @property \n",
    "    def width(self):\n",
    "        return self.shape[1]\n",
    "    \n",
    "    @property \n",
    "    def height(self):\n",
    "        return self.shape[0]    \n",
    "        \n",
    "    def __repr__(self):\n",
    "        \"\"\"Возвращает текстовое представление для матрицы.\"\"\"\n",
    "        text = [[TextBlock.from_str(f\"{self[r,c]}\") for c in range(self.width)] for r in range(self.height)]\n",
    "        width_el = np.array(list(map(lambda row: list(map(lambda el: el.width, row)), text)))\n",
    "        height_el = np.array(list(map(lambda row: list(map(lambda el: el.height, row)), text)))\n",
    "        width_column = np.max(width_el, axis=0)\n",
    "        width_total = np.sum(width_column)\n",
    "        height_row = np.max(height_el, axis=1)\n",
    "        result = []\n",
    "        for r in range(self.height):\n",
    "            lines = TextBlock.merge(text[r][c].format(width=width_column[c], height=height_row[r]) for c in range(self.width))\n",
    "            for l in lines:\n",
    "                result.append(f\"| {l} |\")\n",
    "            if len(lines)>0 and len(lines[0])>0 and lines[0][0]=='|' and r<self.height-1:\n",
    "                result.append(f'| {\" \"*(width_total+self.width)}|')\n",
    "        return \"\\n\".join(result)\n",
    "    \n",
    "    def empty_like(self, width=None, height=None):\n",
    "        raise NotImplementedError\n",
    "    \n",
    "    def __getitem__(self, key):\n",
    "        raise NotImplementedError\n",
    "    \n",
    "    def __setitem__(self, key, value):\n",
    "        raise NotImplementedError\n",
    "        \n",
    "    def __add__(self, other):\n",
    "        if isinstance(other, Matrix):\n",
    "            assert self.width==other.width and self.height==other.height, f\"Shapes does not match: {self.shape} != {other.shape}\"\n",
    "            matrix = self.empty_like()\n",
    "            for r in range(self.height):\n",
    "                for c in range(self.width):\n",
    "                    matrix[r,c] = self[r,c] + other[r,c]\n",
    "            return matrix\n",
    "        return NotImplemented\n",
    "    \n",
    "    def __sub__(self, other):\n",
    "        if isinstance(other, Matrix):\n",
    "            assert self.width==other.width and self.height==other.height, f\"Shapes does not match: {self.shape} != {other.shape}\"\n",
    "            matrix = self.empty_like()\n",
    "            for r in range(self.height):\n",
    "                for c in range(self.width):\n",
    "                    matrix[r,c] = self[r,c] - other[r,c]\n",
    "            return matrix\n",
    "        return NotImplemented\n",
    "\n",
    "    def __mul__(self, other):\n",
    "        return self.__matmul__(other)\n",
    "    def __rmul__(self, other):\n",
    "        return self.__matmul__(other)\n",
    "    \n",
    "    def __matmul__(self, other):\n",
    "        # add matmul for Matrix and number\n",
    "        if isinstance(other, float or int or Fraction):\n",
    "            matrix = self.empty_like()\n",
    "            for c in range(self.height):\n",
    "                for r in range(self.width):\n",
    "                    matrix[r,c] = other*self[r,c]\n",
    "            return matrix \n",
    "        if isinstance(other, Matrix):\n",
    "            assert self.width==other.height, f\"Shapes does not match: {self.shape} != {other.shape}\"\n",
    "            matrix = self.empty_like()\n",
    "            for r in range(self.height):\n",
    "                for c in range(other.width):\n",
    "                    acc = None\n",
    "                    for k in range(self.width):\n",
    "                        add = self[r,k]*other[k,c]\n",
    "                        acc = add if acc is None else acc+add\n",
    "                    matrix[r,c] = acc\n",
    "            return matrix\n",
    "        return NotImplemented\n",
    "    \n",
    "    def inverse(self):\n",
    "        raise NotImplementedError\n",
    "        \n",
    "        \n",
    "    def invert_element(self, element):\n",
    "        if isinstance(element, float):\n",
    "            return 1/element\n",
    "        if isinstance(element, Fraction):\n",
    "            return 1/element\n",
    "        if isinstance(element, Matrix):\n",
    "            return element.inverse()\n",
    "        raise TypeError\n",
    "    \n",
    "#-------ex 1, 3-------------------------\n",
    "\n",
    "    def __truediv__(self ,other):\n",
    "        E = FullMatrix.identity(self.height)\n",
    "        return self*other.solve(E)\n",
    "    def __rtruediv__(self, other):\n",
    "        E = FullMatrix.identity(self.height)\n",
    "        return other*self.solve(E)\n",
    "\n",
    "    def clone(self):\n",
    "        copy = np.copy(self.data)\n",
    "        return FullMatrix(copy)\n",
    "\n",
    "    def lu(self):\n",
    "        N = self.height\n",
    "\n",
    "        if isinstance(self, SymmetricMatrix):\n",
    "            return self.ldl()\n",
    "        else:    \n",
    "            lu_mat = self.clone()\n",
    "            for i in range(N):\n",
    "                for j in range(i + 1, N):\n",
    "                            lu_mat[j, i] /= lu_mat[i, i]\n",
    "                            for k in range(i + 1, N):\n",
    "                                lu_mat[j, k] -= lu_mat[j, i] * lu_mat[i, k]\n",
    "            return lu_mat\n",
    "    \n",
    "#-----ex 2------------------------------\n",
    "\n",
    "    def dissamble_lu(self):\n",
    "        '''use only for the result of lu'''\n",
    "        N = self.height\n",
    "\n",
    "        # copy = self.clone()\n",
    "\n",
    "        lower = FullMatrix.zero(N, N, Fraction(0))\n",
    "        upper = FullMatrix.zero(N, N, Fraction(0))\n",
    "\n",
    "        for i in range(N):\n",
    "            lower[i, i] = 1\n",
    "            for j in range(i + 1, N):\n",
    "                lower[j, i] = self[j, i]\n",
    "\n",
    "        for i in range(N):\n",
    "            upper[i, i] = self[i, i]\n",
    "            for j in range(i + 1, N):\n",
    "                upper[i, j] = self[i, j]\n",
    "        return lower, upper\n",
    "        \n",
    "    def lu_disassemb(self):\n",
    "        N = self.height\n",
    "\n",
    "        l = self.lu()\n",
    "        \n",
    "        for i in range(N):\n",
    "                if type(l[i,i]) == FullMatrix:\n",
    "                    l[i,i] = FullMatrix.zero(*l[i,i].shape, Fraction(0))\n",
    "                    for li in range(min(l[i,i].shape)):\n",
    "                        (l[i,i])[li,li] = Fraction(1)\n",
    "                    for j in range(i+1, N):\n",
    "                        l[i,j] = FullMatrix.zero(*l[i,j].shape, Fraction(0))\n",
    "                else:\n",
    "                    l[i, i] = 1\n",
    "                    for j in range(i+1, N):\n",
    "                        l[i,j] = 0\n",
    "        u = self.lu()\n",
    "        \n",
    "        for i in range(N):\n",
    "                for j in range(i):\n",
    "                    if type(u[i,j]) == FullMatrix:\n",
    "                        u[i,j] = FullMatrix.zero(*u[i,j].shape, Fraction(0))\n",
    "                    else:\n",
    "                        u[i,j] = 0\n",
    "\n",
    "        return l, u\n",
    "#compare with Grisha\n",
    "    def get_l(self):\n",
    "        l = self.lu()\n",
    "        \n",
    "        for i in range(l.shape[0]):\n",
    "                if type(l[i,i]) == FullMatrix:\n",
    "                    l[i,i] = FullMatrix.zero(*l[i,i].shape, Fraction(0))\n",
    "                    for li in range(min(l[i,i].shape)):\n",
    "                        (l[i,i])[li,li] = Fraction(1)\n",
    "                    for j in range(i+1, l.shape[1]):\n",
    "                        l[i,j] = FullMatrix.zero(*l[i,j].shape, Fraction(0))\n",
    "                else:\n",
    "                    l[i, i] = 1\n",
    "                    for j in range(i+1, l.shape[1]):\n",
    "                        l[i,j] = 0\n",
    "        return l\n",
    "    \n",
    "    # student\n",
    "    def get_u(self):\n",
    "        u = self.lu()\n",
    "        for i in range(u.shape[0]):\n",
    "                for j in range(i):\n",
    "                    if type(u[i,j]) == FullMatrix:\n",
    "                        u[i,j] = FullMatrix.zero(*u[i,j].shape, Fraction(0))\n",
    "                    else:\n",
    "                        u[i,j] = 0\n",
    "\n",
    "        return u\n",
    "\n",
    "    def det(self):\n",
    "        _, upper = self.lu()\n",
    "\n",
    "        det = 1\n",
    "\n",
    "        for i in range(int(self.height)):\n",
    "            det *= upper[i, i]\n",
    "\n",
    "        return det\n",
    "\n",
    "#---- ex 4-----------\n",
    "        \n",
    "    def swap_rows(self, row_1, row_2):\n",
    "        temp = self.clone()\n",
    "        temp[row_1, :] = self[row_2, :].data\n",
    "        temp[row_2, :] = self[row_1, :].data\n",
    "        return temp\n",
    "\n",
    "    def lup(self):\n",
    "        N = self.height\n",
    "        lup = self.clone()\n",
    "        p = FullMatrix.identity(N)\n",
    "        for i in range(N):\n",
    "            compare_val = 0\n",
    "            compare_row = 0\n",
    "            for j in range(i, N):\n",
    "                if abs(lup[j, i]) > compare_val:\n",
    "                    compare_val = abs(lup[j, i])\n",
    "                    compare_row = j\n",
    "            if compare_val != 0:\n",
    "                #swap\n",
    "                p = p.swap_rows(compare_row, i)\n",
    "                lup = lup.swap_rows(compare_row, i)\n",
    "                for j in range(i + 1, N):\n",
    "                    lup[j, i] /= lup[i, i]\n",
    "                    for k in range(i + 1, N):\n",
    "                        lup[j, k] -= lup[j, i] * lup[i, k] \n",
    "        return lup, p\n",
    "\n",
    "    def transpose(self):\n",
    "        t = self.data\n",
    "        return FullMatrix(t.T)\n",
    "\n",
    "\n",
    "#----ex 5----------------------------\n",
    "\n",
    "    def solve(self, b):\n",
    "        N = self.height\n",
    "        M = b.width\n",
    "        x = FullMatrix.zero(N, M, Fraction(0, 1))\n",
    "        y = FullMatrix.zero(N, M, Fraction(0, 1))\n",
    "        #Ax = b <-> LUx = b <-> Ly = b\n",
    "        lu, p = self.lup()\n",
    "        l, u = lu.dissamble_lu()\n",
    "        pb = p * b\n",
    "\n",
    "        for i_ in range(M):\n",
    "            for i in range(N):\n",
    "                y[i, i_] = pb[i, i_] - sum([l[i, j] * y[j, 0] for j in range(i)])\n",
    "\n",
    "            #Ux = y\n",
    "\n",
    "            for i in range(N - 1, -1, -1):\n",
    "                x[i, i_] = (y[i, i_] - sum([u[i, j] * x[j, i_] for j in range(N - 1, i, -1)])) / u[i, i]\n",
    "\n",
    "        return x\n",
    "\n",
    "class FullMatrix(Matrix):\n",
    "    \"\"\"\n",
    "    Заполненная матрица с элементами произвольного типа.\n",
    "    \"\"\"\n",
    "    def __init__(self, data):\n",
    "        \"\"\"\n",
    "        Создает объект, хранящий матрицу в виде np.ndarray `data`.\n",
    "        \"\"\"\n",
    "        assert isinstance(data, np.ndarray)\n",
    "        self.data = data\n",
    "\n",
    "    def empty_like(self, width=None, height=None):\n",
    "        dtype = self.data.dtype\n",
    "        if width is None:\n",
    "            width = self.data.shape[1]\n",
    "        if height is None:\n",
    "            height = self.data.shape[0]       \n",
    "        data = np.empty((height,width), dtype=dtype)\n",
    "        return FullMatrix(data)\n",
    "        \n",
    "    @classmethod\n",
    "    def zero(_cls, height, width, default=0):\n",
    "        \"\"\"\n",
    "        Создает матрицу размера `width` x `height` со значениями по умолчанию `default`.\n",
    "        \"\"\"\n",
    "        data = np.empty((height, width), dtype=type(default))\n",
    "        data[:] = default\n",
    "        return FullMatrix(data)\n",
    "    \n",
    "    def identity(N):\n",
    "        E = FullMatrix.zero(N, N, Fraction(0, 1))\n",
    "        for i in range(N):\n",
    "            E[i, i] = Fraction(1, 1)\n",
    "        return E\n",
    "                    \n",
    "    @property\n",
    "    def shape(self):\n",
    "        return self.data.shape\n",
    "    \n",
    "    @property\n",
    "    def dtype(self):\n",
    "        return self.data.dtype\n",
    "        \n",
    "    def __getitem__(self, key):\n",
    "        row, column = key\n",
    "        return self.data[row, column]\n",
    "    \n",
    "    def __setitem__(self, key, value):\n",
    "        row, column = key\n",
    "        self.data[row, column] = value\n",
    "\n",
    "#------------ex 6-------------\n",
    "\n",
    "class SymmetricMatrix(Matrix):\n",
    "    \"\"\"\n",
    "    Симметричная матрица с элементами произвольного типа.\n",
    "    \"\"\"\n",
    "    def __init__(self, data):\n",
    "        \"\"\"\n",
    "        Создает объект, хранящий матрицу в виде np.ndarray `data`.\n",
    "        \"\"\"\n",
    "        assert isinstance(data, np.ndarray)\n",
    "        self.data = data\n",
    "\n",
    "    def empty_like(self, width=None, height=None):\n",
    "        dtype = self.data.dtype\n",
    "        if width is None:\n",
    "            width = self.data.shape[1]\n",
    "        if height is None:\n",
    "            height = self.data.shape[0]       \n",
    "        data = np.empty((height,width), dtype=dtype)\n",
    "        return SymmetricMatrix(data)\n",
    "        \n",
    "    @classmethod\n",
    "    def zero(_cls, height, width, default=0):\n",
    "        \"\"\"\n",
    "        Создает матрицу размера `width` x `height` со значениями по умолчанию `default`.\n",
    "        \"\"\"\n",
    "        data = np.empty((height, width), dtype=type(default))\n",
    "        data[:] = default\n",
    "        return SymmetricMatrix(data)\n",
    "                    \n",
    "    @property\n",
    "    def shape(self):\n",
    "        return self.data.shape\n",
    "    \n",
    "    @property\n",
    "    def dtype(self):\n",
    "        return self.data.dtype\n",
    "        \n",
    "    def __getitem__(self, key):\n",
    "        row, column = key\n",
    "        if row > column:\n",
    "            row, column = column, row\n",
    "        return self.data[row, column]\n",
    "    \n",
    "    def __setitem__(self, key, value):\n",
    "        row, column = key\n",
    "        if row > column:\n",
    "            row, column = column, row\n",
    "        self.data[row, column] = value\n",
    "\n",
    "    def ldl(self):\n",
    "        N = self.height\n",
    "        u = self.clone()\n",
    "        for i in range(N - 1):\n",
    "            u[i + 1:, i] = u[i, i + 1:]\n",
    "        for i in range(N - 1):\n",
    "            for j in range(i + 1, N):\n",
    "                subst = u[i, i:].data\n",
    "                subst = np.divide(subst, u[i, i])\n",
    "                subst = np.multiply(subst, u[j, i])\n",
    "                u[j, i:] = np.subtract(u[j, i:], subst)\n",
    "        #now l \n",
    "        l = u.clone()\n",
    "        for i in range(N):\n",
    "            l[i, i:] = np.divide(l[i, i:], l[i, i])\n",
    "        l = l.transpose()\n",
    "        return l, u\n",
    "\n"
   ]
  },
  {
   "attachments": {},
   "cell_type": "markdown",
   "metadata": {},
   "source": [
    "### 1"
   ]
  },
  {
   "cell_type": "code",
   "execution_count": null,
   "metadata": {},
   "outputs": [],
   "source": [
    "m = FullMatrix.zero(4, 4, Fraction(0, 1))\n",
    "for i in range(m.height):\n",
    "    for j in range(m.width):\n",
    "        m[i,j] = randint(1, 20)\n",
    "print(m)"
   ]
  },
  {
   "cell_type": "code",
   "execution_count": null,
   "metadata": {},
   "outputs": [],
   "source": [
    "l, u = m.lu()"
   ]
  },
  {
   "cell_type": "code",
   "execution_count": null,
   "metadata": {},
   "outputs": [],
   "source": [
    "print('lower:')\n",
    "print(l)\n",
    "print('upper:')\n",
    "print(u)"
   ]
  },
  {
   "cell_type": "code",
   "execution_count": null,
   "metadata": {},
   "outputs": [],
   "source": [
    "print(l * u)"
   ]
  },
  {
   "attachments": {},
   "cell_type": "markdown",
   "metadata": {},
   "source": [
    "### 2"
   ]
  },
  {
   "attachments": {},
   "cell_type": "markdown",
   "metadata": {},
   "source": [
    "\n",
    "$$\n",
    "\\begin{pmatrix}\n",
    "    17 & 18 & 10 & 4 \\\\\n",
    "    12 & 5 & 3 & 16 \\\\\n",
    "    8 & 9 & 15 & 2 \\\\\n",
    "    10 & 10 & 15 & 5 \\\\\n",
    "\\end{pmatrix}\n",
    "$$"
   ]
  },
  {
   "cell_type": "code",
   "execution_count": null,
   "metadata": {},
   "outputs": [],
   "source": [
    "d = np.array([[17, 18, 10, 4 ],\n",
    "                [12, 5 , 3 , 16],\n",
    "                [8 , 9 , 15, 2 ],\n",
    "                [10, 10, 15, 5 ]])\n",
    "\n",
    "d.astype(Fraction)\n",
    "M = FullMatrix(d)"
   ]
  },
  {
   "cell_type": "code",
   "execution_count": null,
   "metadata": {},
   "outputs": [],
   "source": [
    "print('linalg: ', np.linalg.det(d))"
   ]
  },
  {
   "cell_type": "code",
   "execution_count": null,
   "metadata": {},
   "outputs": [],
   "source": [
    "l, u = m.lu()"
   ]
  },
  {
   "cell_type": "code",
   "execution_count": null,
   "metadata": {},
   "outputs": [],
   "source": [
    "print('det: ', m.det())"
   ]
  },
  {
   "attachments": {},
   "cell_type": "markdown",
   "metadata": {},
   "source": [
    "По матрице Грише"
   ]
  },
  {
   "cell_type": "code",
   "execution_count": null,
   "metadata": {},
   "outputs": [],
   "source": [
    "def delta(n=4):\n",
    "    d = FullMatrix.zero(n,n,Fraction(0, 1))\n",
    "\n",
    "    d[0, 0], d[0, 1] = Fraction(2, 1),  Fraction(1, 1)\n",
    "    d[n-1, n-1], d[n-1, n-2] = Fraction(2, 1), Fraction(1, 1)\n",
    "\n",
    "    for i in range(1, d.shape[0]-1):\n",
    "        d[i, i] = Fraction(2, 1)\n",
    "        d[i, i+1 % n] = Fraction(1, 1)\n",
    "        d[i, i-1 % n] = Fraction(1, 1)\n",
    "    return d"
   ]
  },
  {
   "cell_type": "code",
   "execution_count": null,
   "metadata": {},
   "outputs": [],
   "source": [
    "d = delta()\n",
    "print(d)"
   ]
  },
  {
   "cell_type": "code",
   "execution_count": null,
   "metadata": {},
   "outputs": [],
   "source": [
    "lgd = (np.array([[2,1,0,0],\n",
    "          [1,2,1,0],\n",
    "          [0,1,2,1],\n",
    "          [0,0,1,2]]))"
   ]
  },
  {
   "cell_type": "code",
   "execution_count": null,
   "metadata": {},
   "outputs": [],
   "source": [
    "print('linalg: ', np.linalg.det(lgd))\n",
    "print('det: ', d.det())"
   ]
  },
  {
   "attachments": {},
   "cell_type": "markdown",
   "metadata": {},
   "source": [
    "### 3"
   ]
  },
  {
   "attachments": {},
   "cell_type": "markdown",
   "metadata": {},
   "source": [
    "Нужно ввести деление для матриц (div и truediv)"
   ]
  },
  {
   "cell_type": "code",
   "execution_count": null,
   "metadata": {},
   "outputs": [],
   "source": [
    "m = FullMatrix.zero(2, 2, Fraction(Fraction(0)))\n",
    "for i in range(m.height):\n",
    "    for j in range(m.width):\n",
    "        m[i, j] = randint(2, 7)\n",
    "M = FullMatrix.zero(3, 3, m)\n",
    "for i in range(M.height):\n",
    "    for j in range(M.width):\n",
    "        if i != j:\n",
    "            M[i, j] = FullMatrix.identity(m.height)"
   ]
  },
  {
   "cell_type": "code",
   "execution_count": null,
   "metadata": {},
   "outputs": [],
   "source": [
    "print(M)"
   ]
  },
  {
   "cell_type": "code",
   "execution_count": null,
   "metadata": {},
   "outputs": [],
   "source": [
    "lu = M.lu()"
   ]
  },
  {
   "cell_type": "code",
   "execution_count": null,
   "metadata": {},
   "outputs": [],
   "source": [
    "print(lu)"
   ]
  },
  {
   "cell_type": "code",
   "execution_count": null,
   "metadata": {},
   "outputs": [],
   "source": [
    "l, u = M.lu_disassemb()"
   ]
  },
  {
   "cell_type": "code",
   "execution_count": null,
   "metadata": {},
   "outputs": [],
   "source": [
    "print(l * u)"
   ]
  },
  {
   "attachments": {},
   "cell_type": "markdown",
   "metadata": {},
   "source": [
    "---"
   ]
  },
  {
   "cell_type": "code",
   "execution_count": null,
   "metadata": {},
   "outputs": [],
   "source": [
    "ts = FullMatrix.zero(2, 2, Fraction(10))\n",
    "ts[0,1] = Fraction(1)\n",
    "ts[1,0] = Fraction(1)\n",
    "\n",
    "e2 = FullMatrix.zero(*ts.shape, Fraction(0))\n",
    "\n",
    "for i in range(e2.shape[0]):\n",
    "    e2[i,i] = Fraction(1)\n",
    "\n",
    "blkM = FullMatrix.zero(3, 3, ts)\n",
    "for i in range(blkM.shape[0]):\n",
    "    for j in range(blkM.shape[1]):\n",
    "        if i!=j:\n",
    "            blkM[i,j] = e2\n",
    "blkM\n",
    "blkM.lu()\n",
    "l, u = blkM.lu_disassemb()"
   ]
  },
  {
   "cell_type": "code",
   "execution_count": null,
   "metadata": {},
   "outputs": [],
   "source": [
    "print(blkM)"
   ]
  },
  {
   "cell_type": "code",
   "execution_count": null,
   "metadata": {},
   "outputs": [],
   "source": [
    "print(blkM.get_l() * blkM.get_u())"
   ]
  },
  {
   "attachments": {},
   "cell_type": "markdown",
   "metadata": {},
   "source": [
    "### 4"
   ]
  },
  {
   "cell_type": "code",
   "execution_count": null,
   "metadata": {},
   "outputs": [],
   "source": [
    "contradiction = FullMatrix.zero(4,4, Fraction(0))\n",
    "\n",
    "for i in range(contradiction.shape[0]):\n",
    "    for j in range(contradiction.shape[1]):\n",
    "        contradiction[i, j] = Fraction(1 + i, 1 + j)\n",
    "print(contradiction)"
   ]
  },
  {
   "cell_type": "code",
   "execution_count": null,
   "metadata": {},
   "outputs": [],
   "source": [
    "try:\n",
    "    contradiction.lu()\n",
    "except:\n",
    "    ZeroDivisionError\n",
    "    print('Division by zero')"
   ]
  },
  {
   "cell_type": "code",
   "execution_count": null,
   "metadata": {},
   "outputs": [],
   "source": [
    "contradiction.lup()"
   ]
  },
  {
   "attachments": {},
   "cell_type": "markdown",
   "metadata": {},
   "source": [
    "### 5"
   ]
  },
  {
   "cell_type": "code",
   "execution_count": null,
   "metadata": {},
   "outputs": [],
   "source": [
    "m = FullMatrix.zero(3, 3, Fraction(0, 1))\n",
    "for i in range(m.height):\n",
    "    for j in range(m.width):\n",
    "        m[i,j] = randint(1, 10)\n",
    "print(m)\n",
    "\n",
    "b = FullMatrix.zero(3, 1, Fraction(0, 1))\n",
    "for i in range(b.height):\n",
    "    for j in range(b.width):\n",
    "        b[i,j] = randint(1, 20)\n",
    "print(b)\n"
   ]
  },
  {
   "cell_type": "code",
   "execution_count": null,
   "metadata": {},
   "outputs": [],
   "source": [
    "lu, p = m.lup()"
   ]
  },
  {
   "cell_type": "code",
   "execution_count": null,
   "metadata": {},
   "outputs": [],
   "source": [
    "print('P * b: \\n', p * b)"
   ]
  },
  {
   "cell_type": "code",
   "execution_count": null,
   "metadata": {},
   "outputs": [],
   "source": [
    "sol = m.solve(b)\n",
    "print(sol)"
   ]
  },
  {
   "cell_type": "code",
   "execution_count": null,
   "metadata": {},
   "outputs": [],
   "source": [
    "print(p * m * sol)"
   ]
  },
  {
   "attachments": {},
   "cell_type": "markdown",
   "metadata": {},
   "source": [
    "### 6"
   ]
  },
  {
   "cell_type": "code",
   "execution_count": null,
   "metadata": {},
   "outputs": [],
   "source": [
    "S = SymmetricMatrix.zero(3, 3, Fraction(3, 1))\n",
    "print(type(S))"
   ]
  },
  {
   "attachments": {},
   "cell_type": "markdown",
   "metadata": {},
   "source": [
    "Тест времени выполнения как для обычной матрицы и как для симметричной"
   ]
  },
  {
   "cell_type": "code",
   "execution_count": 73,
   "metadata": {},
   "outputs": [],
   "source": [
    "MAT_SIZE = 400\n",
    "\n",
    "REPEAT_NUMBER = 1"
   ]
  },
  {
   "cell_type": "code",
   "execution_count": 74,
   "metadata": {},
   "outputs": [],
   "source": [
    "def create_test_matrix(N):\n",
    "    B = FullMatrix.zero(N, N, 0)\n",
    "    for i in range(N):\n",
    "        for j in range(N):\n",
    "            B[i, j] = np.random.rand() + randint(1, N)\n",
    "    mat_full = B * B.transpose()\n",
    "    mat_sym = SymmetricMatrix(mat_full.data)\n",
    "    return mat_full, mat_sym\n",
    "\n",
    "def reg_time(mat):\n",
    "    return timeit.timeit(stmt = \"mat.lu()\", globals = {'mat': mat}, number = REPEAT_NUMBER)\n",
    "def reg_time_scipy(mat):\n",
    "    return timeit.timeit(stmt = \"linalg.lu(mat)\", setup = 'from scipy import linalg',  globals = {'mat': mat}, number = REPEAT_NUMBER)"
   ]
  },
  {
   "cell_type": "code",
   "execution_count": 75,
   "metadata": {},
   "outputs": [],
   "source": [
    "N_range = range(int(MAT_SIZE / 10), MAT_SIZE, int(MAT_SIZE / 10))\n",
    "\n",
    "N_list = [N for N in N_range]\n",
    "f_time = []\n",
    "s_time = []\n",
    "sci_time = []\n",
    "\n",
    "for n in N_range:\n",
    "    mat_f, mat_s = create_test_matrix(n)\n",
    "    mat_sci = mat_f.data\n",
    "    try:\n",
    "        f_time.append(reg_time(mat_f))\n",
    "        s_time.append(reg_time(mat_s))\n",
    "        sci_time.append(reg_time_scipy(mat_sci))\n",
    "    except:\n",
    "        del N_list[N_list.index(n)]"
   ]
  },
  {
   "cell_type": "code",
   "execution_count": 76,
   "metadata": {},
   "outputs": [],
   "source": [
    "N_cube = [n ** 3 for n in N_range]"
   ]
  },
  {
   "cell_type": "code",
   "execution_count": 77,
   "metadata": {},
   "outputs": [
    {
     "name": "stdout",
     "output_type": "stream",
     "text": [
      "N_list size = 9\n",
      "f_time size = 9\n",
      "s_time size = 9\n",
      "sci_time size = 9\n"
     ]
    }
   ],
   "source": [
    "print(f'N_list size = {len(N_list)}')\n",
    "print(f'f_time size = {len(f_time)}')\n",
    "print(f's_time size = {len(s_time)}')\n",
    "print(f'sci_time size = {len(sci_time)}')"
   ]
  },
  {
   "cell_type": "code",
   "execution_count": 78,
   "metadata": {},
   "outputs": [
    {
     "data": {
      "image/png": "[encoded data removed]",
      "text/plain": [
       "<Figure size 720x720 with 1 Axes>"
      ]
     },
     "metadata": {
      "needs_background": "light"
     },
     "output_type": "display_data"
    }
   ],
   "source": [
    "fig, ax = plt.subplots(figsize = (10, 10))\n",
    "plt.scatter(N_list, f_time, s = 20, label = f'full')\n",
    "plt.scatter(N_list, s_time, s = 20, label = 'symmetric')\n",
    "plt.scatter(N_list, sci_time, s = 20, label = 'scipy')\n",
    "plt.scatter(N_list, N_cube, s = 20, label = 'cube')\n",
    "plt.xlabel('size of matrix, N')\n",
    "plt.ylabel('time')\n",
    "plt.yscale('log')\n",
    "plt.xscale('log')\n",
    "plt.title('Time of LU decomposition vs size')\n",
    "plt.legend()\n",
    "plt.show()"
   ]
  }
 ],
 "metadata": {
  "kernelspec": {
   "display_name": "base",
   "language": "python",
   "name": "python3"
  },
  "language_info": {
   "codemirror_mode": {
    "name": "ipython",
    "version": 3
   },
   "file_extension": ".py",
   "mimetype": "text/x-python",
   "name": "python",
   "nbconvert_exporter": "python",
   "pygments_lexer": "ipython3",
   "version": "3.8.5"
  },
  "orig_nbformat": 4,
  "vscode": {
   "interpreter": {
    "hash": "e42634819b8c191a5d07eaf23810ff32516dd8d3875f28ec3e488928fbd3c187"
   }
  }
 },
 "nbformat": 4,
 "nbformat_minor": 2
}
