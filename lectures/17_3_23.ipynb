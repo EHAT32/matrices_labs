{
 "cells": [
  {
   "attachments": {},
   "cell_type": "markdown",
   "metadata": {},
   "source": [
    "# Ещё про LU"
   ]
  },
  {
   "attachments": {},
   "cell_type": "markdown",
   "metadata": {},
   "source": [
    "Недостатки:\n",
    "\n",
    "1. Преобразование не унитарное (ортогональное)\n",
    "\n",
    "2. Не сохраняет длины $\\Rightarrow$ растут ошибки"
   ]
  },
  {
   "attachments": {},
   "cell_type": "markdown",
   "metadata": {},
   "source": [
    "# QR-разложение"
   ]
  },
  {
   "attachments": {},
   "cell_type": "markdown",
   "metadata": {},
   "source": [
    "A = QR, где Q -- ортогональная матрица, R -- верхнетреугольная. Сложность разложения асимптотически $O(N^3)$, более устойчив в сравнении с LU."
   ]
  },
  {
   "attachments": {},
   "cell_type": "markdown",
   "metadata": {},
   "source": [
    "### Диагональное преобладание\n",
    "\n",
    "$|A_{kk}| \\geq \\sum\\limits_{j \\neq k} |A_{kj}|$"
   ]
  },
  {
   "attachments": {},
   "cell_type": "markdown",
   "metadata": {},
   "source": [
    "### $A \\geq 0$\n",
    "\n",
    "$(x, Ax) \\geq 0 \\; \\forall x$"
   ]
  },
  {
   "attachments": {},
   "cell_type": "markdown",
   "metadata": {},
   "source": [
    "### Q"
   ]
  },
  {
   "attachments": {},
   "cell_type": "markdown",
   "metadata": {},
   "source": [
    "$Qy = B \\Rightarrow y  Q^T B$, сложность порядка $O(N^2)$"
   ]
  },
  {
   "attachments": {},
   "cell_type": "markdown",
   "metadata": {},
   "source": [
    "### Устойчивость"
   ]
  },
  {
   "attachments": {},
   "cell_type": "markdown",
   "metadata": {},
   "source": [
    "$Ax = b \\rightarrow (A + \\Delta A) (x + \\Delta x) = B + \\Delta B$"
   ]
  },
  {
   "attachments": {},
   "cell_type": "markdown",
   "metadata": {},
   "source": [
    "Если нет ошибки в матрице, то $\\Delta x = A^{-1} \\Delta B$. Если матрица близка к вырожденной, то ошибка сильно растёт"
   ]
  },
  {
   "attachments": {},
   "cell_type": "markdown",
   "metadata": {},
   "source": [
    "Относительная ошибка:\n",
    "\n",
    "$\\dfrac{||\\Delta x||}{||x||} \\leq \\kappa(A) \\dfrac{||\\Delta B}{||B||}$"
   ]
  },
  {
   "attachments": {},
   "cell_type": "markdown",
   "metadata": {},
   "source": [
    "\n",
    "$\\kappa(A) = ||A|| \\cdot ||A^{-1}||$"
   ]
  },
  {
   "attachments": {},
   "cell_type": "markdown",
   "metadata": {},
   "source": [
    "Какую норму брать?"
   ]
  },
  {
   "attachments": {},
   "cell_type": "markdown",
   "metadata": {},
   "source": [
    "$||x||_p = \\left( \\sum\\limits_k |x_k|^p \\right)^{1/p}$\n",
    "\n",
    "$||x||_\\infty = \\sup\\limits_k |x|_k$\n",
    "\n",
    "---\n",
    "\n",
    "$||A|| = \\sup\\limits_{x \\neq 0} \\dfrac{||A x||}{|| x ||}$\n",
    "\n",
    "$||Ax||_q \\leq ||A||_{p,q} \\cdot ||x||_p$"
   ]
  },
  {
   "attachments": {},
   "cell_type": "markdown",
   "metadata": {},
   "source": [
    "Обычно будем брать евклидову норму"
   ]
  },
  {
   "attachments": {},
   "cell_type": "markdown",
   "metadata": {},
   "source": [
    "# SVD разложение"
   ]
  },
  {
   "attachments": {},
   "cell_type": "markdown",
   "metadata": {},
   "source": [
    "$A = U \\Sigma V$\n",
    "\n",
    "$U U^T = E$, $V V^T = E$, $\\Sigma = \\text{diag}(\\sigma_k) : \\sigma_k \\geq 0$"
   ]
  },
  {
   "attachments": {},
   "cell_type": "markdown",
   "metadata": {},
   "source": [
    "### Типы матриц"
   ]
  },
  {
   "attachments": {},
   "cell_type": "markdown",
   "metadata": {},
   "source": [
    "1. $A^* = A$\n",
    "\n",
    "2. $A \\geq 0$\n",
    "\n",
    "3. Треугольные\n",
    "\n",
    "4. Ленточные\n",
    "\n",
    "5. Тёплицевы (одно и то же на диагонали)\n",
    "\n",
    "6. Циркулянт (диагонализация через Фурье)\n",
    "\n",
    "7. Блочные\n",
    "\n",
    "8. Разреженные\n",
    "\n",
    "\n",
    "\n"
   ]
  }
 ],
 "metadata": {
  "language_info": {
   "name": "python"
  },
  "orig_nbformat": 4
 },
 "nbformat": 4,
 "nbformat_minor": 2
}
