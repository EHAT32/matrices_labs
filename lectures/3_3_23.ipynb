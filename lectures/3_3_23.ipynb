{
  "cells": [
    {
      "cell_type": "markdown",
      "metadata": {
        "id": "xmP0tbO2azc7"
      },
      "source": [
        "# GPU\n"
      ]
    },
    {
      "cell_type": "markdown",
      "metadata": {
        "id": "ohcHRwn6a6om"
      },
      "source": [
        "```\n",
        "numba.cuda # под NVIDIA\n",
        "#rocm для AMD\n",
        "#универсальная вещь - OpenCL\n",
        "```"
      ]
    },
    {
      "cell_type": "markdown",
      "metadata": {
        "id": "TRL-DI_QcEkL"
      },
      "source": [
        "```\n",
        "from numba.cuda import jit\n",
        "```"
      ]
    },
    {
      "cell_type": "markdown",
      "metadata": {
        "id": "gPOmJjFtcTmo"
      },
      "source": [
        "Но есть нюансы . Как работает акселлератор? Из чего состоит GPU?\n",
        "\n",
        "В нём есть:\n",
        "\n",
        "А. RAM (видеопамять). Она быстрее обычной RAM (есть поколения GDDR6)\n",
        "\n",
        "B. Процессоры: Computation Unit. Которые могут считать независимо. Можем делать параллельно. Их тысячи, а то и десятки.\n",
        "\n",
        "```\n",
        "@jit\n",
        "def compute(a, b): #массив, в который передаём результат, надо записать в аргументы, как такового return для cuda нет\n",
        "  i = nb.cuda.grid(1) #можно вызвать только внутри ядра\n",
        "  b[i] = 2 * a[i]\n",
        "\n",
        "```\n",
        "Посчитаем на чём-нибудь, при этом решётку надо прописать явно\n",
        "```\n",
        "a = np.arange(1000000)\n",
        "b = np.empty_like(a)\n",
        "compute[(1000000)](a, b) #этот миллион и определяет размер решётки. Он должен соответствовать размеру массива\n",
        "```\n",
        "i у нас пробегает трёхмерную решётку в общем случае (узлы решётки), потому что так GPU устроен\n",
        "\n",
        "Для нашего случая подойдёт одномерная решётка, тогда $i \\in \\left[ 0, \\dots, 999999 \\right]$\n",
        "\n",
        "Решётки не могут создаваться любых размеров. Они кратны какому-то число (вроде как 32). То есть если массив будет поменьше решётки, то не пойми что будет писаться в полезную память. Нужно сделать проверку\n",
        "```\n",
        "@jit\n",
        "def compute(a, b): \n",
        "  i = nb.cuda.grid(1)\n",
        "  if i < a.shape[0]:\n",
        "    b[i] = 2 * a[i]\n",
        "\n",
        "```\n",
        "Принципиальный ограничений на решётку (кроме размеров) нет."
      ]
    },
    {
      "cell_type": "markdown",
      "metadata": {
        "id": "zhRGoGF6hIno"
      },
      "source": [
        "## Память акселлератора"
      ]
    },
    {
      "cell_type": "markdown",
      "metadata": {
        "id": "tzXu89V9hLGh"
      },
      "source": [
        "Есть память для констант (VRAM)\n",
        "\n",
        "Есть память, специфичная для каждого ядра (кэш), но есть и общий кэш.\n",
        "\n",
        "Хотим ещё иерархию памяти, которая будет медленнее, но хранить больше. Общая для рабочей группы (WG)\n",
        "\n",
        "Поэтому в compute надо подавать ещё память для рабочей группы. А сколько памяти на самом деле мы используем?"
      ]
    },
    {
      "cell_type": "markdown",
      "metadata": {
        "id": "9uvyw99AiiIb"
      },
      "source": [
        "```\n",
        "@jit\n",
        "def compute(a, b): \n",
        "  i = nb.cuda.grid(1)\n",
        "  if i < a.shape[0]:\n",
        "    b[i] = 2 * a[i]\n",
        "\n",
        "a = np.arange(1000000)\n",
        "b = np.empty_like(a)\n",
        "compute[(1000000), (2 ** 16) / 32](a, b) #2 в какой-то степени и ещё надо поделить на размер варпа\n",
        "```\n",
        "\n",
        "Сама сетка будет с клетками размера WG"
      ]
    },
    {
      "cell_type": "markdown",
      "metadata": {
        "id": "V_cQT5SfjJTa"
      },
      "source": [
        "Попробуем сложить два массива"
      ]
    },
    {
      "cell_type": "code",
      "execution_count": 1,
      "metadata": {
        "id": "fe2F2R-8jL7t"
      },
      "outputs": [],
      "source": [
        "import numba.cuda as cuda\n",
        "from numba.cuda import jit \n",
        "import numpy as np"
      ]
    },
    {
      "cell_type": "code",
      "execution_count": 2,
      "metadata": {
        "id": "DYF4_T_Hjd49"
      },
      "outputs": [],
      "source": [
        "N = 2 ** 14\n",
        "a = np.random.random((N, N))\n",
        "b = np.random.random((N, N))\n",
        "c = np.empty_like(a)"
      ]
    },
    {
      "cell_type": "code",
      "execution_count": 3,
      "metadata": {
        "colab": {
          "base_uri": "https://localhost:8080/",
          "height": 589
        },
        "id": "7_CI7ZY-kmMe",
        "outputId": "a85f9263-25c2-479c-f462-fdd893bd3fe2"
      },
      "outputs": [],
      "source": [
        "@cuda.jit('(float64[:, :], float64[:, :], float64[:, :])')\n",
        "def add(a, b, c):\n",
        "  ix, iy = cuda.grid(2)\n",
        "  if ix < a.shape[0] and iy < a.shape[1]:\n",
        "    c[ix, iy] = a[ix, iy] + b[ix, iy]"
      ]
    },
    {
      "cell_type": "code",
      "execution_count": null,
      "metadata": {
        "id": "LxIs0dw3lVpv"
      },
      "outputs": [],
      "source": [
        "add[(N, N), (2 ** 5, 2 ** 5)](a, b, c)"
      ]
    },
    {
      "cell_type": "markdown",
      "metadata": {
        "id": "6Lx9vkivugK9"
      },
      "source": [
        "# Свёртки. Оператор Лапласа"
      ]
    },
    {
      "cell_type": "markdown",
      "metadata": {
        "id": "rieO2ZwCuj98"
      },
      "source": [
        "$\\left( \\Delta f \\right)_k = \\dfrac{f(k + 1) - 2f(k) + f(k - 1)}{\\delta^2}$"
      ]
    },
    {
      "cell_type": "code",
      "execution_count": 4,
      "metadata": {
        "id": "LQID39lCu2mZ"
      },
      "outputs": [],
      "source": [
        "@cuda.jit\n",
        "def laplace(f, l):\n",
        "  k = cuda.grid(1)\n",
        "  if 1 <= k < f.shape[0]:\n",
        "    l[k] = f[k + 1] - 2 * f[k] + f[k - 1] #есть проблема перечитывания данных, мы должны выделить общую память, для перекрывающихся f[k]"
      ]
    },
    {
      "cell_type": "markdown",
      "metadata": {
        "id": "HHEQ_rDGwnOK"
      },
      "source": [
        "Как выглядит Grid:\n",
        "\n",
        "![image.png](data:image/png;base64,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)"
      ]
    },
    {
      "cell_type": "markdown",
      "metadata": {
        "id": "dX5UJNx0w9Zt"
      },
      "source": [
        "Если хотим так сгрупировать, то будут такие блоки:\n",
        "\n",
        "block = 0: $[l_1 \\; l_2]$ у каждого l будут индексы ith=0,1 \n",
        "\n",
        "block = 1: $[l_3 \\; l_4]$\n",
        "\n",
        "Пронумеруем индексы"
      ]
    },
    {
      "cell_type": "code",
      "execution_count": 6,
      "metadata": {
        "id": "1EplyW2XxRuR"
      },
      "outputs": [],
      "source": [
        "@cuda.jit\n",
        "def laplace(f, l):\n",
        "  ith = cuda.threadIdx(1)\n",
        "  ib = cuda.blockIdx(1)\n",
        "  ig = ib * cuda.blockDim.x + ith #также это делает cuda.grid(1)\n",
        "  k = cuda.grid(1)\n",
        "  c = cuda.shared.array(32) #создаётся массив в общей памяти для wg\n",
        "  c[ith] = f[ig] #записываем в кэш\n",
        "  cuda.syncthreads() #потоки начнут работать одновременно и можно быть спокойным, что всё запишется\n",
        "  l[ig] = - 2 * [ith] + c [ith + 1] + c[ith - 1]"
      ]
    }
  ],
  "metadata": {
    "colab": {
      "provenance": []
    },
    "kernelspec": {
      "display_name": "Python 3",
      "name": "python3"
    },
    "language_info": {
      "codemirror_mode": {
        "name": "ipython",
        "version": 3
      },
      "file_extension": ".py",
      "mimetype": "text/x-python",
      "name": "python",
      "nbconvert_exporter": "python",
      "pygments_lexer": "ipython3",
      "version": "3.8.16"
    }
  },
  "nbformat": 4,
  "nbformat_minor": 0
}
